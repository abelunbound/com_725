{
 "cells": [
  {
   "cell_type": "code",
   "execution_count": 14,
   "metadata": {},
   "outputs": [],
   "source": [
    "import pandas as pd\n",
    "import numpy as np\n",
    "import plotly.express as px\n",
    "import seaborn as sns\n",
    "import matplotlib.pyplot as plt"
   ]
  },
  {
   "cell_type": "code",
   "execution_count": 4,
   "metadata": {},
   "outputs": [
    {
     "data": {
      "text/html": [
       "<div>\n",
       "<style scoped>\n",
       "    .dataframe tbody tr th:only-of-type {\n",
       "        vertical-align: middle;\n",
       "    }\n",
       "\n",
       "    .dataframe tbody tr th {\n",
       "        vertical-align: top;\n",
       "    }\n",
       "\n",
       "    .dataframe thead th {\n",
       "        text-align: right;\n",
       "    }\n",
       "</style>\n",
       "<table border=\"1\" class=\"dataframe\">\n",
       "  <thead>\n",
       "    <tr style=\"text-align: right;\">\n",
       "      <th></th>\n",
       "      <th>Country</th>\n",
       "      <th>Region</th>\n",
       "      <th>Population</th>\n",
       "      <th>Area (sq. mi.)</th>\n",
       "      <th>Pop. Density (per sq. mi.)</th>\n",
       "      <th>Coastline (coast/area ratio)</th>\n",
       "      <th>Net migration</th>\n",
       "      <th>Infant mortality (per 1000 births)</th>\n",
       "      <th>GDP ($ per capita)</th>\n",
       "      <th>Literacy (%)</th>\n",
       "      <th>Phones (per 1000)</th>\n",
       "      <th>Arable (%)</th>\n",
       "      <th>Crops (%)</th>\n",
       "      <th>Other (%)</th>\n",
       "      <th>Climate</th>\n",
       "      <th>Birthrate</th>\n",
       "      <th>Deathrate</th>\n",
       "      <th>Agriculture</th>\n",
       "      <th>Industry</th>\n",
       "      <th>Service</th>\n",
       "    </tr>\n",
       "  </thead>\n",
       "  <tbody>\n",
       "    <tr>\n",
       "      <th>0</th>\n",
       "      <td>Afghanistan</td>\n",
       "      <td>ASIA (EX. NEAR EAST)</td>\n",
       "      <td>31056997</td>\n",
       "      <td>647500</td>\n",
       "      <td>48,0</td>\n",
       "      <td>0,00</td>\n",
       "      <td>23,06</td>\n",
       "      <td>163,07</td>\n",
       "      <td>700.0</td>\n",
       "      <td>36,0</td>\n",
       "      <td>3,2</td>\n",
       "      <td>12,13</td>\n",
       "      <td>0,22</td>\n",
       "      <td>87,65</td>\n",
       "      <td>1</td>\n",
       "      <td>46,6</td>\n",
       "      <td>20,34</td>\n",
       "      <td>0,38</td>\n",
       "      <td>0,24</td>\n",
       "      <td>0,38</td>\n",
       "    </tr>\n",
       "    <tr>\n",
       "      <th>1</th>\n",
       "      <td>Albania</td>\n",
       "      <td>EASTERN EUROPE</td>\n",
       "      <td>3581655</td>\n",
       "      <td>28748</td>\n",
       "      <td>124,6</td>\n",
       "      <td>1,26</td>\n",
       "      <td>-4,93</td>\n",
       "      <td>21,52</td>\n",
       "      <td>4500.0</td>\n",
       "      <td>86,5</td>\n",
       "      <td>71,2</td>\n",
       "      <td>21,09</td>\n",
       "      <td>4,42</td>\n",
       "      <td>74,49</td>\n",
       "      <td>3</td>\n",
       "      <td>15,11</td>\n",
       "      <td>5,22</td>\n",
       "      <td>0,232</td>\n",
       "      <td>0,188</td>\n",
       "      <td>0,579</td>\n",
       "    </tr>\n",
       "    <tr>\n",
       "      <th>2</th>\n",
       "      <td>Algeria</td>\n",
       "      <td>NORTHERN AFRICA</td>\n",
       "      <td>32930091</td>\n",
       "      <td>2381740</td>\n",
       "      <td>13,8</td>\n",
       "      <td>0,04</td>\n",
       "      <td>-0,39</td>\n",
       "      <td>31</td>\n",
       "      <td>6000.0</td>\n",
       "      <td>70,0</td>\n",
       "      <td>78,1</td>\n",
       "      <td>3,22</td>\n",
       "      <td>0,25</td>\n",
       "      <td>96,53</td>\n",
       "      <td>1</td>\n",
       "      <td>17,14</td>\n",
       "      <td>4,61</td>\n",
       "      <td>0,101</td>\n",
       "      <td>0,6</td>\n",
       "      <td>0,298</td>\n",
       "    </tr>\n",
       "    <tr>\n",
       "      <th>3</th>\n",
       "      <td>American Samoa</td>\n",
       "      <td>OCEANIA</td>\n",
       "      <td>57794</td>\n",
       "      <td>199</td>\n",
       "      <td>290,4</td>\n",
       "      <td>58,29</td>\n",
       "      <td>-20,71</td>\n",
       "      <td>9,27</td>\n",
       "      <td>8000.0</td>\n",
       "      <td>97,0</td>\n",
       "      <td>259,5</td>\n",
       "      <td>10</td>\n",
       "      <td>15</td>\n",
       "      <td>75</td>\n",
       "      <td>2</td>\n",
       "      <td>22,46</td>\n",
       "      <td>3,27</td>\n",
       "      <td>NaN</td>\n",
       "      <td>NaN</td>\n",
       "      <td>NaN</td>\n",
       "    </tr>\n",
       "    <tr>\n",
       "      <th>4</th>\n",
       "      <td>Andorra</td>\n",
       "      <td>WESTERN EUROPE</td>\n",
       "      <td>71201</td>\n",
       "      <td>468</td>\n",
       "      <td>152,1</td>\n",
       "      <td>0,00</td>\n",
       "      <td>6,6</td>\n",
       "      <td>4,05</td>\n",
       "      <td>19000.0</td>\n",
       "      <td>100,0</td>\n",
       "      <td>497,2</td>\n",
       "      <td>2,22</td>\n",
       "      <td>0</td>\n",
       "      <td>97,78</td>\n",
       "      <td>3</td>\n",
       "      <td>8,71</td>\n",
       "      <td>6,25</td>\n",
       "      <td>NaN</td>\n",
       "      <td>NaN</td>\n",
       "      <td>NaN</td>\n",
       "    </tr>\n",
       "  </tbody>\n",
       "</table>\n",
       "</div>"
      ],
      "text/plain": [
       "           Country                               Region  Population  \\\n",
       "0     Afghanistan         ASIA (EX. NEAR EAST)             31056997   \n",
       "1         Albania   EASTERN EUROPE                          3581655   \n",
       "2         Algeria   NORTHERN AFRICA                        32930091   \n",
       "3  American Samoa   OCEANIA                                   57794   \n",
       "4         Andorra   WESTERN EUROPE                            71201   \n",
       "\n",
       "   Area (sq. mi.) Pop. Density (per sq. mi.) Coastline (coast/area ratio)  \\\n",
       "0          647500                       48,0                         0,00   \n",
       "1           28748                      124,6                         1,26   \n",
       "2         2381740                       13,8                         0,04   \n",
       "3             199                      290,4                        58,29   \n",
       "4             468                      152,1                         0,00   \n",
       "\n",
       "  Net migration Infant mortality (per 1000 births)  GDP ($ per capita)  \\\n",
       "0         23,06                             163,07               700.0   \n",
       "1         -4,93                              21,52              4500.0   \n",
       "2         -0,39                                 31              6000.0   \n",
       "3        -20,71                               9,27              8000.0   \n",
       "4           6,6                               4,05             19000.0   \n",
       "\n",
       "  Literacy (%) Phones (per 1000) Arable (%) Crops (%) Other (%) Climate  \\\n",
       "0         36,0               3,2      12,13      0,22     87,65       1   \n",
       "1         86,5              71,2      21,09      4,42     74,49       3   \n",
       "2         70,0              78,1       3,22      0,25     96,53       1   \n",
       "3         97,0             259,5         10        15        75       2   \n",
       "4        100,0             497,2       2,22         0     97,78       3   \n",
       "\n",
       "  Birthrate Deathrate Agriculture Industry Service  \n",
       "0      46,6     20,34        0,38     0,24    0,38  \n",
       "1     15,11      5,22       0,232    0,188   0,579  \n",
       "2     17,14      4,61       0,101      0,6   0,298  \n",
       "3     22,46      3,27         NaN      NaN     NaN  \n",
       "4      8,71      6,25         NaN      NaN     NaN  "
      ]
     },
     "execution_count": 4,
     "metadata": {},
     "output_type": "execute_result"
    }
   ],
   "source": [
    "world_data = pd.read_csv('countries of the world.csv')\n",
    "world_data.head()"
   ]
  },
  {
   "cell_type": "code",
   "execution_count": 6,
   "metadata": {},
   "outputs": [
    {
     "name": "stderr",
     "output_type": "stream",
     "text": [
      "C:\\ProgramData\\Anaconda3\\lib\\site-packages\\plotly\\express\\_core.py:1637: FutureWarning:\n",
      "\n",
      "The frame.append method is deprecated and will be removed from pandas in a future version. Use pandas.concat instead.\n",
      "\n",
      "C:\\ProgramData\\Anaconda3\\lib\\site-packages\\plotly\\express\\_core.py:1637: FutureWarning:\n",
      "\n",
      "The frame.append method is deprecated and will be removed from pandas in a future version. Use pandas.concat instead.\n",
      "\n"
     ]
    },
    {
     "data": {
      "application/vnd.plotly.v1+json": {
       "config": {
        "plotlyServerURL": "https://plot.ly"
       },
       "data": [
        {
         "branchvalues": "total",
         "customdata": [
          [
           700
          ],
          [
           4500
          ],
          [
           6000
          ],
          [
           8000
          ],
          [
           19000
          ],
          [
           1900
          ],
          [
           8600
          ],
          [
           11000
          ],
          [
           11200
          ],
          [
           3500
          ],
          [
           28000
          ],
          [
           29000
          ],
          [
           30000
          ],
          [
           3400
          ],
          [
           16700
          ],
          [
           16900
          ],
          [
           1900
          ],
          [
           15700
          ],
          [
           6100
          ],
          [
           29100
          ],
          [
           4900
          ],
          [
           1100
          ],
          [
           36000
          ],
          [
           1300
          ],
          [
           2400
          ],
          [
           6100
          ],
          [
           9000
          ],
          [
           7600
          ],
          [
           16000
          ],
          [
           18600
          ],
          [
           7600
          ],
          [
           1100
          ],
          [
           1800
          ],
          [
           600
          ],
          [
           1900
          ],
          [
           1800
          ],
          [
           29800
          ],
          [
           1400
          ],
          [
           35000
          ],
          [
           1100
          ],
          [
           1200
          ],
          [
           9900
          ],
          [
           5000
          ],
          [
           6300
          ],
          [
           700
          ],
          [
           700
          ],
          [
           700
          ],
          [
           5000
          ],
          [
           9100
          ],
          [
           1400
          ],
          [
           10600
          ],
          [
           2900
          ],
          [
           19200
          ],
          [
           15700
          ],
          [
           31100
          ],
          [
           1300
          ],
          [
           5400
          ],
          [
           6000
          ],
          [
           500
          ],
          [
           3300
          ],
          [
           4000
          ],
          [
           4800
          ],
          [
           2700
          ],
          [
           700
          ],
          [
           12300
          ],
          [
           700
          ],
          [
           22000
          ],
          [
           5800
          ],
          [
           27400
          ],
          [
           27600
          ],
          [
           8300
          ],
          [
           17500
          ],
          [
           5500
          ],
          [
           1700
          ],
          [
           600
          ],
          [
           2500
          ],
          [
           27600
          ],
          [
           2200
          ],
          [
           17500
          ],
          [
           20000
          ],
          [
           20000
          ],
          [
           5000
          ],
          [
           8000
          ],
          [
           21000
          ],
          [
           4100
          ],
          [
           20000
          ],
          [
           2100
          ],
          [
           800
          ],
          [
           4000
          ],
          [
           1600
          ],
          [
           2600
          ],
          [
           28800
          ],
          [
           13900
          ],
          [
           30900
          ],
          [
           2900
          ],
          [
           3200
          ],
          [
           7000
          ],
          [
           1500
          ],
          [
           29600
          ],
          [
           21000
          ],
          [
           19800
          ],
          [
           26700
          ],
          [
           3900
          ],
          [
           28200
          ],
          [
           24800
          ],
          [
           4300
          ],
          [
           6300
          ],
          [
           1000
          ],
          [
           800
          ],
          [
           1300
          ],
          [
           17800
          ],
          [
           19000
          ],
          [
           1600
          ],
          [
           1700
          ],
          [
           10200
          ],
          [
           4800
          ],
          [
           3000
          ],
          [
           1000
          ],
          [
           6400
          ],
          [
           25000
          ],
          [
           11400
          ],
          [
           55100
          ],
          [
           19400
          ],
          [
           6700
          ],
          [
           800
          ],
          [
           600
          ],
          [
           9000
          ],
          [
           3900
          ],
          [
           900
          ],
          [
           17700
          ],
          [
           1600
          ],
          [
           14400
          ],
          [
           1800
          ],
          [
           11400
          ],
          [
           2600
          ],
          [
           9000
          ],
          [
           2000
          ],
          [
           1800
          ],
          [
           27000
          ],
          [
           1800
          ],
          [
           3400
          ],
          [
           4000
          ],
          [
           1200
          ],
          [
           12500
          ],
          [
           7200
          ],
          [
           5000
          ],
          [
           1400
          ],
          [
           28600
          ],
          [
           11400
          ],
          [
           15000
          ],
          [
           21600
          ],
          [
           2300
          ],
          [
           800
          ],
          [
           900
          ],
          [
           37800
          ],
          [
           13100
          ],
          [
           2100
          ],
          [
           9000
          ],
          [
           6300
          ],
          [
           2200
          ],
          [
           4700
          ],
          [
           5100
          ],
          [
           4600
          ],
          [
           11100
          ],
          [
           18000
          ],
          [
           16800
          ],
          [
           21500
          ],
          [
           5800
          ],
          [
           7000
          ],
          [
           8900
          ],
          [
           1300
          ],
          [
           2500
          ],
          [
           8800
          ],
          [
           5400
          ],
          [
           2900
          ],
          [
           5600
          ],
          [
           34600
          ],
          [
           1200
          ],
          [
           11800
          ],
          [
           1600
          ],
          [
           2200
          ],
          [
           7800
          ],
          [
           500
          ],
          [
           23700
          ],
          [
           13300
          ],
          [
           19000
          ],
          [
           1700
          ],
          [
           500
          ],
          [
           10700
          ],
          [
           22000
          ],
          [
           3700
          ],
          [
           6900
          ],
          [
           1900
          ],
          [
           4000
          ],
          [
           4900
          ],
          [
           26800
          ],
          [
           32700
          ],
          [
           3300
          ],
          [
           23400
          ],
          [
           1000
          ],
          [
           600
          ],
          [
           7400
          ],
          [
           1500
          ],
          [
           2200
          ],
          [
           9500
          ],
          [
           6900
          ],
          [
           6700
          ],
          [
           5800
          ],
          [
           9600
          ],
          [
           1100
          ],
          [
           1400
          ],
          [
           5400
          ],
          [
           23200
          ],
          [
           27700
          ],
          [
           37800
          ],
          [
           12800
          ],
          [
           1700
          ],
          [
           2900
          ],
          [
           4800
          ],
          [
           2500
          ],
          [
           17200
          ],
          [
           3700
          ],
          [
           800
          ],
          [
           null
          ],
          [
           800
          ],
          [
           800
          ],
          [
           1900
          ],
          [
           5039.349432565976
          ],
          [
           11185.972461417397
          ],
          [
           6538.318590698449
          ],
          [
           9803.698182434104
          ],
          [
           7273.077976067759
          ],
          [
           6539.852565134122
          ],
          [
           null
          ],
          [
           36997.61110293721
          ],
          [
           21436.496608591504
          ],
          [
           1725.5092750958386
          ],
          [
           26864.002957127734
          ]
         ],
         "domain": {
          "x": [
           0,
           1
          ],
          "y": [
           0,
           1
          ]
         },
         "hovertemplate": "labels=%{label}<br>Population=%{value}<br>parent=%{parent}<br>id=%{id}<br>GDP ($ per capita)=%{color}<extra></extra>",
         "ids": [
          "ASIA (EX. NEAR EAST)         /Afghanistan ",
          "EASTERN EUROPE                     /Albania ",
          "NORTHERN AFRICA                    /Algeria ",
          "OCEANIA                            /American Samoa ",
          "WESTERN EUROPE                     /Andorra ",
          "SUB-SAHARAN AFRICA                 /Angola ",
          "LATIN AMER. & CARIB    /Anguilla ",
          "LATIN AMER. & CARIB    /Antigua & Barbuda ",
          "LATIN AMER. & CARIB    /Argentina ",
          "C.W. OF IND. STATES /Armenia ",
          "LATIN AMER. & CARIB    /Aruba ",
          "OCEANIA                            /Australia ",
          "WESTERN EUROPE                     /Austria ",
          "C.W. OF IND. STATES /Azerbaijan ",
          "LATIN AMER. & CARIB    /Bahamas, The ",
          "NEAR EAST                          /Bahrain ",
          "ASIA (EX. NEAR EAST)         /Bangladesh ",
          "LATIN AMER. & CARIB    /Barbados ",
          "C.W. OF IND. STATES /Belarus ",
          "WESTERN EUROPE                     /Belgium ",
          "LATIN AMER. & CARIB    /Belize ",
          "SUB-SAHARAN AFRICA                 /Benin ",
          "NORTHERN AMERICA                   /Bermuda ",
          "ASIA (EX. NEAR EAST)         /Bhutan ",
          "LATIN AMER. & CARIB    /Bolivia ",
          "EASTERN EUROPE                     /Bosnia & Herzegovina ",
          "SUB-SAHARAN AFRICA                 /Botswana ",
          "LATIN AMER. & CARIB    /Brazil ",
          "LATIN AMER. & CARIB    /British Virgin Is. ",
          "ASIA (EX. NEAR EAST)         /Brunei ",
          "EASTERN EUROPE                     /Bulgaria ",
          "SUB-SAHARAN AFRICA                 /Burkina Faso ",
          "ASIA (EX. NEAR EAST)         /Burma ",
          "SUB-SAHARAN AFRICA                 /Burundi ",
          "ASIA (EX. NEAR EAST)         /Cambodia ",
          "SUB-SAHARAN AFRICA                 /Cameroon ",
          "NORTHERN AMERICA                   /Canada ",
          "SUB-SAHARAN AFRICA                 /Cape Verde ",
          "LATIN AMER. & CARIB    /Cayman Islands ",
          "SUB-SAHARAN AFRICA                 /Central African Rep. ",
          "SUB-SAHARAN AFRICA                 /Chad ",
          "LATIN AMER. & CARIB    /Chile ",
          "ASIA (EX. NEAR EAST)         /China ",
          "LATIN AMER. & CARIB    /Colombia ",
          "SUB-SAHARAN AFRICA                 /Comoros ",
          "SUB-SAHARAN AFRICA                 /Congo, Dem. Rep. ",
          "SUB-SAHARAN AFRICA                 /Congo, Repub. of the ",
          "OCEANIA                            /Cook Islands ",
          "LATIN AMER. & CARIB    /Costa Rica ",
          "SUB-SAHARAN AFRICA                 /Cote d'Ivoire ",
          "EASTERN EUROPE                     /Croatia ",
          "LATIN AMER. & CARIB    /Cuba ",
          "NEAR EAST                          /Cyprus ",
          "EASTERN EUROPE                     /Czech Republic ",
          "WESTERN EUROPE                     /Denmark ",
          "SUB-SAHARAN AFRICA                 /Djibouti ",
          "LATIN AMER. & CARIB    /Dominica ",
          "LATIN AMER. & CARIB    /Dominican Republic ",
          "ASIA (EX. NEAR EAST)         /East Timor ",
          "LATIN AMER. & CARIB    /Ecuador ",
          "NORTHERN AFRICA                    /Egypt ",
          "LATIN AMER. & CARIB    /El Salvador ",
          "SUB-SAHARAN AFRICA                 /Equatorial Guinea ",
          "SUB-SAHARAN AFRICA                 /Eritrea ",
          "BALTICS                            /Estonia ",
          "SUB-SAHARAN AFRICA                 /Ethiopia ",
          "WESTERN EUROPE                     /Faroe Islands ",
          "OCEANIA                            /Fiji ",
          "WESTERN EUROPE                     /Finland ",
          "WESTERN EUROPE                     /France ",
          "LATIN AMER. & CARIB    /French Guiana ",
          "OCEANIA                            /French Polynesia ",
          "SUB-SAHARAN AFRICA                 /Gabon ",
          "SUB-SAHARAN AFRICA                 /Gambia, The ",
          "NEAR EAST                          /Gaza Strip ",
          "C.W. OF IND. STATES /Georgia ",
          "WESTERN EUROPE                     /Germany ",
          "SUB-SAHARAN AFRICA                 /Ghana ",
          "WESTERN EUROPE                     /Gibraltar ",
          "WESTERN EUROPE                     /Greece ",
          "NORTHERN AMERICA                   /Greenland ",
          "LATIN AMER. & CARIB    /Grenada ",
          "LATIN AMER. & CARIB    /Guadeloupe ",
          "OCEANIA                            /Guam ",
          "LATIN AMER. & CARIB    /Guatemala ",
          "WESTERN EUROPE                     /Guernsey ",
          "SUB-SAHARAN AFRICA                 /Guinea ",
          "SUB-SAHARAN AFRICA                 /Guinea-Bissau ",
          "LATIN AMER. & CARIB    /Guyana ",
          "LATIN AMER. & CARIB    /Haiti ",
          "LATIN AMER. & CARIB    /Honduras ",
          "ASIA (EX. NEAR EAST)         /Hong Kong ",
          "EASTERN EUROPE                     /Hungary ",
          "WESTERN EUROPE                     /Iceland ",
          "ASIA (EX. NEAR EAST)         /India ",
          "ASIA (EX. NEAR EAST)         /Indonesia ",
          "ASIA (EX. NEAR EAST)         /Iran ",
          "NEAR EAST                          /Iraq ",
          "WESTERN EUROPE                     /Ireland ",
          "WESTERN EUROPE                     /Isle of Man ",
          "NEAR EAST                          /Israel ",
          "WESTERN EUROPE                     /Italy ",
          "LATIN AMER. & CARIB    /Jamaica ",
          "ASIA (EX. NEAR EAST)         /Japan ",
          "WESTERN EUROPE                     /Jersey ",
          "NEAR EAST                          /Jordan ",
          "C.W. OF IND. STATES /Kazakhstan ",
          "SUB-SAHARAN AFRICA                 /Kenya ",
          "OCEANIA                            /Kiribati ",
          "ASIA (EX. NEAR EAST)         /Korea, North ",
          "ASIA (EX. NEAR EAST)         /Korea, South ",
          "NEAR EAST                          /Kuwait ",
          "C.W. OF IND. STATES /Kyrgyzstan ",
          "ASIA (EX. NEAR EAST)         /Laos ",
          "BALTICS                            /Latvia ",
          "NEAR EAST                          /Lebanon ",
          "SUB-SAHARAN AFRICA                 /Lesotho ",
          "SUB-SAHARAN AFRICA                 /Liberia ",
          "NORTHERN AFRICA                    /Libya ",
          "WESTERN EUROPE                     /Liechtenstein ",
          "BALTICS                            /Lithuania ",
          "WESTERN EUROPE                     /Luxembourg ",
          "ASIA (EX. NEAR EAST)         /Macau ",
          "EASTERN EUROPE                     /Macedonia ",
          "SUB-SAHARAN AFRICA                 /Madagascar ",
          "SUB-SAHARAN AFRICA                 /Malawi ",
          "ASIA (EX. NEAR EAST)         /Malaysia ",
          "ASIA (EX. NEAR EAST)         /Maldives ",
          "SUB-SAHARAN AFRICA                 /Mali ",
          "WESTERN EUROPE                     /Malta ",
          "OCEANIA                            /Marshall Islands ",
          "LATIN AMER. & CARIB    /Martinique ",
          "SUB-SAHARAN AFRICA                 /Mauritania ",
          "SUB-SAHARAN AFRICA                 /Mauritius ",
          "SUB-SAHARAN AFRICA                 /Mayotte ",
          "LATIN AMER. & CARIB    /Mexico ",
          "OCEANIA                            /Micronesia, Fed. St. ",
          "C.W. OF IND. STATES /Moldova ",
          "WESTERN EUROPE                     /Monaco ",
          "ASIA (EX. NEAR EAST)         /Mongolia ",
          "LATIN AMER. & CARIB    /Montserrat ",
          "NORTHERN AFRICA                    /Morocco ",
          "SUB-SAHARAN AFRICA                 /Mozambique ",
          "OCEANIA                            /N. Mariana Islands ",
          "SUB-SAHARAN AFRICA                 /Namibia ",
          "OCEANIA                            /Nauru ",
          "ASIA (EX. NEAR EAST)         /Nepal ",
          "WESTERN EUROPE                     /Netherlands ",
          "LATIN AMER. & CARIB    /Netherlands Antilles ",
          "OCEANIA                            /New Caledonia ",
          "OCEANIA                            /New Zealand ",
          "LATIN AMER. & CARIB    /Nicaragua ",
          "SUB-SAHARAN AFRICA                 /Niger ",
          "SUB-SAHARAN AFRICA                 /Nigeria ",
          "WESTERN EUROPE                     /Norway ",
          "NEAR EAST                          /Oman ",
          "ASIA (EX. NEAR EAST)         /Pakistan ",
          "OCEANIA                            /Palau ",
          "LATIN AMER. & CARIB    /Panama ",
          "OCEANIA                            /Papua New Guinea ",
          "LATIN AMER. & CARIB    /Paraguay ",
          "LATIN AMER. & CARIB    /Peru ",
          "ASIA (EX. NEAR EAST)         /Philippines ",
          "EASTERN EUROPE                     /Poland ",
          "WESTERN EUROPE                     /Portugal ",
          "LATIN AMER. & CARIB    /Puerto Rico ",
          "NEAR EAST                          /Qatar ",
          "SUB-SAHARAN AFRICA                 /Reunion ",
          "EASTERN EUROPE                     /Romania ",
          "C.W. OF IND. STATES /Russia ",
          "SUB-SAHARAN AFRICA                 /Rwanda ",
          "SUB-SAHARAN AFRICA                 /Saint Helena ",
          "LATIN AMER. & CARIB    /Saint Kitts & Nevis ",
          "LATIN AMER. & CARIB    /Saint Lucia ",
          "LATIN AMER. & CARIB    /Saint Vincent and the Grenadines ",
          "OCEANIA                            /Samoa ",
          "WESTERN EUROPE                     /San Marino ",
          "SUB-SAHARAN AFRICA                 /Sao Tome & Principe ",
          "NEAR EAST                          /Saudi Arabia ",
          "SUB-SAHARAN AFRICA                 /Senegal ",
          "EASTERN EUROPE                     /Serbia ",
          "SUB-SAHARAN AFRICA                 /Seychelles ",
          "SUB-SAHARAN AFRICA                 /Sierra Leone ",
          "ASIA (EX. NEAR EAST)         /Singapore ",
          "EASTERN EUROPE                     /Slovakia ",
          "EASTERN EUROPE                     /Slovenia ",
          "OCEANIA                            /Solomon Islands ",
          "SUB-SAHARAN AFRICA                 /Somalia ",
          "SUB-SAHARAN AFRICA                 /South Africa ",
          "WESTERN EUROPE                     /Spain ",
          "ASIA (EX. NEAR EAST)         /Sri Lanka ",
          "NORTHERN AMERICA                   /St Pierre & Miquelon ",
          "SUB-SAHARAN AFRICA                 /Sudan ",
          "LATIN AMER. & CARIB    /Suriname ",
          "SUB-SAHARAN AFRICA                 /Swaziland ",
          "WESTERN EUROPE                     /Sweden ",
          "WESTERN EUROPE                     /Switzerland ",
          "NEAR EAST                          /Syria ",
          "ASIA (EX. NEAR EAST)         /Taiwan ",
          "C.W. OF IND. STATES /Tajikistan ",
          "SUB-SAHARAN AFRICA                 /Tanzania ",
          "ASIA (EX. NEAR EAST)         /Thailand ",
          "SUB-SAHARAN AFRICA                 /Togo ",
          "OCEANIA                            /Tonga ",
          "LATIN AMER. & CARIB    /Trinidad & Tobago ",
          "NORTHERN AFRICA                    /Tunisia ",
          "NEAR EAST                          /Turkey ",
          "C.W. OF IND. STATES /Turkmenistan ",
          "LATIN AMER. & CARIB    /Turks & Caicos Is ",
          "OCEANIA                            /Tuvalu ",
          "SUB-SAHARAN AFRICA                 /Uganda ",
          "C.W. OF IND. STATES /Ukraine ",
          "NEAR EAST                          /United Arab Emirates ",
          "WESTERN EUROPE                     /United Kingdom ",
          "NORTHERN AMERICA                   /United States ",
          "LATIN AMER. & CARIB    /Uruguay ",
          "C.W. OF IND. STATES /Uzbekistan ",
          "OCEANIA                            /Vanuatu ",
          "LATIN AMER. & CARIB    /Venezuela ",
          "ASIA (EX. NEAR EAST)         /Vietnam ",
          "LATIN AMER. & CARIB    /Virgin Islands ",
          "OCEANIA                            /Wallis and Futuna ",
          "NEAR EAST                          /West Bank ",
          "NORTHERN AFRICA                    /Western Sahara ",
          "NEAR EAST                          /Yemen ",
          "SUB-SAHARAN AFRICA                 /Zambia ",
          "SUB-SAHARAN AFRICA                 /Zimbabwe ",
          "ASIA (EX. NEAR EAST)         ",
          "BALTICS                            ",
          "C.W. OF IND. STATES ",
          "EASTERN EUROPE                     ",
          "LATIN AMER. & CARIB    ",
          "NEAR EAST                          ",
          "NORTHERN AFRICA                    ",
          "NORTHERN AMERICA                   ",
          "OCEANIA                            ",
          "SUB-SAHARAN AFRICA                 ",
          "WESTERN EUROPE                     "
         ],
         "labels": [
          "Afghanistan ",
          "Albania ",
          "Algeria ",
          "American Samoa ",
          "Andorra ",
          "Angola ",
          "Anguilla ",
          "Antigua & Barbuda ",
          "Argentina ",
          "Armenia ",
          "Aruba ",
          "Australia ",
          "Austria ",
          "Azerbaijan ",
          "Bahamas, The ",
          "Bahrain ",
          "Bangladesh ",
          "Barbados ",
          "Belarus ",
          "Belgium ",
          "Belize ",
          "Benin ",
          "Bermuda ",
          "Bhutan ",
          "Bolivia ",
          "Bosnia & Herzegovina ",
          "Botswana ",
          "Brazil ",
          "British Virgin Is. ",
          "Brunei ",
          "Bulgaria ",
          "Burkina Faso ",
          "Burma ",
          "Burundi ",
          "Cambodia ",
          "Cameroon ",
          "Canada ",
          "Cape Verde ",
          "Cayman Islands ",
          "Central African Rep. ",
          "Chad ",
          "Chile ",
          "China ",
          "Colombia ",
          "Comoros ",
          "Congo, Dem. Rep. ",
          "Congo, Repub. of the ",
          "Cook Islands ",
          "Costa Rica ",
          "Cote d'Ivoire ",
          "Croatia ",
          "Cuba ",
          "Cyprus ",
          "Czech Republic ",
          "Denmark ",
          "Djibouti ",
          "Dominica ",
          "Dominican Republic ",
          "East Timor ",
          "Ecuador ",
          "Egypt ",
          "El Salvador ",
          "Equatorial Guinea ",
          "Eritrea ",
          "Estonia ",
          "Ethiopia ",
          "Faroe Islands ",
          "Fiji ",
          "Finland ",
          "France ",
          "French Guiana ",
          "French Polynesia ",
          "Gabon ",
          "Gambia, The ",
          "Gaza Strip ",
          "Georgia ",
          "Germany ",
          "Ghana ",
          "Gibraltar ",
          "Greece ",
          "Greenland ",
          "Grenada ",
          "Guadeloupe ",
          "Guam ",
          "Guatemala ",
          "Guernsey ",
          "Guinea ",
          "Guinea-Bissau ",
          "Guyana ",
          "Haiti ",
          "Honduras ",
          "Hong Kong ",
          "Hungary ",
          "Iceland ",
          "India ",
          "Indonesia ",
          "Iran ",
          "Iraq ",
          "Ireland ",
          "Isle of Man ",
          "Israel ",
          "Italy ",
          "Jamaica ",
          "Japan ",
          "Jersey ",
          "Jordan ",
          "Kazakhstan ",
          "Kenya ",
          "Kiribati ",
          "Korea, North ",
          "Korea, South ",
          "Kuwait ",
          "Kyrgyzstan ",
          "Laos ",
          "Latvia ",
          "Lebanon ",
          "Lesotho ",
          "Liberia ",
          "Libya ",
          "Liechtenstein ",
          "Lithuania ",
          "Luxembourg ",
          "Macau ",
          "Macedonia ",
          "Madagascar ",
          "Malawi ",
          "Malaysia ",
          "Maldives ",
          "Mali ",
          "Malta ",
          "Marshall Islands ",
          "Martinique ",
          "Mauritania ",
          "Mauritius ",
          "Mayotte ",
          "Mexico ",
          "Micronesia, Fed. St. ",
          "Moldova ",
          "Monaco ",
          "Mongolia ",
          "Montserrat ",
          "Morocco ",
          "Mozambique ",
          "N. Mariana Islands ",
          "Namibia ",
          "Nauru ",
          "Nepal ",
          "Netherlands ",
          "Netherlands Antilles ",
          "New Caledonia ",
          "New Zealand ",
          "Nicaragua ",
          "Niger ",
          "Nigeria ",
          "Norway ",
          "Oman ",
          "Pakistan ",
          "Palau ",
          "Panama ",
          "Papua New Guinea ",
          "Paraguay ",
          "Peru ",
          "Philippines ",
          "Poland ",
          "Portugal ",
          "Puerto Rico ",
          "Qatar ",
          "Reunion ",
          "Romania ",
          "Russia ",
          "Rwanda ",
          "Saint Helena ",
          "Saint Kitts & Nevis ",
          "Saint Lucia ",
          "Saint Vincent and the Grenadines ",
          "Samoa ",
          "San Marino ",
          "Sao Tome & Principe ",
          "Saudi Arabia ",
          "Senegal ",
          "Serbia ",
          "Seychelles ",
          "Sierra Leone ",
          "Singapore ",
          "Slovakia ",
          "Slovenia ",
          "Solomon Islands ",
          "Somalia ",
          "South Africa ",
          "Spain ",
          "Sri Lanka ",
          "St Pierre & Miquelon ",
          "Sudan ",
          "Suriname ",
          "Swaziland ",
          "Sweden ",
          "Switzerland ",
          "Syria ",
          "Taiwan ",
          "Tajikistan ",
          "Tanzania ",
          "Thailand ",
          "Togo ",
          "Tonga ",
          "Trinidad & Tobago ",
          "Tunisia ",
          "Turkey ",
          "Turkmenistan ",
          "Turks & Caicos Is ",
          "Tuvalu ",
          "Uganda ",
          "Ukraine ",
          "United Arab Emirates ",
          "United Kingdom ",
          "United States ",
          "Uruguay ",
          "Uzbekistan ",
          "Vanuatu ",
          "Venezuela ",
          "Vietnam ",
          "Virgin Islands ",
          "Wallis and Futuna ",
          "West Bank ",
          "Western Sahara ",
          "Yemen ",
          "Zambia ",
          "Zimbabwe ",
          "ASIA (EX. NEAR EAST)         ",
          "BALTICS                            ",
          "C.W. OF IND. STATES ",
          "EASTERN EUROPE                     ",
          "LATIN AMER. & CARIB    ",
          "NEAR EAST                          ",
          "NORTHERN AFRICA                    ",
          "NORTHERN AMERICA                   ",
          "OCEANIA                            ",
          "SUB-SAHARAN AFRICA                 ",
          "WESTERN EUROPE                     "
         ],
         "marker": {
          "coloraxis": "coloraxis",
          "colors": [
           700,
           4500,
           6000,
           8000,
           19000,
           1900,
           8600,
           11000,
           11200,
           3500,
           28000,
           29000,
           30000,
           3400,
           16700,
           16900,
           1900,
           15700,
           6100,
           29100,
           4900,
           1100,
           36000,
           1300,
           2400,
           6100,
           9000,
           7600,
           16000,
           18600,
           7600,
           1100,
           1800,
           600,
           1900,
           1800,
           29800,
           1400,
           35000,
           1100,
           1200,
           9900,
           5000,
           6300,
           700,
           700,
           700,
           5000,
           9100,
           1400,
           10600,
           2900,
           19200,
           15700,
           31100,
           1300,
           5400,
           6000,
           500,
           3300,
           4000,
           4800,
           2700,
           700,
           12300,
           700,
           22000,
           5800,
           27400,
           27600,
           8300,
           17500,
           5500,
           1700,
           600,
           2500,
           27600,
           2200,
           17500,
           20000,
           20000,
           5000,
           8000,
           21000,
           4100,
           20000,
           2100,
           800,
           4000,
           1600,
           2600,
           28800,
           13900,
           30900,
           2900,
           3200,
           7000,
           1500,
           29600,
           21000,
           19800,
           26700,
           3900,
           28200,
           24800,
           4300,
           6300,
           1000,
           800,
           1300,
           17800,
           19000,
           1600,
           1700,
           10200,
           4800,
           3000,
           1000,
           6400,
           25000,
           11400,
           55100,
           19400,
           6700,
           800,
           600,
           9000,
           3900,
           900,
           17700,
           1600,
           14400,
           1800,
           11400,
           2600,
           9000,
           2000,
           1800,
           27000,
           1800,
           3400,
           4000,
           1200,
           12500,
           7200,
           5000,
           1400,
           28600,
           11400,
           15000,
           21600,
           2300,
           800,
           900,
           37800,
           13100,
           2100,
           9000,
           6300,
           2200,
           4700,
           5100,
           4600,
           11100,
           18000,
           16800,
           21500,
           5800,
           7000,
           8900,
           1300,
           2500,
           8800,
           5400,
           2900,
           5600,
           34600,
           1200,
           11800,
           1600,
           2200,
           7800,
           500,
           23700,
           13300,
           19000,
           1700,
           500,
           10700,
           22000,
           3700,
           6900,
           1900,
           4000,
           4900,
           26800,
           32700,
           3300,
           23400,
           1000,
           600,
           7400,
           1500,
           2200,
           9500,
           6900,
           6700,
           5800,
           9600,
           1100,
           1400,
           5400,
           23200,
           27700,
           37800,
           12800,
           1700,
           2900,
           4800,
           2500,
           17200,
           3700,
           800,
           null,
           800,
           800,
           1900,
           5039.349432565976,
           11185.972461417397,
           6538.318590698449,
           9803.698182434104,
           7273.077976067759,
           6539.852565134122,
           null,
           36997.61110293721,
           21436.496608591504,
           1725.5092750958386,
           26864.002957127734
          ]
         },
         "name": "",
         "parents": [
          "ASIA (EX. NEAR EAST)         ",
          "EASTERN EUROPE                     ",
          "NORTHERN AFRICA                    ",
          "OCEANIA                            ",
          "WESTERN EUROPE                     ",
          "SUB-SAHARAN AFRICA                 ",
          "LATIN AMER. & CARIB    ",
          "LATIN AMER. & CARIB    ",
          "LATIN AMER. & CARIB    ",
          "C.W. OF IND. STATES ",
          "LATIN AMER. & CARIB    ",
          "OCEANIA                            ",
          "WESTERN EUROPE                     ",
          "C.W. OF IND. STATES ",
          "LATIN AMER. & CARIB    ",
          "NEAR EAST                          ",
          "ASIA (EX. NEAR EAST)         ",
          "LATIN AMER. & CARIB    ",
          "C.W. OF IND. STATES ",
          "WESTERN EUROPE                     ",
          "LATIN AMER. & CARIB    ",
          "SUB-SAHARAN AFRICA                 ",
          "NORTHERN AMERICA                   ",
          "ASIA (EX. NEAR EAST)         ",
          "LATIN AMER. & CARIB    ",
          "EASTERN EUROPE                     ",
          "SUB-SAHARAN AFRICA                 ",
          "LATIN AMER. & CARIB    ",
          "LATIN AMER. & CARIB    ",
          "ASIA (EX. NEAR EAST)         ",
          "EASTERN EUROPE                     ",
          "SUB-SAHARAN AFRICA                 ",
          "ASIA (EX. NEAR EAST)         ",
          "SUB-SAHARAN AFRICA                 ",
          "ASIA (EX. NEAR EAST)         ",
          "SUB-SAHARAN AFRICA                 ",
          "NORTHERN AMERICA                   ",
          "SUB-SAHARAN AFRICA                 ",
          "LATIN AMER. & CARIB    ",
          "SUB-SAHARAN AFRICA                 ",
          "SUB-SAHARAN AFRICA                 ",
          "LATIN AMER. & CARIB    ",
          "ASIA (EX. NEAR EAST)         ",
          "LATIN AMER. & CARIB    ",
          "SUB-SAHARAN AFRICA                 ",
          "SUB-SAHARAN AFRICA                 ",
          "SUB-SAHARAN AFRICA                 ",
          "OCEANIA                            ",
          "LATIN AMER. & CARIB    ",
          "SUB-SAHARAN AFRICA                 ",
          "EASTERN EUROPE                     ",
          "LATIN AMER. & CARIB    ",
          "NEAR EAST                          ",
          "EASTERN EUROPE                     ",
          "WESTERN EUROPE                     ",
          "SUB-SAHARAN AFRICA                 ",
          "LATIN AMER. & CARIB    ",
          "LATIN AMER. & CARIB    ",
          "ASIA (EX. NEAR EAST)         ",
          "LATIN AMER. & CARIB    ",
          "NORTHERN AFRICA                    ",
          "LATIN AMER. & CARIB    ",
          "SUB-SAHARAN AFRICA                 ",
          "SUB-SAHARAN AFRICA                 ",
          "BALTICS                            ",
          "SUB-SAHARAN AFRICA                 ",
          "WESTERN EUROPE                     ",
          "OCEANIA                            ",
          "WESTERN EUROPE                     ",
          "WESTERN EUROPE                     ",
          "LATIN AMER. & CARIB    ",
          "OCEANIA                            ",
          "SUB-SAHARAN AFRICA                 ",
          "SUB-SAHARAN AFRICA                 ",
          "NEAR EAST                          ",
          "C.W. OF IND. STATES ",
          "WESTERN EUROPE                     ",
          "SUB-SAHARAN AFRICA                 ",
          "WESTERN EUROPE                     ",
          "WESTERN EUROPE                     ",
          "NORTHERN AMERICA                   ",
          "LATIN AMER. & CARIB    ",
          "LATIN AMER. & CARIB    ",
          "OCEANIA                            ",
          "LATIN AMER. & CARIB    ",
          "WESTERN EUROPE                     ",
          "SUB-SAHARAN AFRICA                 ",
          "SUB-SAHARAN AFRICA                 ",
          "LATIN AMER. & CARIB    ",
          "LATIN AMER. & CARIB    ",
          "LATIN AMER. & CARIB    ",
          "ASIA (EX. NEAR EAST)         ",
          "EASTERN EUROPE                     ",
          "WESTERN EUROPE                     ",
          "ASIA (EX. NEAR EAST)         ",
          "ASIA (EX. NEAR EAST)         ",
          "ASIA (EX. NEAR EAST)         ",
          "NEAR EAST                          ",
          "WESTERN EUROPE                     ",
          "WESTERN EUROPE                     ",
          "NEAR EAST                          ",
          "WESTERN EUROPE                     ",
          "LATIN AMER. & CARIB    ",
          "ASIA (EX. NEAR EAST)         ",
          "WESTERN EUROPE                     ",
          "NEAR EAST                          ",
          "C.W. OF IND. STATES ",
          "SUB-SAHARAN AFRICA                 ",
          "OCEANIA                            ",
          "ASIA (EX. NEAR EAST)         ",
          "ASIA (EX. NEAR EAST)         ",
          "NEAR EAST                          ",
          "C.W. OF IND. STATES ",
          "ASIA (EX. NEAR EAST)         ",
          "BALTICS                            ",
          "NEAR EAST                          ",
          "SUB-SAHARAN AFRICA                 ",
          "SUB-SAHARAN AFRICA                 ",
          "NORTHERN AFRICA                    ",
          "WESTERN EUROPE                     ",
          "BALTICS                            ",
          "WESTERN EUROPE                     ",
          "ASIA (EX. NEAR EAST)         ",
          "EASTERN EUROPE                     ",
          "SUB-SAHARAN AFRICA                 ",
          "SUB-SAHARAN AFRICA                 ",
          "ASIA (EX. NEAR EAST)         ",
          "ASIA (EX. NEAR EAST)         ",
          "SUB-SAHARAN AFRICA                 ",
          "WESTERN EUROPE                     ",
          "OCEANIA                            ",
          "LATIN AMER. & CARIB    ",
          "SUB-SAHARAN AFRICA                 ",
          "SUB-SAHARAN AFRICA                 ",
          "SUB-SAHARAN AFRICA                 ",
          "LATIN AMER. & CARIB    ",
          "OCEANIA                            ",
          "C.W. OF IND. STATES ",
          "WESTERN EUROPE                     ",
          "ASIA (EX. NEAR EAST)         ",
          "LATIN AMER. & CARIB    ",
          "NORTHERN AFRICA                    ",
          "SUB-SAHARAN AFRICA                 ",
          "OCEANIA                            ",
          "SUB-SAHARAN AFRICA                 ",
          "OCEANIA                            ",
          "ASIA (EX. NEAR EAST)         ",
          "WESTERN EUROPE                     ",
          "LATIN AMER. & CARIB    ",
          "OCEANIA                            ",
          "OCEANIA                            ",
          "LATIN AMER. & CARIB    ",
          "SUB-SAHARAN AFRICA                 ",
          "SUB-SAHARAN AFRICA                 ",
          "WESTERN EUROPE                     ",
          "NEAR EAST                          ",
          "ASIA (EX. NEAR EAST)         ",
          "OCEANIA                            ",
          "LATIN AMER. & CARIB    ",
          "OCEANIA                            ",
          "LATIN AMER. & CARIB    ",
          "LATIN AMER. & CARIB    ",
          "ASIA (EX. NEAR EAST)         ",
          "EASTERN EUROPE                     ",
          "WESTERN EUROPE                     ",
          "LATIN AMER. & CARIB    ",
          "NEAR EAST                          ",
          "SUB-SAHARAN AFRICA                 ",
          "EASTERN EUROPE                     ",
          "C.W. OF IND. STATES ",
          "SUB-SAHARAN AFRICA                 ",
          "SUB-SAHARAN AFRICA                 ",
          "LATIN AMER. & CARIB    ",
          "LATIN AMER. & CARIB    ",
          "LATIN AMER. & CARIB    ",
          "OCEANIA                            ",
          "WESTERN EUROPE                     ",
          "SUB-SAHARAN AFRICA                 ",
          "NEAR EAST                          ",
          "SUB-SAHARAN AFRICA                 ",
          "EASTERN EUROPE                     ",
          "SUB-SAHARAN AFRICA                 ",
          "SUB-SAHARAN AFRICA                 ",
          "ASIA (EX. NEAR EAST)         ",
          "EASTERN EUROPE                     ",
          "EASTERN EUROPE                     ",
          "OCEANIA                            ",
          "SUB-SAHARAN AFRICA                 ",
          "SUB-SAHARAN AFRICA                 ",
          "WESTERN EUROPE                     ",
          "ASIA (EX. NEAR EAST)         ",
          "NORTHERN AMERICA                   ",
          "SUB-SAHARAN AFRICA                 ",
          "LATIN AMER. & CARIB    ",
          "SUB-SAHARAN AFRICA                 ",
          "WESTERN EUROPE                     ",
          "WESTERN EUROPE                     ",
          "NEAR EAST                          ",
          "ASIA (EX. NEAR EAST)         ",
          "C.W. OF IND. STATES ",
          "SUB-SAHARAN AFRICA                 ",
          "ASIA (EX. NEAR EAST)         ",
          "SUB-SAHARAN AFRICA                 ",
          "OCEANIA                            ",
          "LATIN AMER. & CARIB    ",
          "NORTHERN AFRICA                    ",
          "NEAR EAST                          ",
          "C.W. OF IND. STATES ",
          "LATIN AMER. & CARIB    ",
          "OCEANIA                            ",
          "SUB-SAHARAN AFRICA                 ",
          "C.W. OF IND. STATES ",
          "NEAR EAST                          ",
          "WESTERN EUROPE                     ",
          "NORTHERN AMERICA                   ",
          "LATIN AMER. & CARIB    ",
          "C.W. OF IND. STATES ",
          "OCEANIA                            ",
          "LATIN AMER. & CARIB    ",
          "ASIA (EX. NEAR EAST)         ",
          "LATIN AMER. & CARIB    ",
          "OCEANIA                            ",
          "NEAR EAST                          ",
          "NORTHERN AFRICA                    ",
          "NEAR EAST                          ",
          "SUB-SAHARAN AFRICA                 ",
          "SUB-SAHARAN AFRICA                 ",
          "",
          "",
          "",
          "",
          "",
          "",
          "",
          "",
          "",
          "",
          ""
         ],
         "type": "treemap",
         "values": [
          31056997,
          3581655,
          32930091,
          57794,
          71201,
          12127071,
          13477,
          69108,
          39921833,
          2976372,
          71891,
          20264082,
          8192880,
          7961619,
          303770,
          698585,
          147365352,
          279912,
          10293011,
          10379067,
          287730,
          7862944,
          65773,
          2279723,
          8989046,
          4498976,
          1639833,
          188078227,
          23098,
          379444,
          7385367,
          13902972,
          47382633,
          8090068,
          13881427,
          17340702,
          33098932,
          420979,
          45436,
          4303356,
          9944201,
          16134219,
          1313973713,
          43593035,
          690948,
          62660551,
          3702314,
          21388,
          4075261,
          17654843,
          4494749,
          11382820,
          784301,
          10235455,
          5450661,
          486530,
          68910,
          9183984,
          1062777,
          13547510,
          78887007,
          6822378,
          540109,
          4786994,
          1324333,
          74777981,
          47246,
          905949,
          5231372,
          60876136,
          199509,
          274578,
          1424906,
          1641564,
          1428757,
          4661473,
          82422299,
          22409572,
          27928,
          10688058,
          56361,
          89703,
          452776,
          171019,
          12293545,
          65409,
          9690222,
          1442029,
          767245,
          8308504,
          7326496,
          6940432,
          9981334,
          299388,
          1095351995,
          245452739,
          68688433,
          26783383,
          4062235,
          75441,
          6352117,
          58133509,
          2758124,
          127463611,
          91084,
          5906760,
          15233244,
          34707817,
          105432,
          23113019,
          48846823,
          2418393,
          5213898,
          6368481,
          2274735,
          3874050,
          2022331,
          3042004,
          5900754,
          33987,
          3585906,
          474413,
          453125,
          2050554,
          18595469,
          13013926,
          24385858,
          359008,
          11716829,
          400214,
          60422,
          436131,
          3177388,
          1240827,
          201234,
          107449525,
          108004,
          4466706,
          32543,
          2832224,
          9439,
          33241259,
          19686505,
          82459,
          2044147,
          13287,
          28287147,
          16491461,
          221736,
          219246,
          4076140,
          5570129,
          12525094,
          131859731,
          4610820,
          3102229,
          165803560,
          20579,
          3191319,
          5670544,
          6506464,
          28302603,
          89468677,
          38536869,
          10605870,
          3927188,
          885359,
          787584,
          22303552,
          142893540,
          8648248,
          7502,
          39129,
          168458,
          117848,
          176908,
          29251,
          193413,
          27019731,
          11987121,
          9396411,
          81541,
          6005250,
          4492150,
          5439448,
          2010347,
          552438,
          8863338,
          44187637,
          40397842,
          20222240,
          7026,
          41236378,
          439117,
          1136334,
          9016596,
          7523934,
          18881361,
          23036087,
          7320815,
          37445392,
          64631595,
          5548702,
          114689,
          1065842,
          10175014,
          70413958,
          5042920,
          21152,
          11810,
          28195754,
          46710816,
          2602713,
          60609153,
          298444215,
          3431932,
          27307134,
          208869,
          25730435,
          84402966,
          108605,
          16025,
          2460492,
          273008,
          21456188,
          11502010,
          12236805,
          3687982236,
          7184974,
          280081548,
          119914717,
          561824599,
          195068377,
          161407133,
          331672307,
          33131662,
          749437000,
          396339998
         ]
        }
       ],
       "layout": {
        "coloraxis": {
         "colorbar": {
          "title": {
           "text": "GDP ($ per capita)"
          }
         },
         "colorscale": [
          [
           0,
           "rgb(150,0,90)"
          ],
          [
           0.125,
           "rgb(0,0,200)"
          ],
          [
           0.25,
           "rgb(0,25,255)"
          ],
          [
           0.375,
           "rgb(0,152,255)"
          ],
          [
           0.5,
           "rgb(44,255,150)"
          ],
          [
           0.625,
           "rgb(151,255,0)"
          ],
          [
           0.75,
           "rgb(255,234,0)"
          ],
          [
           0.875,
           "rgb(255,111,0)"
          ],
          [
           1,
           "rgb(255,0,0)"
          ]
         ]
        },
        "height": 600,
        "legend": {
         "tracegroupgap": 0
        },
        "template": {
         "data": {
          "bar": [
           {
            "error_x": {
             "color": "#2a3f5f"
            },
            "error_y": {
             "color": "#2a3f5f"
            },
            "marker": {
             "line": {
              "color": "#E5ECF6",
              "width": 0.5
             },
             "pattern": {
              "fillmode": "overlay",
              "size": 10,
              "solidity": 0.2
             }
            },
            "type": "bar"
           }
          ],
          "barpolar": [
           {
            "marker": {
             "line": {
              "color": "#E5ECF6",
              "width": 0.5
             },
             "pattern": {
              "fillmode": "overlay",
              "size": 10,
              "solidity": 0.2
             }
            },
            "type": "barpolar"
           }
          ],
          "carpet": [
           {
            "aaxis": {
             "endlinecolor": "#2a3f5f",
             "gridcolor": "white",
             "linecolor": "white",
             "minorgridcolor": "white",
             "startlinecolor": "#2a3f5f"
            },
            "baxis": {
             "endlinecolor": "#2a3f5f",
             "gridcolor": "white",
             "linecolor": "white",
             "minorgridcolor": "white",
             "startlinecolor": "#2a3f5f"
            },
            "type": "carpet"
           }
          ],
          "choropleth": [
           {
            "colorbar": {
             "outlinewidth": 0,
             "ticks": ""
            },
            "type": "choropleth"
           }
          ],
          "contour": [
           {
            "colorbar": {
             "outlinewidth": 0,
             "ticks": ""
            },
            "colorscale": [
             [
              0,
              "#0d0887"
             ],
             [
              0.1111111111111111,
              "#46039f"
             ],
             [
              0.2222222222222222,
              "#7201a8"
             ],
             [
              0.3333333333333333,
              "#9c179e"
             ],
             [
              0.4444444444444444,
              "#bd3786"
             ],
             [
              0.5555555555555556,
              "#d8576b"
             ],
             [
              0.6666666666666666,
              "#ed7953"
             ],
             [
              0.7777777777777778,
              "#fb9f3a"
             ],
             [
              0.8888888888888888,
              "#fdca26"
             ],
             [
              1,
              "#f0f921"
             ]
            ],
            "type": "contour"
           }
          ],
          "contourcarpet": [
           {
            "colorbar": {
             "outlinewidth": 0,
             "ticks": ""
            },
            "type": "contourcarpet"
           }
          ],
          "heatmap": [
           {
            "colorbar": {
             "outlinewidth": 0,
             "ticks": ""
            },
            "colorscale": [
             [
              0,
              "#0d0887"
             ],
             [
              0.1111111111111111,
              "#46039f"
             ],
             [
              0.2222222222222222,
              "#7201a8"
             ],
             [
              0.3333333333333333,
              "#9c179e"
             ],
             [
              0.4444444444444444,
              "#bd3786"
             ],
             [
              0.5555555555555556,
              "#d8576b"
             ],
             [
              0.6666666666666666,
              "#ed7953"
             ],
             [
              0.7777777777777778,
              "#fb9f3a"
             ],
             [
              0.8888888888888888,
              "#fdca26"
             ],
             [
              1,
              "#f0f921"
             ]
            ],
            "type": "heatmap"
           }
          ],
          "heatmapgl": [
           {
            "colorbar": {
             "outlinewidth": 0,
             "ticks": ""
            },
            "colorscale": [
             [
              0,
              "#0d0887"
             ],
             [
              0.1111111111111111,
              "#46039f"
             ],
             [
              0.2222222222222222,
              "#7201a8"
             ],
             [
              0.3333333333333333,
              "#9c179e"
             ],
             [
              0.4444444444444444,
              "#bd3786"
             ],
             [
              0.5555555555555556,
              "#d8576b"
             ],
             [
              0.6666666666666666,
              "#ed7953"
             ],
             [
              0.7777777777777778,
              "#fb9f3a"
             ],
             [
              0.8888888888888888,
              "#fdca26"
             ],
             [
              1,
              "#f0f921"
             ]
            ],
            "type": "heatmapgl"
           }
          ],
          "histogram": [
           {
            "marker": {
             "pattern": {
              "fillmode": "overlay",
              "size": 10,
              "solidity": 0.2
             }
            },
            "type": "histogram"
           }
          ],
          "histogram2d": [
           {
            "colorbar": {
             "outlinewidth": 0,
             "ticks": ""
            },
            "colorscale": [
             [
              0,
              "#0d0887"
             ],
             [
              0.1111111111111111,
              "#46039f"
             ],
             [
              0.2222222222222222,
              "#7201a8"
             ],
             [
              0.3333333333333333,
              "#9c179e"
             ],
             [
              0.4444444444444444,
              "#bd3786"
             ],
             [
              0.5555555555555556,
              "#d8576b"
             ],
             [
              0.6666666666666666,
              "#ed7953"
             ],
             [
              0.7777777777777778,
              "#fb9f3a"
             ],
             [
              0.8888888888888888,
              "#fdca26"
             ],
             [
              1,
              "#f0f921"
             ]
            ],
            "type": "histogram2d"
           }
          ],
          "histogram2dcontour": [
           {
            "colorbar": {
             "outlinewidth": 0,
             "ticks": ""
            },
            "colorscale": [
             [
              0,
              "#0d0887"
             ],
             [
              0.1111111111111111,
              "#46039f"
             ],
             [
              0.2222222222222222,
              "#7201a8"
             ],
             [
              0.3333333333333333,
              "#9c179e"
             ],
             [
              0.4444444444444444,
              "#bd3786"
             ],
             [
              0.5555555555555556,
              "#d8576b"
             ],
             [
              0.6666666666666666,
              "#ed7953"
             ],
             [
              0.7777777777777778,
              "#fb9f3a"
             ],
             [
              0.8888888888888888,
              "#fdca26"
             ],
             [
              1,
              "#f0f921"
             ]
            ],
            "type": "histogram2dcontour"
           }
          ],
          "mesh3d": [
           {
            "colorbar": {
             "outlinewidth": 0,
             "ticks": ""
            },
            "type": "mesh3d"
           }
          ],
          "parcoords": [
           {
            "line": {
             "colorbar": {
              "outlinewidth": 0,
              "ticks": ""
             }
            },
            "type": "parcoords"
           }
          ],
          "pie": [
           {
            "automargin": true,
            "type": "pie"
           }
          ],
          "scatter": [
           {
            "marker": {
             "colorbar": {
              "outlinewidth": 0,
              "ticks": ""
             }
            },
            "type": "scatter"
           }
          ],
          "scatter3d": [
           {
            "line": {
             "colorbar": {
              "outlinewidth": 0,
              "ticks": ""
             }
            },
            "marker": {
             "colorbar": {
              "outlinewidth": 0,
              "ticks": ""
             }
            },
            "type": "scatter3d"
           }
          ],
          "scattercarpet": [
           {
            "marker": {
             "colorbar": {
              "outlinewidth": 0,
              "ticks": ""
             }
            },
            "type": "scattercarpet"
           }
          ],
          "scattergeo": [
           {
            "marker": {
             "colorbar": {
              "outlinewidth": 0,
              "ticks": ""
             }
            },
            "type": "scattergeo"
           }
          ],
          "scattergl": [
           {
            "marker": {
             "colorbar": {
              "outlinewidth": 0,
              "ticks": ""
             }
            },
            "type": "scattergl"
           }
          ],
          "scattermapbox": [
           {
            "marker": {
             "colorbar": {
              "outlinewidth": 0,
              "ticks": ""
             }
            },
            "type": "scattermapbox"
           }
          ],
          "scatterpolar": [
           {
            "marker": {
             "colorbar": {
              "outlinewidth": 0,
              "ticks": ""
             }
            },
            "type": "scatterpolar"
           }
          ],
          "scatterpolargl": [
           {
            "marker": {
             "colorbar": {
              "outlinewidth": 0,
              "ticks": ""
             }
            },
            "type": "scatterpolargl"
           }
          ],
          "scatterternary": [
           {
            "marker": {
             "colorbar": {
              "outlinewidth": 0,
              "ticks": ""
             }
            },
            "type": "scatterternary"
           }
          ],
          "surface": [
           {
            "colorbar": {
             "outlinewidth": 0,
             "ticks": ""
            },
            "colorscale": [
             [
              0,
              "#0d0887"
             ],
             [
              0.1111111111111111,
              "#46039f"
             ],
             [
              0.2222222222222222,
              "#7201a8"
             ],
             [
              0.3333333333333333,
              "#9c179e"
             ],
             [
              0.4444444444444444,
              "#bd3786"
             ],
             [
              0.5555555555555556,
              "#d8576b"
             ],
             [
              0.6666666666666666,
              "#ed7953"
             ],
             [
              0.7777777777777778,
              "#fb9f3a"
             ],
             [
              0.8888888888888888,
              "#fdca26"
             ],
             [
              1,
              "#f0f921"
             ]
            ],
            "type": "surface"
           }
          ],
          "table": [
           {
            "cells": {
             "fill": {
              "color": "#EBF0F8"
             },
             "line": {
              "color": "white"
             }
            },
            "header": {
             "fill": {
              "color": "#C8D4E3"
             },
             "line": {
              "color": "white"
             }
            },
            "type": "table"
           }
          ]
         },
         "layout": {
          "annotationdefaults": {
           "arrowcolor": "#2a3f5f",
           "arrowhead": 0,
           "arrowwidth": 1
          },
          "autotypenumbers": "strict",
          "coloraxis": {
           "colorbar": {
            "outlinewidth": 0,
            "ticks": ""
           }
          },
          "colorscale": {
           "diverging": [
            [
             0,
             "#8e0152"
            ],
            [
             0.1,
             "#c51b7d"
            ],
            [
             0.2,
             "#de77ae"
            ],
            [
             0.3,
             "#f1b6da"
            ],
            [
             0.4,
             "#fde0ef"
            ],
            [
             0.5,
             "#f7f7f7"
            ],
            [
             0.6,
             "#e6f5d0"
            ],
            [
             0.7,
             "#b8e186"
            ],
            [
             0.8,
             "#7fbc41"
            ],
            [
             0.9,
             "#4d9221"
            ],
            [
             1,
             "#276419"
            ]
           ],
           "sequential": [
            [
             0,
             "#0d0887"
            ],
            [
             0.1111111111111111,
             "#46039f"
            ],
            [
             0.2222222222222222,
             "#7201a8"
            ],
            [
             0.3333333333333333,
             "#9c179e"
            ],
            [
             0.4444444444444444,
             "#bd3786"
            ],
            [
             0.5555555555555556,
             "#d8576b"
            ],
            [
             0.6666666666666666,
             "#ed7953"
            ],
            [
             0.7777777777777778,
             "#fb9f3a"
            ],
            [
             0.8888888888888888,
             "#fdca26"
            ],
            [
             1,
             "#f0f921"
            ]
           ],
           "sequentialminus": [
            [
             0,
             "#0d0887"
            ],
            [
             0.1111111111111111,
             "#46039f"
            ],
            [
             0.2222222222222222,
             "#7201a8"
            ],
            [
             0.3333333333333333,
             "#9c179e"
            ],
            [
             0.4444444444444444,
             "#bd3786"
            ],
            [
             0.5555555555555556,
             "#d8576b"
            ],
            [
             0.6666666666666666,
             "#ed7953"
            ],
            [
             0.7777777777777778,
             "#fb9f3a"
            ],
            [
             0.8888888888888888,
             "#fdca26"
            ],
            [
             1,
             "#f0f921"
            ]
           ]
          },
          "colorway": [
           "#636efa",
           "#EF553B",
           "#00cc96",
           "#ab63fa",
           "#FFA15A",
           "#19d3f3",
           "#FF6692",
           "#B6E880",
           "#FF97FF",
           "#FECB52"
          ],
          "font": {
           "color": "#2a3f5f"
          },
          "geo": {
           "bgcolor": "white",
           "lakecolor": "white",
           "landcolor": "#E5ECF6",
           "showlakes": true,
           "showland": true,
           "subunitcolor": "white"
          },
          "hoverlabel": {
           "align": "left"
          },
          "hovermode": "closest",
          "mapbox": {
           "style": "light"
          },
          "paper_bgcolor": "white",
          "plot_bgcolor": "#E5ECF6",
          "polar": {
           "angularaxis": {
            "gridcolor": "white",
            "linecolor": "white",
            "ticks": ""
           },
           "bgcolor": "#E5ECF6",
           "radialaxis": {
            "gridcolor": "white",
            "linecolor": "white",
            "ticks": ""
           }
          },
          "scene": {
           "xaxis": {
            "backgroundcolor": "#E5ECF6",
            "gridcolor": "white",
            "gridwidth": 2,
            "linecolor": "white",
            "showbackground": true,
            "ticks": "",
            "zerolinecolor": "white"
           },
           "yaxis": {
            "backgroundcolor": "#E5ECF6",
            "gridcolor": "white",
            "gridwidth": 2,
            "linecolor": "white",
            "showbackground": true,
            "ticks": "",
            "zerolinecolor": "white"
           },
           "zaxis": {
            "backgroundcolor": "#E5ECF6",
            "gridcolor": "white",
            "gridwidth": 2,
            "linecolor": "white",
            "showbackground": true,
            "ticks": "",
            "zerolinecolor": "white"
           }
          },
          "shapedefaults": {
           "line": {
            "color": "#2a3f5f"
           }
          },
          "ternary": {
           "aaxis": {
            "gridcolor": "white",
            "linecolor": "white",
            "ticks": ""
           },
           "baxis": {
            "gridcolor": "white",
            "linecolor": "white",
            "ticks": ""
           },
           "bgcolor": "#E5ECF6",
           "caxis": {
            "gridcolor": "white",
            "linecolor": "white",
            "ticks": ""
           }
          },
          "title": {
           "x": 0.05
          },
          "xaxis": {
           "automargin": true,
           "gridcolor": "white",
           "linecolor": "white",
           "ticks": "",
           "title": {
            "standoff": 15
           },
           "zerolinecolor": "white",
           "zerolinewidth": 2
          },
          "yaxis": {
           "automargin": true,
           "gridcolor": "white",
           "linecolor": "white",
           "ticks": "",
           "title": {
            "standoff": 15
           },
           "zerolinecolor": "white",
           "zerolinewidth": 2
          }
         }
        },
        "title": {
         "text": "World Population Distribution - colour encoded by G"
        },
        "width": 1000
       }
      },
      "text/html": [
       "<div>                            <div id=\"e13c8129-9549-4561-82c8-88da9ad6e48c\" class=\"plotly-graph-div\" style=\"height:600px; width:1000px;\"></div>            <script type=\"text/javascript\">                require([\"plotly\"], function(Plotly) {                    window.PLOTLYENV=window.PLOTLYENV || {};                                    if (document.getElementById(\"e13c8129-9549-4561-82c8-88da9ad6e48c\")) {                    Plotly.newPlot(                        \"e13c8129-9549-4561-82c8-88da9ad6e48c\",                        [{\"branchvalues\":\"total\",\"customdata\":[[700.0],[4500.0],[6000.0],[8000.0],[19000.0],[1900.0],[8600.0],[11000.0],[11200.0],[3500.0],[28000.0],[29000.0],[30000.0],[3400.0],[16700.0],[16900.0],[1900.0],[15700.0],[6100.0],[29100.0],[4900.0],[1100.0],[36000.0],[1300.0],[2400.0],[6100.0],[9000.0],[7600.0],[16000.0],[18600.0],[7600.0],[1100.0],[1800.0],[600.0],[1900.0],[1800.0],[29800.0],[1400.0],[35000.0],[1100.0],[1200.0],[9900.0],[5000.0],[6300.0],[700.0],[700.0],[700.0],[5000.0],[9100.0],[1400.0],[10600.0],[2900.0],[19200.0],[15700.0],[31100.0],[1300.0],[5400.0],[6000.0],[500.0],[3300.0],[4000.0],[4800.0],[2700.0],[700.0],[12300.0],[700.0],[22000.0],[5800.0],[27400.0],[27600.0],[8300.0],[17500.0],[5500.0],[1700.0],[600.0],[2500.0],[27600.0],[2200.0],[17500.0],[20000.0],[20000.0],[5000.0],[8000.0],[21000.0],[4100.0],[20000.0],[2100.0],[800.0],[4000.0],[1600.0],[2600.0],[28800.0],[13900.0],[30900.0],[2900.0],[3200.0],[7000.0],[1500.0],[29600.0],[21000.0],[19800.0],[26700.0],[3900.0],[28200.0],[24800.0],[4300.0],[6300.0],[1000.0],[800.0],[1300.0],[17800.0],[19000.0],[1600.0],[1700.0],[10200.0],[4800.0],[3000.0],[1000.0],[6400.0],[25000.0],[11400.0],[55100.0],[19400.0],[6700.0],[800.0],[600.0],[9000.0],[3900.0],[900.0],[17700.0],[1600.0],[14400.0],[1800.0],[11400.0],[2600.0],[9000.0],[2000.0],[1800.0],[27000.0],[1800.0],[3400.0],[4000.0],[1200.0],[12500.0],[7200.0],[5000.0],[1400.0],[28600.0],[11400.0],[15000.0],[21600.0],[2300.0],[800.0],[900.0],[37800.0],[13100.0],[2100.0],[9000.0],[6300.0],[2200.0],[4700.0],[5100.0],[4600.0],[11100.0],[18000.0],[16800.0],[21500.0],[5800.0],[7000.0],[8900.0],[1300.0],[2500.0],[8800.0],[5400.0],[2900.0],[5600.0],[34600.0],[1200.0],[11800.0],[1600.0],[2200.0],[7800.0],[500.0],[23700.0],[13300.0],[19000.0],[1700.0],[500.0],[10700.0],[22000.0],[3700.0],[6900.0],[1900.0],[4000.0],[4900.0],[26800.0],[32700.0],[3300.0],[23400.0],[1000.0],[600.0],[7400.0],[1500.0],[2200.0],[9500.0],[6900.0],[6700.0],[5800.0],[9600.0],[1100.0],[1400.0],[5400.0],[23200.0],[27700.0],[37800.0],[12800.0],[1700.0],[2900.0],[4800.0],[2500.0],[17200.0],[3700.0],[800.0],[null],[800.0],[800.0],[1900.0],[5039.349432565976],[11185.972461417397],[6538.318590698449],[9803.698182434104],[7273.077976067759],[6539.852565134122],[null],[36997.61110293721],[21436.496608591504],[1725.5092750958386],[26864.002957127734]],\"domain\":{\"x\":[0.0,1.0],\"y\":[0.0,1.0]},\"hovertemplate\":\"labels=%{label}<br>Population=%{value}<br>parent=%{parent}<br>id=%{id}<br>GDP ($ per capita)=%{color}<extra></extra>\",\"ids\":[\"ASIA (EX. NEAR EAST)         /Afghanistan \",\"EASTERN EUROPE                     /Albania \",\"NORTHERN AFRICA                    /Algeria \",\"OCEANIA                            /American Samoa \",\"WESTERN EUROPE                     /Andorra \",\"SUB-SAHARAN AFRICA                 /Angola \",\"LATIN AMER. & CARIB    /Anguilla \",\"LATIN AMER. & CARIB    /Antigua & Barbuda \",\"LATIN AMER. & CARIB    /Argentina \",\"C.W. OF IND. STATES /Armenia \",\"LATIN AMER. & CARIB    /Aruba \",\"OCEANIA                            /Australia \",\"WESTERN EUROPE                     /Austria \",\"C.W. OF IND. STATES /Azerbaijan \",\"LATIN AMER. & CARIB    /Bahamas, The \",\"NEAR EAST                          /Bahrain \",\"ASIA (EX. NEAR EAST)         /Bangladesh \",\"LATIN AMER. & CARIB    /Barbados \",\"C.W. OF IND. STATES /Belarus \",\"WESTERN EUROPE                     /Belgium \",\"LATIN AMER. & CARIB    /Belize \",\"SUB-SAHARAN AFRICA                 /Benin \",\"NORTHERN AMERICA                   /Bermuda \",\"ASIA (EX. NEAR EAST)         /Bhutan \",\"LATIN AMER. & CARIB    /Bolivia \",\"EASTERN EUROPE                     /Bosnia & Herzegovina \",\"SUB-SAHARAN AFRICA                 /Botswana \",\"LATIN AMER. & CARIB    /Brazil \",\"LATIN AMER. & CARIB    /British Virgin Is. \",\"ASIA (EX. NEAR EAST)         /Brunei \",\"EASTERN EUROPE                     /Bulgaria \",\"SUB-SAHARAN AFRICA                 /Burkina Faso \",\"ASIA (EX. NEAR EAST)         /Burma \",\"SUB-SAHARAN AFRICA                 /Burundi \",\"ASIA (EX. NEAR EAST)         /Cambodia \",\"SUB-SAHARAN AFRICA                 /Cameroon \",\"NORTHERN AMERICA                   /Canada \",\"SUB-SAHARAN AFRICA                 /Cape Verde \",\"LATIN AMER. & CARIB    /Cayman Islands \",\"SUB-SAHARAN AFRICA                 /Central African Rep. \",\"SUB-SAHARAN AFRICA                 /Chad \",\"LATIN AMER. & CARIB    /Chile \",\"ASIA (EX. NEAR EAST)         /China \",\"LATIN AMER. & CARIB    /Colombia \",\"SUB-SAHARAN AFRICA                 /Comoros \",\"SUB-SAHARAN AFRICA                 /Congo, Dem. Rep. \",\"SUB-SAHARAN AFRICA                 /Congo, Repub. of the \",\"OCEANIA                            /Cook Islands \",\"LATIN AMER. & CARIB    /Costa Rica \",\"SUB-SAHARAN AFRICA                 /Cote d'Ivoire \",\"EASTERN EUROPE                     /Croatia \",\"LATIN AMER. & CARIB    /Cuba \",\"NEAR EAST                          /Cyprus \",\"EASTERN EUROPE                     /Czech Republic \",\"WESTERN EUROPE                     /Denmark \",\"SUB-SAHARAN AFRICA                 /Djibouti \",\"LATIN AMER. & CARIB    /Dominica \",\"LATIN AMER. & CARIB    /Dominican Republic \",\"ASIA (EX. NEAR EAST)         /East Timor \",\"LATIN AMER. & CARIB    /Ecuador \",\"NORTHERN AFRICA                    /Egypt \",\"LATIN AMER. & CARIB    /El Salvador \",\"SUB-SAHARAN AFRICA                 /Equatorial Guinea \",\"SUB-SAHARAN AFRICA                 /Eritrea \",\"BALTICS                            /Estonia \",\"SUB-SAHARAN AFRICA                 /Ethiopia \",\"WESTERN EUROPE                     /Faroe Islands \",\"OCEANIA                            /Fiji \",\"WESTERN EUROPE                     /Finland \",\"WESTERN EUROPE                     /France \",\"LATIN AMER. & CARIB    /French Guiana \",\"OCEANIA                            /French Polynesia \",\"SUB-SAHARAN AFRICA                 /Gabon \",\"SUB-SAHARAN AFRICA                 /Gambia, The \",\"NEAR EAST                          /Gaza Strip \",\"C.W. OF IND. STATES /Georgia \",\"WESTERN EUROPE                     /Germany \",\"SUB-SAHARAN AFRICA                 /Ghana \",\"WESTERN EUROPE                     /Gibraltar \",\"WESTERN EUROPE                     /Greece \",\"NORTHERN AMERICA                   /Greenland \",\"LATIN AMER. & CARIB    /Grenada \",\"LATIN AMER. & CARIB    /Guadeloupe \",\"OCEANIA                            /Guam \",\"LATIN AMER. & CARIB    /Guatemala \",\"WESTERN EUROPE                     /Guernsey \",\"SUB-SAHARAN AFRICA                 /Guinea \",\"SUB-SAHARAN AFRICA                 /Guinea-Bissau \",\"LATIN AMER. & CARIB    /Guyana \",\"LATIN AMER. & CARIB    /Haiti \",\"LATIN AMER. & CARIB    /Honduras \",\"ASIA (EX. NEAR EAST)         /Hong Kong \",\"EASTERN EUROPE                     /Hungary \",\"WESTERN EUROPE                     /Iceland \",\"ASIA (EX. NEAR EAST)         /India \",\"ASIA (EX. NEAR EAST)         /Indonesia \",\"ASIA (EX. NEAR EAST)         /Iran \",\"NEAR EAST                          /Iraq \",\"WESTERN EUROPE                     /Ireland \",\"WESTERN EUROPE                     /Isle of Man \",\"NEAR EAST                          /Israel \",\"WESTERN EUROPE                     /Italy \",\"LATIN AMER. & CARIB    /Jamaica \",\"ASIA (EX. NEAR EAST)         /Japan \",\"WESTERN EUROPE                     /Jersey \",\"NEAR EAST                          /Jordan \",\"C.W. OF IND. STATES /Kazakhstan \",\"SUB-SAHARAN AFRICA                 /Kenya \",\"OCEANIA                            /Kiribati \",\"ASIA (EX. NEAR EAST)         /Korea, North \",\"ASIA (EX. NEAR EAST)         /Korea, South \",\"NEAR EAST                          /Kuwait \",\"C.W. OF IND. STATES /Kyrgyzstan \",\"ASIA (EX. NEAR EAST)         /Laos \",\"BALTICS                            /Latvia \",\"NEAR EAST                          /Lebanon \",\"SUB-SAHARAN AFRICA                 /Lesotho \",\"SUB-SAHARAN AFRICA                 /Liberia \",\"NORTHERN AFRICA                    /Libya \",\"WESTERN EUROPE                     /Liechtenstein \",\"BALTICS                            /Lithuania \",\"WESTERN EUROPE                     /Luxembourg \",\"ASIA (EX. NEAR EAST)         /Macau \",\"EASTERN EUROPE                     /Macedonia \",\"SUB-SAHARAN AFRICA                 /Madagascar \",\"SUB-SAHARAN AFRICA                 /Malawi \",\"ASIA (EX. NEAR EAST)         /Malaysia \",\"ASIA (EX. NEAR EAST)         /Maldives \",\"SUB-SAHARAN AFRICA                 /Mali \",\"WESTERN EUROPE                     /Malta \",\"OCEANIA                            /Marshall Islands \",\"LATIN AMER. & CARIB    /Martinique \",\"SUB-SAHARAN AFRICA                 /Mauritania \",\"SUB-SAHARAN AFRICA                 /Mauritius \",\"SUB-SAHARAN AFRICA                 /Mayotte \",\"LATIN AMER. & CARIB    /Mexico \",\"OCEANIA                            /Micronesia, Fed. St. \",\"C.W. OF IND. STATES /Moldova \",\"WESTERN EUROPE                     /Monaco \",\"ASIA (EX. NEAR EAST)         /Mongolia \",\"LATIN AMER. & CARIB    /Montserrat \",\"NORTHERN AFRICA                    /Morocco \",\"SUB-SAHARAN AFRICA                 /Mozambique \",\"OCEANIA                            /N. Mariana Islands \",\"SUB-SAHARAN AFRICA                 /Namibia \",\"OCEANIA                            /Nauru \",\"ASIA (EX. NEAR EAST)         /Nepal \",\"WESTERN EUROPE                     /Netherlands \",\"LATIN AMER. & CARIB    /Netherlands Antilles \",\"OCEANIA                            /New Caledonia \",\"OCEANIA                            /New Zealand \",\"LATIN AMER. & CARIB    /Nicaragua \",\"SUB-SAHARAN AFRICA                 /Niger \",\"SUB-SAHARAN AFRICA                 /Nigeria \",\"WESTERN EUROPE                     /Norway \",\"NEAR EAST                          /Oman \",\"ASIA (EX. NEAR EAST)         /Pakistan \",\"OCEANIA                            /Palau \",\"LATIN AMER. & CARIB    /Panama \",\"OCEANIA                            /Papua New Guinea \",\"LATIN AMER. & CARIB    /Paraguay \",\"LATIN AMER. & CARIB    /Peru \",\"ASIA (EX. NEAR EAST)         /Philippines \",\"EASTERN EUROPE                     /Poland \",\"WESTERN EUROPE                     /Portugal \",\"LATIN AMER. & CARIB    /Puerto Rico \",\"NEAR EAST                          /Qatar \",\"SUB-SAHARAN AFRICA                 /Reunion \",\"EASTERN EUROPE                     /Romania \",\"C.W. OF IND. STATES /Russia \",\"SUB-SAHARAN AFRICA                 /Rwanda \",\"SUB-SAHARAN AFRICA                 /Saint Helena \",\"LATIN AMER. & CARIB    /Saint Kitts & Nevis \",\"LATIN AMER. & CARIB    /Saint Lucia \",\"LATIN AMER. & CARIB    /Saint Vincent and the Grenadines \",\"OCEANIA                            /Samoa \",\"WESTERN EUROPE                     /San Marino \",\"SUB-SAHARAN AFRICA                 /Sao Tome & Principe \",\"NEAR EAST                          /Saudi Arabia \",\"SUB-SAHARAN AFRICA                 /Senegal \",\"EASTERN EUROPE                     /Serbia \",\"SUB-SAHARAN AFRICA                 /Seychelles \",\"SUB-SAHARAN AFRICA                 /Sierra Leone \",\"ASIA (EX. NEAR EAST)         /Singapore \",\"EASTERN EUROPE                     /Slovakia \",\"EASTERN EUROPE                     /Slovenia \",\"OCEANIA                            /Solomon Islands \",\"SUB-SAHARAN AFRICA                 /Somalia \",\"SUB-SAHARAN AFRICA                 /South Africa \",\"WESTERN EUROPE                     /Spain \",\"ASIA (EX. NEAR EAST)         /Sri Lanka \",\"NORTHERN AMERICA                   /St Pierre & Miquelon \",\"SUB-SAHARAN AFRICA                 /Sudan \",\"LATIN AMER. & CARIB    /Suriname \",\"SUB-SAHARAN AFRICA                 /Swaziland \",\"WESTERN EUROPE                     /Sweden \",\"WESTERN EUROPE                     /Switzerland \",\"NEAR EAST                          /Syria \",\"ASIA (EX. NEAR EAST)         /Taiwan \",\"C.W. OF IND. STATES /Tajikistan \",\"SUB-SAHARAN AFRICA                 /Tanzania \",\"ASIA (EX. NEAR EAST)         /Thailand \",\"SUB-SAHARAN AFRICA                 /Togo \",\"OCEANIA                            /Tonga \",\"LATIN AMER. & CARIB    /Trinidad & Tobago \",\"NORTHERN AFRICA                    /Tunisia \",\"NEAR EAST                          /Turkey \",\"C.W. OF IND. STATES /Turkmenistan \",\"LATIN AMER. & CARIB    /Turks & Caicos Is \",\"OCEANIA                            /Tuvalu \",\"SUB-SAHARAN AFRICA                 /Uganda \",\"C.W. OF IND. STATES /Ukraine \",\"NEAR EAST                          /United Arab Emirates \",\"WESTERN EUROPE                     /United Kingdom \",\"NORTHERN AMERICA                   /United States \",\"LATIN AMER. & CARIB    /Uruguay \",\"C.W. OF IND. STATES /Uzbekistan \",\"OCEANIA                            /Vanuatu \",\"LATIN AMER. & CARIB    /Venezuela \",\"ASIA (EX. NEAR EAST)         /Vietnam \",\"LATIN AMER. & CARIB    /Virgin Islands \",\"OCEANIA                            /Wallis and Futuna \",\"NEAR EAST                          /West Bank \",\"NORTHERN AFRICA                    /Western Sahara \",\"NEAR EAST                          /Yemen \",\"SUB-SAHARAN AFRICA                 /Zambia \",\"SUB-SAHARAN AFRICA                 /Zimbabwe \",\"ASIA (EX. NEAR EAST)         \",\"BALTICS                            \",\"C.W. OF IND. STATES \",\"EASTERN EUROPE                     \",\"LATIN AMER. & CARIB    \",\"NEAR EAST                          \",\"NORTHERN AFRICA                    \",\"NORTHERN AMERICA                   \",\"OCEANIA                            \",\"SUB-SAHARAN AFRICA                 \",\"WESTERN EUROPE                     \"],\"labels\":[\"Afghanistan \",\"Albania \",\"Algeria \",\"American Samoa \",\"Andorra \",\"Angola \",\"Anguilla \",\"Antigua & Barbuda \",\"Argentina \",\"Armenia \",\"Aruba \",\"Australia \",\"Austria \",\"Azerbaijan \",\"Bahamas, The \",\"Bahrain \",\"Bangladesh \",\"Barbados \",\"Belarus \",\"Belgium \",\"Belize \",\"Benin \",\"Bermuda \",\"Bhutan \",\"Bolivia \",\"Bosnia & Herzegovina \",\"Botswana \",\"Brazil \",\"British Virgin Is. \",\"Brunei \",\"Bulgaria \",\"Burkina Faso \",\"Burma \",\"Burundi \",\"Cambodia \",\"Cameroon \",\"Canada \",\"Cape Verde \",\"Cayman Islands \",\"Central African Rep. \",\"Chad \",\"Chile \",\"China \",\"Colombia \",\"Comoros \",\"Congo, Dem. Rep. \",\"Congo, Repub. of the \",\"Cook Islands \",\"Costa Rica \",\"Cote d'Ivoire \",\"Croatia \",\"Cuba \",\"Cyprus \",\"Czech Republic \",\"Denmark \",\"Djibouti \",\"Dominica \",\"Dominican Republic \",\"East Timor \",\"Ecuador \",\"Egypt \",\"El Salvador \",\"Equatorial Guinea \",\"Eritrea \",\"Estonia \",\"Ethiopia \",\"Faroe Islands \",\"Fiji \",\"Finland \",\"France \",\"French Guiana \",\"French Polynesia \",\"Gabon \",\"Gambia, The \",\"Gaza Strip \",\"Georgia \",\"Germany \",\"Ghana \",\"Gibraltar \",\"Greece \",\"Greenland \",\"Grenada \",\"Guadeloupe \",\"Guam \",\"Guatemala \",\"Guernsey \",\"Guinea \",\"Guinea-Bissau \",\"Guyana \",\"Haiti \",\"Honduras \",\"Hong Kong \",\"Hungary \",\"Iceland \",\"India \",\"Indonesia \",\"Iran \",\"Iraq \",\"Ireland \",\"Isle of Man \",\"Israel \",\"Italy \",\"Jamaica \",\"Japan \",\"Jersey \",\"Jordan \",\"Kazakhstan \",\"Kenya \",\"Kiribati \",\"Korea, North \",\"Korea, South \",\"Kuwait \",\"Kyrgyzstan \",\"Laos \",\"Latvia \",\"Lebanon \",\"Lesotho \",\"Liberia \",\"Libya \",\"Liechtenstein \",\"Lithuania \",\"Luxembourg \",\"Macau \",\"Macedonia \",\"Madagascar \",\"Malawi \",\"Malaysia \",\"Maldives \",\"Mali \",\"Malta \",\"Marshall Islands \",\"Martinique \",\"Mauritania \",\"Mauritius \",\"Mayotte \",\"Mexico \",\"Micronesia, Fed. St. \",\"Moldova \",\"Monaco \",\"Mongolia \",\"Montserrat \",\"Morocco \",\"Mozambique \",\"N. Mariana Islands \",\"Namibia \",\"Nauru \",\"Nepal \",\"Netherlands \",\"Netherlands Antilles \",\"New Caledonia \",\"New Zealand \",\"Nicaragua \",\"Niger \",\"Nigeria \",\"Norway \",\"Oman \",\"Pakistan \",\"Palau \",\"Panama \",\"Papua New Guinea \",\"Paraguay \",\"Peru \",\"Philippines \",\"Poland \",\"Portugal \",\"Puerto Rico \",\"Qatar \",\"Reunion \",\"Romania \",\"Russia \",\"Rwanda \",\"Saint Helena \",\"Saint Kitts & Nevis \",\"Saint Lucia \",\"Saint Vincent and the Grenadines \",\"Samoa \",\"San Marino \",\"Sao Tome & Principe \",\"Saudi Arabia \",\"Senegal \",\"Serbia \",\"Seychelles \",\"Sierra Leone \",\"Singapore \",\"Slovakia \",\"Slovenia \",\"Solomon Islands \",\"Somalia \",\"South Africa \",\"Spain \",\"Sri Lanka \",\"St Pierre & Miquelon \",\"Sudan \",\"Suriname \",\"Swaziland \",\"Sweden \",\"Switzerland \",\"Syria \",\"Taiwan \",\"Tajikistan \",\"Tanzania \",\"Thailand \",\"Togo \",\"Tonga \",\"Trinidad & Tobago \",\"Tunisia \",\"Turkey \",\"Turkmenistan \",\"Turks & Caicos Is \",\"Tuvalu \",\"Uganda \",\"Ukraine \",\"United Arab Emirates \",\"United Kingdom \",\"United States \",\"Uruguay \",\"Uzbekistan \",\"Vanuatu \",\"Venezuela \",\"Vietnam \",\"Virgin Islands \",\"Wallis and Futuna \",\"West Bank \",\"Western Sahara \",\"Yemen \",\"Zambia \",\"Zimbabwe \",\"ASIA (EX. NEAR EAST)         \",\"BALTICS                            \",\"C.W. OF IND. STATES \",\"EASTERN EUROPE                     \",\"LATIN AMER. & CARIB    \",\"NEAR EAST                          \",\"NORTHERN AFRICA                    \",\"NORTHERN AMERICA                   \",\"OCEANIA                            \",\"SUB-SAHARAN AFRICA                 \",\"WESTERN EUROPE                     \"],\"marker\":{\"coloraxis\":\"coloraxis\",\"colors\":[700.0,4500.0,6000.0,8000.0,19000.0,1900.0,8600.0,11000.0,11200.0,3500.0,28000.0,29000.0,30000.0,3400.0,16700.0,16900.0,1900.0,15700.0,6100.0,29100.0,4900.0,1100.0,36000.0,1300.0,2400.0,6100.0,9000.0,7600.0,16000.0,18600.0,7600.0,1100.0,1800.0,600.0,1900.0,1800.0,29800.0,1400.0,35000.0,1100.0,1200.0,9900.0,5000.0,6300.0,700.0,700.0,700.0,5000.0,9100.0,1400.0,10600.0,2900.0,19200.0,15700.0,31100.0,1300.0,5400.0,6000.0,500.0,3300.0,4000.0,4800.0,2700.0,700.0,12300.0,700.0,22000.0,5800.0,27400.0,27600.0,8300.0,17500.0,5500.0,1700.0,600.0,2500.0,27600.0,2200.0,17500.0,20000.0,20000.0,5000.0,8000.0,21000.0,4100.0,20000.0,2100.0,800.0,4000.0,1600.0,2600.0,28800.0,13900.0,30900.0,2900.0,3200.0,7000.0,1500.0,29600.0,21000.0,19800.0,26700.0,3900.0,28200.0,24800.0,4300.0,6300.0,1000.0,800.0,1300.0,17800.0,19000.0,1600.0,1700.0,10200.0,4800.0,3000.0,1000.0,6400.0,25000.0,11400.0,55100.0,19400.0,6700.0,800.0,600.0,9000.0,3900.0,900.0,17700.0,1600.0,14400.0,1800.0,11400.0,2600.0,9000.0,2000.0,1800.0,27000.0,1800.0,3400.0,4000.0,1200.0,12500.0,7200.0,5000.0,1400.0,28600.0,11400.0,15000.0,21600.0,2300.0,800.0,900.0,37800.0,13100.0,2100.0,9000.0,6300.0,2200.0,4700.0,5100.0,4600.0,11100.0,18000.0,16800.0,21500.0,5800.0,7000.0,8900.0,1300.0,2500.0,8800.0,5400.0,2900.0,5600.0,34600.0,1200.0,11800.0,1600.0,2200.0,7800.0,500.0,23700.0,13300.0,19000.0,1700.0,500.0,10700.0,22000.0,3700.0,6900.0,1900.0,4000.0,4900.0,26800.0,32700.0,3300.0,23400.0,1000.0,600.0,7400.0,1500.0,2200.0,9500.0,6900.0,6700.0,5800.0,9600.0,1100.0,1400.0,5400.0,23200.0,27700.0,37800.0,12800.0,1700.0,2900.0,4800.0,2500.0,17200.0,3700.0,800.0,null,800.0,800.0,1900.0,5039.349432565976,11185.972461417397,6538.318590698449,9803.698182434104,7273.077976067759,6539.852565134122,null,36997.61110293721,21436.496608591504,1725.5092750958386,26864.002957127734]},\"name\":\"\",\"parents\":[\"ASIA (EX. NEAR EAST)         \",\"EASTERN EUROPE                     \",\"NORTHERN AFRICA                    \",\"OCEANIA                            \",\"WESTERN EUROPE                     \",\"SUB-SAHARAN AFRICA                 \",\"LATIN AMER. & CARIB    \",\"LATIN AMER. & CARIB    \",\"LATIN AMER. & CARIB    \",\"C.W. OF IND. STATES \",\"LATIN AMER. & CARIB    \",\"OCEANIA                            \",\"WESTERN EUROPE                     \",\"C.W. OF IND. STATES \",\"LATIN AMER. & CARIB    \",\"NEAR EAST                          \",\"ASIA (EX. NEAR EAST)         \",\"LATIN AMER. & CARIB    \",\"C.W. OF IND. STATES \",\"WESTERN EUROPE                     \",\"LATIN AMER. & CARIB    \",\"SUB-SAHARAN AFRICA                 \",\"NORTHERN AMERICA                   \",\"ASIA (EX. NEAR EAST)         \",\"LATIN AMER. & CARIB    \",\"EASTERN EUROPE                     \",\"SUB-SAHARAN AFRICA                 \",\"LATIN AMER. & CARIB    \",\"LATIN AMER. & CARIB    \",\"ASIA (EX. NEAR EAST)         \",\"EASTERN EUROPE                     \",\"SUB-SAHARAN AFRICA                 \",\"ASIA (EX. NEAR EAST)         \",\"SUB-SAHARAN AFRICA                 \",\"ASIA (EX. NEAR EAST)         \",\"SUB-SAHARAN AFRICA                 \",\"NORTHERN AMERICA                   \",\"SUB-SAHARAN AFRICA                 \",\"LATIN AMER. & CARIB    \",\"SUB-SAHARAN AFRICA                 \",\"SUB-SAHARAN AFRICA                 \",\"LATIN AMER. & CARIB    \",\"ASIA (EX. NEAR EAST)         \",\"LATIN AMER. & CARIB    \",\"SUB-SAHARAN AFRICA                 \",\"SUB-SAHARAN AFRICA                 \",\"SUB-SAHARAN AFRICA                 \",\"OCEANIA                            \",\"LATIN AMER. & CARIB    \",\"SUB-SAHARAN AFRICA                 \",\"EASTERN EUROPE                     \",\"LATIN AMER. & CARIB    \",\"NEAR EAST                          \",\"EASTERN EUROPE                     \",\"WESTERN EUROPE                     \",\"SUB-SAHARAN AFRICA                 \",\"LATIN AMER. & CARIB    \",\"LATIN AMER. & CARIB    \",\"ASIA (EX. NEAR EAST)         \",\"LATIN AMER. & CARIB    \",\"NORTHERN AFRICA                    \",\"LATIN AMER. & CARIB    \",\"SUB-SAHARAN AFRICA                 \",\"SUB-SAHARAN AFRICA                 \",\"BALTICS                            \",\"SUB-SAHARAN AFRICA                 \",\"WESTERN EUROPE                     \",\"OCEANIA                            \",\"WESTERN EUROPE                     \",\"WESTERN EUROPE                     \",\"LATIN AMER. & CARIB    \",\"OCEANIA                            \",\"SUB-SAHARAN AFRICA                 \",\"SUB-SAHARAN AFRICA                 \",\"NEAR EAST                          \",\"C.W. OF IND. STATES \",\"WESTERN EUROPE                     \",\"SUB-SAHARAN AFRICA                 \",\"WESTERN EUROPE                     \",\"WESTERN EUROPE                     \",\"NORTHERN AMERICA                   \",\"LATIN AMER. & CARIB    \",\"LATIN AMER. & CARIB    \",\"OCEANIA                            \",\"LATIN AMER. & CARIB    \",\"WESTERN EUROPE                     \",\"SUB-SAHARAN AFRICA                 \",\"SUB-SAHARAN AFRICA                 \",\"LATIN AMER. & CARIB    \",\"LATIN AMER. & CARIB    \",\"LATIN AMER. & CARIB    \",\"ASIA (EX. NEAR EAST)         \",\"EASTERN EUROPE                     \",\"WESTERN EUROPE                     \",\"ASIA (EX. NEAR EAST)         \",\"ASIA (EX. NEAR EAST)         \",\"ASIA (EX. NEAR EAST)         \",\"NEAR EAST                          \",\"WESTERN EUROPE                     \",\"WESTERN EUROPE                     \",\"NEAR EAST                          \",\"WESTERN EUROPE                     \",\"LATIN AMER. & CARIB    \",\"ASIA (EX. NEAR EAST)         \",\"WESTERN EUROPE                     \",\"NEAR EAST                          \",\"C.W. OF IND. STATES \",\"SUB-SAHARAN AFRICA                 \",\"OCEANIA                            \",\"ASIA (EX. NEAR EAST)         \",\"ASIA (EX. NEAR EAST)         \",\"NEAR EAST                          \",\"C.W. OF IND. STATES \",\"ASIA (EX. NEAR EAST)         \",\"BALTICS                            \",\"NEAR EAST                          \",\"SUB-SAHARAN AFRICA                 \",\"SUB-SAHARAN AFRICA                 \",\"NORTHERN AFRICA                    \",\"WESTERN EUROPE                     \",\"BALTICS                            \",\"WESTERN EUROPE                     \",\"ASIA (EX. NEAR EAST)         \",\"EASTERN EUROPE                     \",\"SUB-SAHARAN AFRICA                 \",\"SUB-SAHARAN AFRICA                 \",\"ASIA (EX. NEAR EAST)         \",\"ASIA (EX. NEAR EAST)         \",\"SUB-SAHARAN AFRICA                 \",\"WESTERN EUROPE                     \",\"OCEANIA                            \",\"LATIN AMER. & CARIB    \",\"SUB-SAHARAN AFRICA                 \",\"SUB-SAHARAN AFRICA                 \",\"SUB-SAHARAN AFRICA                 \",\"LATIN AMER. & CARIB    \",\"OCEANIA                            \",\"C.W. OF IND. STATES \",\"WESTERN EUROPE                     \",\"ASIA (EX. NEAR EAST)         \",\"LATIN AMER. & CARIB    \",\"NORTHERN AFRICA                    \",\"SUB-SAHARAN AFRICA                 \",\"OCEANIA                            \",\"SUB-SAHARAN AFRICA                 \",\"OCEANIA                            \",\"ASIA (EX. NEAR EAST)         \",\"WESTERN EUROPE                     \",\"LATIN AMER. & CARIB    \",\"OCEANIA                            \",\"OCEANIA                            \",\"LATIN AMER. & CARIB    \",\"SUB-SAHARAN AFRICA                 \",\"SUB-SAHARAN AFRICA                 \",\"WESTERN EUROPE                     \",\"NEAR EAST                          \",\"ASIA (EX. NEAR EAST)         \",\"OCEANIA                            \",\"LATIN AMER. & CARIB    \",\"OCEANIA                            \",\"LATIN AMER. & CARIB    \",\"LATIN AMER. & CARIB    \",\"ASIA (EX. NEAR EAST)         \",\"EASTERN EUROPE                     \",\"WESTERN EUROPE                     \",\"LATIN AMER. & CARIB    \",\"NEAR EAST                          \",\"SUB-SAHARAN AFRICA                 \",\"EASTERN EUROPE                     \",\"C.W. OF IND. STATES \",\"SUB-SAHARAN AFRICA                 \",\"SUB-SAHARAN AFRICA                 \",\"LATIN AMER. & CARIB    \",\"LATIN AMER. & CARIB    \",\"LATIN AMER. & CARIB    \",\"OCEANIA                            \",\"WESTERN EUROPE                     \",\"SUB-SAHARAN AFRICA                 \",\"NEAR EAST                          \",\"SUB-SAHARAN AFRICA                 \",\"EASTERN EUROPE                     \",\"SUB-SAHARAN AFRICA                 \",\"SUB-SAHARAN AFRICA                 \",\"ASIA (EX. NEAR EAST)         \",\"EASTERN EUROPE                     \",\"EASTERN EUROPE                     \",\"OCEANIA                            \",\"SUB-SAHARAN AFRICA                 \",\"SUB-SAHARAN AFRICA                 \",\"WESTERN EUROPE                     \",\"ASIA (EX. NEAR EAST)         \",\"NORTHERN AMERICA                   \",\"SUB-SAHARAN AFRICA                 \",\"LATIN AMER. & CARIB    \",\"SUB-SAHARAN AFRICA                 \",\"WESTERN EUROPE                     \",\"WESTERN EUROPE                     \",\"NEAR EAST                          \",\"ASIA (EX. NEAR EAST)         \",\"C.W. OF IND. STATES \",\"SUB-SAHARAN AFRICA                 \",\"ASIA (EX. NEAR EAST)         \",\"SUB-SAHARAN AFRICA                 \",\"OCEANIA                            \",\"LATIN AMER. & CARIB    \",\"NORTHERN AFRICA                    \",\"NEAR EAST                          \",\"C.W. OF IND. STATES \",\"LATIN AMER. & CARIB    \",\"OCEANIA                            \",\"SUB-SAHARAN AFRICA                 \",\"C.W. OF IND. STATES \",\"NEAR EAST                          \",\"WESTERN EUROPE                     \",\"NORTHERN AMERICA                   \",\"LATIN AMER. & CARIB    \",\"C.W. OF IND. STATES \",\"OCEANIA                            \",\"LATIN AMER. & CARIB    \",\"ASIA (EX. NEAR EAST)         \",\"LATIN AMER. & CARIB    \",\"OCEANIA                            \",\"NEAR EAST                          \",\"NORTHERN AFRICA                    \",\"NEAR EAST                          \",\"SUB-SAHARAN AFRICA                 \",\"SUB-SAHARAN AFRICA                 \",\"\",\"\",\"\",\"\",\"\",\"\",\"\",\"\",\"\",\"\",\"\"],\"values\":[31056997,3581655,32930091,57794,71201,12127071,13477,69108,39921833,2976372,71891,20264082,8192880,7961619,303770,698585,147365352,279912,10293011,10379067,287730,7862944,65773,2279723,8989046,4498976,1639833,188078227,23098,379444,7385367,13902972,47382633,8090068,13881427,17340702,33098932,420979,45436,4303356,9944201,16134219,1313973713,43593035,690948,62660551,3702314,21388,4075261,17654843,4494749,11382820,784301,10235455,5450661,486530,68910,9183984,1062777,13547510,78887007,6822378,540109,4786994,1324333,74777981,47246,905949,5231372,60876136,199509,274578,1424906,1641564,1428757,4661473,82422299,22409572,27928,10688058,56361,89703,452776,171019,12293545,65409,9690222,1442029,767245,8308504,7326496,6940432,9981334,299388,1095351995,245452739,68688433,26783383,4062235,75441,6352117,58133509,2758124,127463611,91084,5906760,15233244,34707817,105432,23113019,48846823,2418393,5213898,6368481,2274735,3874050,2022331,3042004,5900754,33987,3585906,474413,453125,2050554,18595469,13013926,24385858,359008,11716829,400214,60422,436131,3177388,1240827,201234,107449525,108004,4466706,32543,2832224,9439,33241259,19686505,82459,2044147,13287,28287147,16491461,221736,219246,4076140,5570129,12525094,131859731,4610820,3102229,165803560,20579,3191319,5670544,6506464,28302603,89468677,38536869,10605870,3927188,885359,787584,22303552,142893540,8648248,7502,39129,168458,117848,176908,29251,193413,27019731,11987121,9396411,81541,6005250,4492150,5439448,2010347,552438,8863338,44187637,40397842,20222240,7026,41236378,439117,1136334,9016596,7523934,18881361,23036087,7320815,37445392,64631595,5548702,114689,1065842,10175014,70413958,5042920,21152,11810,28195754,46710816,2602713,60609153,298444215,3431932,27307134,208869,25730435,84402966,108605,16025,2460492,273008,21456188,11502010,12236805,3687982236,7184974,280081548,119914717,561824599,195068377,161407133,331672307,33131662,749437000,396339998],\"type\":\"treemap\"}],                        {\"template\":{\"data\":{\"bar\":[{\"error_x\":{\"color\":\"#2a3f5f\"},\"error_y\":{\"color\":\"#2a3f5f\"},\"marker\":{\"line\":{\"color\":\"#E5ECF6\",\"width\":0.5},\"pattern\":{\"fillmode\":\"overlay\",\"size\":10,\"solidity\":0.2}},\"type\":\"bar\"}],\"barpolar\":[{\"marker\":{\"line\":{\"color\":\"#E5ECF6\",\"width\":0.5},\"pattern\":{\"fillmode\":\"overlay\",\"size\":10,\"solidity\":0.2}},\"type\":\"barpolar\"}],\"carpet\":[{\"aaxis\":{\"endlinecolor\":\"#2a3f5f\",\"gridcolor\":\"white\",\"linecolor\":\"white\",\"minorgridcolor\":\"white\",\"startlinecolor\":\"#2a3f5f\"},\"baxis\":{\"endlinecolor\":\"#2a3f5f\",\"gridcolor\":\"white\",\"linecolor\":\"white\",\"minorgridcolor\":\"white\",\"startlinecolor\":\"#2a3f5f\"},\"type\":\"carpet\"}],\"choropleth\":[{\"colorbar\":{\"outlinewidth\":0,\"ticks\":\"\"},\"type\":\"choropleth\"}],\"contour\":[{\"colorbar\":{\"outlinewidth\":0,\"ticks\":\"\"},\"colorscale\":[[0.0,\"#0d0887\"],[0.1111111111111111,\"#46039f\"],[0.2222222222222222,\"#7201a8\"],[0.3333333333333333,\"#9c179e\"],[0.4444444444444444,\"#bd3786\"],[0.5555555555555556,\"#d8576b\"],[0.6666666666666666,\"#ed7953\"],[0.7777777777777778,\"#fb9f3a\"],[0.8888888888888888,\"#fdca26\"],[1.0,\"#f0f921\"]],\"type\":\"contour\"}],\"contourcarpet\":[{\"colorbar\":{\"outlinewidth\":0,\"ticks\":\"\"},\"type\":\"contourcarpet\"}],\"heatmap\":[{\"colorbar\":{\"outlinewidth\":0,\"ticks\":\"\"},\"colorscale\":[[0.0,\"#0d0887\"],[0.1111111111111111,\"#46039f\"],[0.2222222222222222,\"#7201a8\"],[0.3333333333333333,\"#9c179e\"],[0.4444444444444444,\"#bd3786\"],[0.5555555555555556,\"#d8576b\"],[0.6666666666666666,\"#ed7953\"],[0.7777777777777778,\"#fb9f3a\"],[0.8888888888888888,\"#fdca26\"],[1.0,\"#f0f921\"]],\"type\":\"heatmap\"}],\"heatmapgl\":[{\"colorbar\":{\"outlinewidth\":0,\"ticks\":\"\"},\"colorscale\":[[0.0,\"#0d0887\"],[0.1111111111111111,\"#46039f\"],[0.2222222222222222,\"#7201a8\"],[0.3333333333333333,\"#9c179e\"],[0.4444444444444444,\"#bd3786\"],[0.5555555555555556,\"#d8576b\"],[0.6666666666666666,\"#ed7953\"],[0.7777777777777778,\"#fb9f3a\"],[0.8888888888888888,\"#fdca26\"],[1.0,\"#f0f921\"]],\"type\":\"heatmapgl\"}],\"histogram\":[{\"marker\":{\"pattern\":{\"fillmode\":\"overlay\",\"size\":10,\"solidity\":0.2}},\"type\":\"histogram\"}],\"histogram2d\":[{\"colorbar\":{\"outlinewidth\":0,\"ticks\":\"\"},\"colorscale\":[[0.0,\"#0d0887\"],[0.1111111111111111,\"#46039f\"],[0.2222222222222222,\"#7201a8\"],[0.3333333333333333,\"#9c179e\"],[0.4444444444444444,\"#bd3786\"],[0.5555555555555556,\"#d8576b\"],[0.6666666666666666,\"#ed7953\"],[0.7777777777777778,\"#fb9f3a\"],[0.8888888888888888,\"#fdca26\"],[1.0,\"#f0f921\"]],\"type\":\"histogram2d\"}],\"histogram2dcontour\":[{\"colorbar\":{\"outlinewidth\":0,\"ticks\":\"\"},\"colorscale\":[[0.0,\"#0d0887\"],[0.1111111111111111,\"#46039f\"],[0.2222222222222222,\"#7201a8\"],[0.3333333333333333,\"#9c179e\"],[0.4444444444444444,\"#bd3786\"],[0.5555555555555556,\"#d8576b\"],[0.6666666666666666,\"#ed7953\"],[0.7777777777777778,\"#fb9f3a\"],[0.8888888888888888,\"#fdca26\"],[1.0,\"#f0f921\"]],\"type\":\"histogram2dcontour\"}],\"mesh3d\":[{\"colorbar\":{\"outlinewidth\":0,\"ticks\":\"\"},\"type\":\"mesh3d\"}],\"parcoords\":[{\"line\":{\"colorbar\":{\"outlinewidth\":0,\"ticks\":\"\"}},\"type\":\"parcoords\"}],\"pie\":[{\"automargin\":true,\"type\":\"pie\"}],\"scatter\":[{\"marker\":{\"colorbar\":{\"outlinewidth\":0,\"ticks\":\"\"}},\"type\":\"scatter\"}],\"scatter3d\":[{\"line\":{\"colorbar\":{\"outlinewidth\":0,\"ticks\":\"\"}},\"marker\":{\"colorbar\":{\"outlinewidth\":0,\"ticks\":\"\"}},\"type\":\"scatter3d\"}],\"scattercarpet\":[{\"marker\":{\"colorbar\":{\"outlinewidth\":0,\"ticks\":\"\"}},\"type\":\"scattercarpet\"}],\"scattergeo\":[{\"marker\":{\"colorbar\":{\"outlinewidth\":0,\"ticks\":\"\"}},\"type\":\"scattergeo\"}],\"scattergl\":[{\"marker\":{\"colorbar\":{\"outlinewidth\":0,\"ticks\":\"\"}},\"type\":\"scattergl\"}],\"scattermapbox\":[{\"marker\":{\"colorbar\":{\"outlinewidth\":0,\"ticks\":\"\"}},\"type\":\"scattermapbox\"}],\"scatterpolar\":[{\"marker\":{\"colorbar\":{\"outlinewidth\":0,\"ticks\":\"\"}},\"type\":\"scatterpolar\"}],\"scatterpolargl\":[{\"marker\":{\"colorbar\":{\"outlinewidth\":0,\"ticks\":\"\"}},\"type\":\"scatterpolargl\"}],\"scatterternary\":[{\"marker\":{\"colorbar\":{\"outlinewidth\":0,\"ticks\":\"\"}},\"type\":\"scatterternary\"}],\"surface\":[{\"colorbar\":{\"outlinewidth\":0,\"ticks\":\"\"},\"colorscale\":[[0.0,\"#0d0887\"],[0.1111111111111111,\"#46039f\"],[0.2222222222222222,\"#7201a8\"],[0.3333333333333333,\"#9c179e\"],[0.4444444444444444,\"#bd3786\"],[0.5555555555555556,\"#d8576b\"],[0.6666666666666666,\"#ed7953\"],[0.7777777777777778,\"#fb9f3a\"],[0.8888888888888888,\"#fdca26\"],[1.0,\"#f0f921\"]],\"type\":\"surface\"}],\"table\":[{\"cells\":{\"fill\":{\"color\":\"#EBF0F8\"},\"line\":{\"color\":\"white\"}},\"header\":{\"fill\":{\"color\":\"#C8D4E3\"},\"line\":{\"color\":\"white\"}},\"type\":\"table\"}]},\"layout\":{\"annotationdefaults\":{\"arrowcolor\":\"#2a3f5f\",\"arrowhead\":0,\"arrowwidth\":1},\"autotypenumbers\":\"strict\",\"coloraxis\":{\"colorbar\":{\"outlinewidth\":0,\"ticks\":\"\"}},\"colorscale\":{\"diverging\":[[0,\"#8e0152\"],[0.1,\"#c51b7d\"],[0.2,\"#de77ae\"],[0.3,\"#f1b6da\"],[0.4,\"#fde0ef\"],[0.5,\"#f7f7f7\"],[0.6,\"#e6f5d0\"],[0.7,\"#b8e186\"],[0.8,\"#7fbc41\"],[0.9,\"#4d9221\"],[1,\"#276419\"]],\"sequential\":[[0.0,\"#0d0887\"],[0.1111111111111111,\"#46039f\"],[0.2222222222222222,\"#7201a8\"],[0.3333333333333333,\"#9c179e\"],[0.4444444444444444,\"#bd3786\"],[0.5555555555555556,\"#d8576b\"],[0.6666666666666666,\"#ed7953\"],[0.7777777777777778,\"#fb9f3a\"],[0.8888888888888888,\"#fdca26\"],[1.0,\"#f0f921\"]],\"sequentialminus\":[[0.0,\"#0d0887\"],[0.1111111111111111,\"#46039f\"],[0.2222222222222222,\"#7201a8\"],[0.3333333333333333,\"#9c179e\"],[0.4444444444444444,\"#bd3786\"],[0.5555555555555556,\"#d8576b\"],[0.6666666666666666,\"#ed7953\"],[0.7777777777777778,\"#fb9f3a\"],[0.8888888888888888,\"#fdca26\"],[1.0,\"#f0f921\"]]},\"colorway\":[\"#636efa\",\"#EF553B\",\"#00cc96\",\"#ab63fa\",\"#FFA15A\",\"#19d3f3\",\"#FF6692\",\"#B6E880\",\"#FF97FF\",\"#FECB52\"],\"font\":{\"color\":\"#2a3f5f\"},\"geo\":{\"bgcolor\":\"white\",\"lakecolor\":\"white\",\"landcolor\":\"#E5ECF6\",\"showlakes\":true,\"showland\":true,\"subunitcolor\":\"white\"},\"hoverlabel\":{\"align\":\"left\"},\"hovermode\":\"closest\",\"mapbox\":{\"style\":\"light\"},\"paper_bgcolor\":\"white\",\"plot_bgcolor\":\"#E5ECF6\",\"polar\":{\"angularaxis\":{\"gridcolor\":\"white\",\"linecolor\":\"white\",\"ticks\":\"\"},\"bgcolor\":\"#E5ECF6\",\"radialaxis\":{\"gridcolor\":\"white\",\"linecolor\":\"white\",\"ticks\":\"\"}},\"scene\":{\"xaxis\":{\"backgroundcolor\":\"#E5ECF6\",\"gridcolor\":\"white\",\"gridwidth\":2,\"linecolor\":\"white\",\"showbackground\":true,\"ticks\":\"\",\"zerolinecolor\":\"white\"},\"yaxis\":{\"backgroundcolor\":\"#E5ECF6\",\"gridcolor\":\"white\",\"gridwidth\":2,\"linecolor\":\"white\",\"showbackground\":true,\"ticks\":\"\",\"zerolinecolor\":\"white\"},\"zaxis\":{\"backgroundcolor\":\"#E5ECF6\",\"gridcolor\":\"white\",\"gridwidth\":2,\"linecolor\":\"white\",\"showbackground\":true,\"ticks\":\"\",\"zerolinecolor\":\"white\"}},\"shapedefaults\":{\"line\":{\"color\":\"#2a3f5f\"}},\"ternary\":{\"aaxis\":{\"gridcolor\":\"white\",\"linecolor\":\"white\",\"ticks\":\"\"},\"baxis\":{\"gridcolor\":\"white\",\"linecolor\":\"white\",\"ticks\":\"\"},\"bgcolor\":\"#E5ECF6\",\"caxis\":{\"gridcolor\":\"white\",\"linecolor\":\"white\",\"ticks\":\"\"}},\"title\":{\"x\":0.05},\"xaxis\":{\"automargin\":true,\"gridcolor\":\"white\",\"linecolor\":\"white\",\"ticks\":\"\",\"title\":{\"standoff\":15},\"zerolinecolor\":\"white\",\"zerolinewidth\":2},\"yaxis\":{\"automargin\":true,\"gridcolor\":\"white\",\"linecolor\":\"white\",\"ticks\":\"\",\"title\":{\"standoff\":15},\"zerolinecolor\":\"white\",\"zerolinewidth\":2}}},\"coloraxis\":{\"colorbar\":{\"title\":{\"text\":\"GDP ($ per capita)\"}},\"colorscale\":[[0.0,\"rgb(150,0,90)\"],[0.125,\"rgb(0,0,200)\"],[0.25,\"rgb(0,25,255)\"],[0.375,\"rgb(0,152,255)\"],[0.5,\"rgb(44,255,150)\"],[0.625,\"rgb(151,255,0)\"],[0.75,\"rgb(255,234,0)\"],[0.875,\"rgb(255,111,0)\"],[1.0,\"rgb(255,0,0)\"]]},\"legend\":{\"tracegroupgap\":0},\"title\":{\"text\":\"World Population Distribution - colour encoded by G\"},\"height\":600,\"width\":1000},                        {\"responsive\": true}                    ).then(function(){\n",
       "                            \n",
       "var gd = document.getElementById('e13c8129-9549-4561-82c8-88da9ad6e48c');\n",
       "var x = new MutationObserver(function (mutations, observer) {{\n",
       "        var display = window.getComputedStyle(gd).display;\n",
       "        if (!display || display === 'none') {{\n",
       "            console.log([gd, 'removed!']);\n",
       "            Plotly.purge(gd);\n",
       "            observer.disconnect();\n",
       "        }}\n",
       "}});\n",
       "\n",
       "// Listen for the removal of the full notebook cells\n",
       "var notebookContainer = gd.closest('#notebook-container');\n",
       "if (notebookContainer) {{\n",
       "    x.observe(notebookContainer, {childList: true});\n",
       "}}\n",
       "\n",
       "// Listen for the clearing of the current output cell\n",
       "var outputEl = gd.closest('.output');\n",
       "if (outputEl) {{\n",
       "    x.observe(outputEl, {childList: true});\n",
       "}}\n",
       "\n",
       "                        })                };                });            </script>        </div>"
      ]
     },
     "metadata": {},
     "output_type": "display_data"
    }
   ],
   "source": [
    "fig = px.treemap(world_data, path=['Region', 'Country'], values='Population', color='GDP ($ per capita)', color_continuous_scale='rainbow', width=1000, height=600, title='World Population Distribution - colour encoded by G')\n",
    "\n",
    "fig.show()"
   ]
  },
  {
   "cell_type": "code",
   "execution_count": 7,
   "metadata": {},
   "outputs": [
    {
     "data": {
      "text/html": [
       "<div>\n",
       "<style scoped>\n",
       "    .dataframe tbody tr th:only-of-type {\n",
       "        vertical-align: middle;\n",
       "    }\n",
       "\n",
       "    .dataframe tbody tr th {\n",
       "        vertical-align: top;\n",
       "    }\n",
       "\n",
       "    .dataframe thead th {\n",
       "        text-align: right;\n",
       "    }\n",
       "</style>\n",
       "<table border=\"1\" class=\"dataframe\">\n",
       "  <thead>\n",
       "    <tr style=\"text-align: right;\">\n",
       "      <th></th>\n",
       "      <th>Rank</th>\n",
       "      <th>Name</th>\n",
       "      <th>Platform</th>\n",
       "      <th>Year</th>\n",
       "      <th>Genre</th>\n",
       "      <th>Publisher</th>\n",
       "      <th>NA_Sales</th>\n",
       "      <th>EU_Sales</th>\n",
       "      <th>JP_Sales</th>\n",
       "      <th>Other_Sales</th>\n",
       "      <th>Global_Sales</th>\n",
       "    </tr>\n",
       "  </thead>\n",
       "  <tbody>\n",
       "    <tr>\n",
       "      <th>0</th>\n",
       "      <td>1</td>\n",
       "      <td>Wii Sports</td>\n",
       "      <td>Wii</td>\n",
       "      <td>2006.0</td>\n",
       "      <td>Sports</td>\n",
       "      <td>Nintendo</td>\n",
       "      <td>41.49</td>\n",
       "      <td>29.02</td>\n",
       "      <td>3.77</td>\n",
       "      <td>8.46</td>\n",
       "      <td>82.74</td>\n",
       "    </tr>\n",
       "    <tr>\n",
       "      <th>1</th>\n",
       "      <td>2</td>\n",
       "      <td>Super Mario Bros.</td>\n",
       "      <td>NES</td>\n",
       "      <td>1985.0</td>\n",
       "      <td>Platform</td>\n",
       "      <td>Nintendo</td>\n",
       "      <td>29.08</td>\n",
       "      <td>3.58</td>\n",
       "      <td>6.81</td>\n",
       "      <td>0.77</td>\n",
       "      <td>40.24</td>\n",
       "    </tr>\n",
       "    <tr>\n",
       "      <th>2</th>\n",
       "      <td>3</td>\n",
       "      <td>Mario Kart Wii</td>\n",
       "      <td>Wii</td>\n",
       "      <td>2008.0</td>\n",
       "      <td>Racing</td>\n",
       "      <td>Nintendo</td>\n",
       "      <td>15.85</td>\n",
       "      <td>12.88</td>\n",
       "      <td>3.79</td>\n",
       "      <td>3.31</td>\n",
       "      <td>35.82</td>\n",
       "    </tr>\n",
       "    <tr>\n",
       "      <th>3</th>\n",
       "      <td>4</td>\n",
       "      <td>Wii Sports Resort</td>\n",
       "      <td>Wii</td>\n",
       "      <td>2009.0</td>\n",
       "      <td>Sports</td>\n",
       "      <td>Nintendo</td>\n",
       "      <td>15.75</td>\n",
       "      <td>11.01</td>\n",
       "      <td>3.28</td>\n",
       "      <td>2.96</td>\n",
       "      <td>33.00</td>\n",
       "    </tr>\n",
       "    <tr>\n",
       "      <th>4</th>\n",
       "      <td>5</td>\n",
       "      <td>Pokemon Red/Pokemon Blue</td>\n",
       "      <td>GB</td>\n",
       "      <td>1996.0</td>\n",
       "      <td>Role-Playing</td>\n",
       "      <td>Nintendo</td>\n",
       "      <td>11.27</td>\n",
       "      <td>8.89</td>\n",
       "      <td>10.22</td>\n",
       "      <td>1.00</td>\n",
       "      <td>31.37</td>\n",
       "    </tr>\n",
       "    <tr>\n",
       "      <th>...</th>\n",
       "      <td>...</td>\n",
       "      <td>...</td>\n",
       "      <td>...</td>\n",
       "      <td>...</td>\n",
       "      <td>...</td>\n",
       "      <td>...</td>\n",
       "      <td>...</td>\n",
       "      <td>...</td>\n",
       "      <td>...</td>\n",
       "      <td>...</td>\n",
       "      <td>...</td>\n",
       "    </tr>\n",
       "    <tr>\n",
       "      <th>16593</th>\n",
       "      <td>16596</td>\n",
       "      <td>Woody Woodpecker in Crazy Castle 5</td>\n",
       "      <td>GBA</td>\n",
       "      <td>2002.0</td>\n",
       "      <td>Platform</td>\n",
       "      <td>Kemco</td>\n",
       "      <td>0.01</td>\n",
       "      <td>0.00</td>\n",
       "      <td>0.00</td>\n",
       "      <td>0.00</td>\n",
       "      <td>0.01</td>\n",
       "    </tr>\n",
       "    <tr>\n",
       "      <th>16594</th>\n",
       "      <td>16597</td>\n",
       "      <td>Men in Black II: Alien Escape</td>\n",
       "      <td>GC</td>\n",
       "      <td>2003.0</td>\n",
       "      <td>Shooter</td>\n",
       "      <td>Infogrames</td>\n",
       "      <td>0.01</td>\n",
       "      <td>0.00</td>\n",
       "      <td>0.00</td>\n",
       "      <td>0.00</td>\n",
       "      <td>0.01</td>\n",
       "    </tr>\n",
       "    <tr>\n",
       "      <th>16595</th>\n",
       "      <td>16598</td>\n",
       "      <td>SCORE International Baja 1000: The Official Game</td>\n",
       "      <td>PS2</td>\n",
       "      <td>2008.0</td>\n",
       "      <td>Racing</td>\n",
       "      <td>Activision</td>\n",
       "      <td>0.00</td>\n",
       "      <td>0.00</td>\n",
       "      <td>0.00</td>\n",
       "      <td>0.00</td>\n",
       "      <td>0.01</td>\n",
       "    </tr>\n",
       "    <tr>\n",
       "      <th>16596</th>\n",
       "      <td>16599</td>\n",
       "      <td>Know How 2</td>\n",
       "      <td>DS</td>\n",
       "      <td>2010.0</td>\n",
       "      <td>Puzzle</td>\n",
       "      <td>7G//AMES</td>\n",
       "      <td>0.00</td>\n",
       "      <td>0.01</td>\n",
       "      <td>0.00</td>\n",
       "      <td>0.00</td>\n",
       "      <td>0.01</td>\n",
       "    </tr>\n",
       "    <tr>\n",
       "      <th>16597</th>\n",
       "      <td>16600</td>\n",
       "      <td>Spirits &amp; Spells</td>\n",
       "      <td>GBA</td>\n",
       "      <td>2003.0</td>\n",
       "      <td>Platform</td>\n",
       "      <td>Wanadoo</td>\n",
       "      <td>0.01</td>\n",
       "      <td>0.00</td>\n",
       "      <td>0.00</td>\n",
       "      <td>0.00</td>\n",
       "      <td>0.01</td>\n",
       "    </tr>\n",
       "  </tbody>\n",
       "</table>\n",
       "<p>16598 rows × 11 columns</p>\n",
       "</div>"
      ],
      "text/plain": [
       "        Rank                                              Name Platform  \\\n",
       "0          1                                        Wii Sports      Wii   \n",
       "1          2                                 Super Mario Bros.      NES   \n",
       "2          3                                    Mario Kart Wii      Wii   \n",
       "3          4                                 Wii Sports Resort      Wii   \n",
       "4          5                          Pokemon Red/Pokemon Blue       GB   \n",
       "...      ...                                               ...      ...   \n",
       "16593  16596                Woody Woodpecker in Crazy Castle 5      GBA   \n",
       "16594  16597                     Men in Black II: Alien Escape       GC   \n",
       "16595  16598  SCORE International Baja 1000: The Official Game      PS2   \n",
       "16596  16599                                        Know How 2       DS   \n",
       "16597  16600                                  Spirits & Spells      GBA   \n",
       "\n",
       "         Year         Genre   Publisher  NA_Sales  EU_Sales  JP_Sales  \\\n",
       "0      2006.0        Sports    Nintendo     41.49     29.02      3.77   \n",
       "1      1985.0      Platform    Nintendo     29.08      3.58      6.81   \n",
       "2      2008.0        Racing    Nintendo     15.85     12.88      3.79   \n",
       "3      2009.0        Sports    Nintendo     15.75     11.01      3.28   \n",
       "4      1996.0  Role-Playing    Nintendo     11.27      8.89     10.22   \n",
       "...       ...           ...         ...       ...       ...       ...   \n",
       "16593  2002.0      Platform       Kemco      0.01      0.00      0.00   \n",
       "16594  2003.0       Shooter  Infogrames      0.01      0.00      0.00   \n",
       "16595  2008.0        Racing  Activision      0.00      0.00      0.00   \n",
       "16596  2010.0        Puzzle    7G//AMES      0.00      0.01      0.00   \n",
       "16597  2003.0      Platform     Wanadoo      0.01      0.00      0.00   \n",
       "\n",
       "       Other_Sales  Global_Sales  \n",
       "0             8.46         82.74  \n",
       "1             0.77         40.24  \n",
       "2             3.31         35.82  \n",
       "3             2.96         33.00  \n",
       "4             1.00         31.37  \n",
       "...            ...           ...  \n",
       "16593         0.00          0.01  \n",
       "16594         0.00          0.01  \n",
       "16595         0.00          0.01  \n",
       "16596         0.00          0.01  \n",
       "16597         0.00          0.01  \n",
       "\n",
       "[16598 rows x 11 columns]"
      ]
     },
     "execution_count": 7,
     "metadata": {},
     "output_type": "execute_result"
    }
   ],
   "source": [
    "vg_sales = pd.read_csv('vgsales.csv')\n",
    "vg_sales.dropna\n",
    "vg_sales\n",
    "\n"
   ]
  },
  {
   "cell_type": "code",
   "execution_count": 13,
   "metadata": {},
   "outputs": [
    {
     "name": "stderr",
     "output_type": "stream",
     "text": [
      "C:\\ProgramData\\Anaconda3\\lib\\site-packages\\plotly\\express\\_core.py:1637: FutureWarning:\n",
      "\n",
      "The frame.append method is deprecated and will be removed from pandas in a future version. Use pandas.concat instead.\n",
      "\n",
      "C:\\ProgramData\\Anaconda3\\lib\\site-packages\\plotly\\express\\_core.py:1637: FutureWarning:\n",
      "\n",
      "The frame.append method is deprecated and will be removed from pandas in a future version. Use pandas.concat instead.\n",
      "\n"
     ]
    },
    {
     "data": {
      "application/vnd.plotly.v1+json": {
       "config": {
        "plotlyServerURL": "https://plot.ly"
       },
       "data": [
        {
         "branchvalues": "total",
         "domain": {
          "x": [
           0,
           1
          ],
          "y": [
           0,
           1
          ]
         },
         "hovertemplate": "labels=%{label}<br>Global_Sales=%{value}<br>parent=%{parent}<br>id=%{id}<extra></extra>",
         "ids": [
          "2600/Action",
          "3DS/Action",
          "DC/Action",
          "DS/Action",
          "GB/Action",
          "GBA/Action",
          "GC/Action",
          "GEN/Action",
          "N64/Action",
          "NES/Action",
          "PC/Action",
          "PS/Action",
          "PS2/Action",
          "PS3/Action",
          "PS4/Action",
          "PSP/Action",
          "PSV/Action",
          "SAT/Action",
          "SNES/Action",
          "Wii/Action",
          "WiiU/Action",
          "X360/Action",
          "XB/Action",
          "XOne/Action",
          "2600/Adventure",
          "3DO/Adventure",
          "3DS/Adventure",
          "DC/Adventure",
          "DS/Adventure",
          "GB/Adventure",
          "GBA/Adventure",
          "GC/Adventure",
          "GEN/Adventure",
          "N64/Adventure",
          "NES/Adventure",
          "PC/Adventure",
          "PS/Adventure",
          "PS2/Adventure",
          "PS3/Adventure",
          "PS4/Adventure",
          "PSP/Adventure",
          "PSV/Adventure",
          "SAT/Adventure",
          "SNES/Adventure",
          "TG16/Adventure",
          "Wii/Adventure",
          "WiiU/Adventure",
          "X360/Adventure",
          "XB/Adventure",
          "XOne/Adventure",
          "2600/Fighting",
          "3DS/Fighting",
          "DC/Fighting",
          "DS/Fighting",
          "GBA/Fighting",
          "GC/Fighting",
          "GEN/Fighting",
          "N64/Fighting",
          "NES/Fighting",
          "NG/Fighting",
          "PC/Fighting",
          "PS/Fighting",
          "PS2/Fighting",
          "PS3/Fighting",
          "PS4/Fighting",
          "PSP/Fighting",
          "PSV/Fighting",
          "SAT/Fighting",
          "SNES/Fighting",
          "Wii/Fighting",
          "WiiU/Fighting",
          "X360/Fighting",
          "XB/Fighting",
          "XOne/Fighting",
          "2600/Misc",
          "3DS/Misc",
          "DS/Misc",
          "GB/Misc",
          "GBA/Misc",
          "GC/Misc",
          "GEN/Misc",
          "N64/Misc",
          "NES/Misc",
          "PC/Misc",
          "PS/Misc",
          "PS2/Misc",
          "PS3/Misc",
          "PS4/Misc",
          "PSP/Misc",
          "PSV/Misc",
          "SAT/Misc",
          "SCD/Misc",
          "SNES/Misc",
          "Wii/Misc",
          "WiiU/Misc",
          "X360/Misc",
          "XB/Misc",
          "XOne/Misc",
          "2600/Platform",
          "3DS/Platform",
          "DC/Platform",
          "DS/Platform",
          "GB/Platform",
          "GBA/Platform",
          "GC/Platform",
          "GEN/Platform",
          "GG/Platform",
          "N64/Platform",
          "NES/Platform",
          "PC/Platform",
          "PS/Platform",
          "PS2/Platform",
          "PS3/Platform",
          "PS4/Platform",
          "PSP/Platform",
          "PSV/Platform",
          "SAT/Platform",
          "SCD/Platform",
          "SNES/Platform",
          "Wii/Platform",
          "WiiU/Platform",
          "X360/Platform",
          "XB/Platform",
          "XOne/Platform",
          "2600/Puzzle",
          "3DO/Puzzle",
          "3DS/Puzzle",
          "DS/Puzzle",
          "GB/Puzzle",
          "GBA/Puzzle",
          "GC/Puzzle",
          "N64/Puzzle",
          "NES/Puzzle",
          "PC/Puzzle",
          "PS/Puzzle",
          "PS2/Puzzle",
          "PS3/Puzzle",
          "PS4/Puzzle",
          "PSP/Puzzle",
          "PSV/Puzzle",
          "SAT/Puzzle",
          "SNES/Puzzle",
          "Wii/Puzzle",
          "WiiU/Puzzle",
          "X360/Puzzle",
          "XB/Puzzle",
          "2600/Racing",
          "3DS/Racing",
          "DC/Racing",
          "DS/Racing",
          "GB/Racing",
          "GBA/Racing",
          "GC/Racing",
          "GEN/Racing",
          "N64/Racing",
          "NES/Racing",
          "PC/Racing",
          "PS/Racing",
          "PS2/Racing",
          "PS3/Racing",
          "PS4/Racing",
          "PSP/Racing",
          "PSV/Racing",
          "SAT/Racing",
          "SCD/Racing",
          "SNES/Racing",
          "Wii/Racing",
          "WiiU/Racing",
          "X360/Racing",
          "XB/Racing",
          "XOne/Racing",
          "3DS/Role-Playing",
          "DC/Role-Playing",
          "DS/Role-Playing",
          "GB/Role-Playing",
          "GBA/Role-Playing",
          "GC/Role-Playing",
          "GEN/Role-Playing",
          "N64/Role-Playing",
          "NES/Role-Playing",
          "PC/Role-Playing",
          "PCFX/Role-Playing",
          "PS/Role-Playing",
          "PS2/Role-Playing",
          "PS3/Role-Playing",
          "PS4/Role-Playing",
          "PSP/Role-Playing",
          "PSV/Role-Playing",
          "SAT/Role-Playing",
          "SCD/Role-Playing",
          "SNES/Role-Playing",
          "WS/Role-Playing",
          "Wii/Role-Playing",
          "WiiU/Role-Playing",
          "X360/Role-Playing",
          "XB/Role-Playing",
          "XOne/Role-Playing",
          "2600/Shooter",
          "3DS/Shooter",
          "DC/Shooter",
          "DS/Shooter",
          "GB/Shooter",
          "GBA/Shooter",
          "GC/Shooter",
          "GEN/Shooter",
          "N64/Shooter",
          "NES/Shooter",
          "PC/Shooter",
          "PS/Shooter",
          "PS2/Shooter",
          "PS3/Shooter",
          "PS4/Shooter",
          "PSP/Shooter",
          "PSV/Shooter",
          "SAT/Shooter",
          "SNES/Shooter",
          "TG16/Shooter",
          "Wii/Shooter",
          "WiiU/Shooter",
          "X360/Shooter",
          "XB/Shooter",
          "XOne/Shooter",
          "2600/Simulation",
          "3DO/Simulation",
          "3DS/Simulation",
          "DC/Simulation",
          "DS/Simulation",
          "GB/Simulation",
          "GBA/Simulation",
          "GC/Simulation",
          "N64/Simulation",
          "PC/Simulation",
          "PS/Simulation",
          "PS2/Simulation",
          "PS3/Simulation",
          "PS4/Simulation",
          "PSP/Simulation",
          "PSV/Simulation",
          "SAT/Simulation",
          "SNES/Simulation",
          "Wii/Simulation",
          "WiiU/Simulation",
          "X360/Simulation",
          "XB/Simulation",
          "XOne/Simulation",
          "2600/Sports",
          "3DS/Sports",
          "DC/Sports",
          "DS/Sports",
          "GB/Sports",
          "GBA/Sports",
          "GC/Sports",
          "GEN/Sports",
          "N64/Sports",
          "NES/Sports",
          "NG/Sports",
          "PC/Sports",
          "PS/Sports",
          "PS2/Sports",
          "PS3/Sports",
          "PS4/Sports",
          "PSP/Sports",
          "PSV/Sports",
          "SAT/Sports",
          "SNES/Sports",
          "Wii/Sports",
          "WiiU/Sports",
          "X360/Sports",
          "XB/Sports",
          "XOne/Sports",
          "3DS/Strategy",
          "DS/Strategy",
          "GB/Strategy",
          "GBA/Strategy",
          "GC/Strategy",
          "GEN/Strategy",
          "N64/Strategy",
          "PC/Strategy",
          "PS/Strategy",
          "PS2/Strategy",
          "PS3/Strategy",
          "PS4/Strategy",
          "PSP/Strategy",
          "PSV/Strategy",
          "SAT/Strategy",
          "SCD/Strategy",
          "SNES/Strategy",
          "WS/Strategy",
          "Wii/Strategy",
          "WiiU/Strategy",
          "X360/Strategy",
          "XB/Strategy",
          "XOne/Strategy",
          "2600",
          "3DO",
          "3DS",
          "DC",
          "DS",
          "GB",
          "GBA",
          "GC",
          "GEN",
          "GG",
          "N64",
          "NES",
          "NG",
          "PC",
          "PCFX",
          "PS",
          "PS2",
          "PS3",
          "PS4",
          "PSP",
          "PSV",
          "SAT",
          "SCD",
          "SNES",
          "TG16",
          "WS",
          "Wii",
          "WiiU",
          "X360",
          "XB",
          "XOne"
         ],
         "labels": [
          "Action",
          "Action",
          "Action",
          "Action",
          "Action",
          "Action",
          "Action",
          "Action",
          "Action",
          "Action",
          "Action",
          "Action",
          "Action",
          "Action",
          "Action",
          "Action",
          "Action",
          "Action",
          "Action",
          "Action",
          "Action",
          "Action",
          "Action",
          "Action",
          "Adventure",
          "Adventure",
          "Adventure",
          "Adventure",
          "Adventure",
          "Adventure",
          "Adventure",
          "Adventure",
          "Adventure",
          "Adventure",
          "Adventure",
          "Adventure",
          "Adventure",
          "Adventure",
          "Adventure",
          "Adventure",
          "Adventure",
          "Adventure",
          "Adventure",
          "Adventure",
          "Adventure",
          "Adventure",
          "Adventure",
          "Adventure",
          "Adventure",
          "Adventure",
          "Fighting",
          "Fighting",
          "Fighting",
          "Fighting",
          "Fighting",
          "Fighting",
          "Fighting",
          "Fighting",
          "Fighting",
          "Fighting",
          "Fighting",
          "Fighting",
          "Fighting",
          "Fighting",
          "Fighting",
          "Fighting",
          "Fighting",
          "Fighting",
          "Fighting",
          "Fighting",
          "Fighting",
          "Fighting",
          "Fighting",
          "Fighting",
          "Misc",
          "Misc",
          "Misc",
          "Misc",
          "Misc",
          "Misc",
          "Misc",
          "Misc",
          "Misc",
          "Misc",
          "Misc",
          "Misc",
          "Misc",
          "Misc",
          "Misc",
          "Misc",
          "Misc",
          "Misc",
          "Misc",
          "Misc",
          "Misc",
          "Misc",
          "Misc",
          "Misc",
          "Platform",
          "Platform",
          "Platform",
          "Platform",
          "Platform",
          "Platform",
          "Platform",
          "Platform",
          "Platform",
          "Platform",
          "Platform",
          "Platform",
          "Platform",
          "Platform",
          "Platform",
          "Platform",
          "Platform",
          "Platform",
          "Platform",
          "Platform",
          "Platform",
          "Platform",
          "Platform",
          "Platform",
          "Platform",
          "Platform",
          "Puzzle",
          "Puzzle",
          "Puzzle",
          "Puzzle",
          "Puzzle",
          "Puzzle",
          "Puzzle",
          "Puzzle",
          "Puzzle",
          "Puzzle",
          "Puzzle",
          "Puzzle",
          "Puzzle",
          "Puzzle",
          "Puzzle",
          "Puzzle",
          "Puzzle",
          "Puzzle",
          "Puzzle",
          "Puzzle",
          "Puzzle",
          "Puzzle",
          "Racing",
          "Racing",
          "Racing",
          "Racing",
          "Racing",
          "Racing",
          "Racing",
          "Racing",
          "Racing",
          "Racing",
          "Racing",
          "Racing",
          "Racing",
          "Racing",
          "Racing",
          "Racing",
          "Racing",
          "Racing",
          "Racing",
          "Racing",
          "Racing",
          "Racing",
          "Racing",
          "Racing",
          "Racing",
          "Role-Playing",
          "Role-Playing",
          "Role-Playing",
          "Role-Playing",
          "Role-Playing",
          "Role-Playing",
          "Role-Playing",
          "Role-Playing",
          "Role-Playing",
          "Role-Playing",
          "Role-Playing",
          "Role-Playing",
          "Role-Playing",
          "Role-Playing",
          "Role-Playing",
          "Role-Playing",
          "Role-Playing",
          "Role-Playing",
          "Role-Playing",
          "Role-Playing",
          "Role-Playing",
          "Role-Playing",
          "Role-Playing",
          "Role-Playing",
          "Role-Playing",
          "Role-Playing",
          "Shooter",
          "Shooter",
          "Shooter",
          "Shooter",
          "Shooter",
          "Shooter",
          "Shooter",
          "Shooter",
          "Shooter",
          "Shooter",
          "Shooter",
          "Shooter",
          "Shooter",
          "Shooter",
          "Shooter",
          "Shooter",
          "Shooter",
          "Shooter",
          "Shooter",
          "Shooter",
          "Shooter",
          "Shooter",
          "Shooter",
          "Shooter",
          "Shooter",
          "Simulation",
          "Simulation",
          "Simulation",
          "Simulation",
          "Simulation",
          "Simulation",
          "Simulation",
          "Simulation",
          "Simulation",
          "Simulation",
          "Simulation",
          "Simulation",
          "Simulation",
          "Simulation",
          "Simulation",
          "Simulation",
          "Simulation",
          "Simulation",
          "Simulation",
          "Simulation",
          "Simulation",
          "Simulation",
          "Simulation",
          "Sports",
          "Sports",
          "Sports",
          "Sports",
          "Sports",
          "Sports",
          "Sports",
          "Sports",
          "Sports",
          "Sports",
          "Sports",
          "Sports",
          "Sports",
          "Sports",
          "Sports",
          "Sports",
          "Sports",
          "Sports",
          "Sports",
          "Sports",
          "Sports",
          "Sports",
          "Sports",
          "Sports",
          "Sports",
          "Strategy",
          "Strategy",
          "Strategy",
          "Strategy",
          "Strategy",
          "Strategy",
          "Strategy",
          "Strategy",
          "Strategy",
          "Strategy",
          "Strategy",
          "Strategy",
          "Strategy",
          "Strategy",
          "Strategy",
          "Strategy",
          "Strategy",
          "Strategy",
          "Strategy",
          "Strategy",
          "Strategy",
          "Strategy",
          "Strategy",
          "2600",
          "3DO",
          "3DS",
          "DC",
          "DS",
          "GB",
          "GBA",
          "GC",
          "GEN",
          "GG",
          "N64",
          "NES",
          "NG",
          "PC",
          "PCFX",
          "PS",
          "PS2",
          "PS3",
          "PS4",
          "PSP",
          "PSV",
          "SAT",
          "SCD",
          "SNES",
          "TG16",
          "WS",
          "Wii",
          "WiiU",
          "X360",
          "XB",
          "XOne"
         ],
         "name": "",
         "parents": [
          "2600",
          "3DS",
          "DC",
          "DS",
          "GB",
          "GBA",
          "GC",
          "GEN",
          "N64",
          "NES",
          "PC",
          "PS",
          "PS2",
          "PS3",
          "PS4",
          "PSP",
          "PSV",
          "SAT",
          "SNES",
          "Wii",
          "WiiU",
          "X360",
          "XB",
          "XOne",
          "2600",
          "3DO",
          "3DS",
          "DC",
          "DS",
          "GB",
          "GBA",
          "GC",
          "GEN",
          "N64",
          "NES",
          "PC",
          "PS",
          "PS2",
          "PS3",
          "PS4",
          "PSP",
          "PSV",
          "SAT",
          "SNES",
          "TG16",
          "Wii",
          "WiiU",
          "X360",
          "XB",
          "XOne",
          "2600",
          "3DS",
          "DC",
          "DS",
          "GBA",
          "GC",
          "GEN",
          "N64",
          "NES",
          "NG",
          "PC",
          "PS",
          "PS2",
          "PS3",
          "PS4",
          "PSP",
          "PSV",
          "SAT",
          "SNES",
          "Wii",
          "WiiU",
          "X360",
          "XB",
          "XOne",
          "2600",
          "3DS",
          "DS",
          "GB",
          "GBA",
          "GC",
          "GEN",
          "N64",
          "NES",
          "PC",
          "PS",
          "PS2",
          "PS3",
          "PS4",
          "PSP",
          "PSV",
          "SAT",
          "SCD",
          "SNES",
          "Wii",
          "WiiU",
          "X360",
          "XB",
          "XOne",
          "2600",
          "3DS",
          "DC",
          "DS",
          "GB",
          "GBA",
          "GC",
          "GEN",
          "GG",
          "N64",
          "NES",
          "PC",
          "PS",
          "PS2",
          "PS3",
          "PS4",
          "PSP",
          "PSV",
          "SAT",
          "SCD",
          "SNES",
          "Wii",
          "WiiU",
          "X360",
          "XB",
          "XOne",
          "2600",
          "3DO",
          "3DS",
          "DS",
          "GB",
          "GBA",
          "GC",
          "N64",
          "NES",
          "PC",
          "PS",
          "PS2",
          "PS3",
          "PS4",
          "PSP",
          "PSV",
          "SAT",
          "SNES",
          "Wii",
          "WiiU",
          "X360",
          "XB",
          "2600",
          "3DS",
          "DC",
          "DS",
          "GB",
          "GBA",
          "GC",
          "GEN",
          "N64",
          "NES",
          "PC",
          "PS",
          "PS2",
          "PS3",
          "PS4",
          "PSP",
          "PSV",
          "SAT",
          "SCD",
          "SNES",
          "Wii",
          "WiiU",
          "X360",
          "XB",
          "XOne",
          "3DS",
          "DC",
          "DS",
          "GB",
          "GBA",
          "GC",
          "GEN",
          "N64",
          "NES",
          "PC",
          "PCFX",
          "PS",
          "PS2",
          "PS3",
          "PS4",
          "PSP",
          "PSV",
          "SAT",
          "SCD",
          "SNES",
          "WS",
          "Wii",
          "WiiU",
          "X360",
          "XB",
          "XOne",
          "2600",
          "3DS",
          "DC",
          "DS",
          "GB",
          "GBA",
          "GC",
          "GEN",
          "N64",
          "NES",
          "PC",
          "PS",
          "PS2",
          "PS3",
          "PS4",
          "PSP",
          "PSV",
          "SAT",
          "SNES",
          "TG16",
          "Wii",
          "WiiU",
          "X360",
          "XB",
          "XOne",
          "2600",
          "3DO",
          "3DS",
          "DC",
          "DS",
          "GB",
          "GBA",
          "GC",
          "N64",
          "PC",
          "PS",
          "PS2",
          "PS3",
          "PS4",
          "PSP",
          "PSV",
          "SAT",
          "SNES",
          "Wii",
          "WiiU",
          "X360",
          "XB",
          "XOne",
          "2600",
          "3DS",
          "DC",
          "DS",
          "GB",
          "GBA",
          "GC",
          "GEN",
          "N64",
          "NES",
          "NG",
          "PC",
          "PS",
          "PS2",
          "PS3",
          "PS4",
          "PSP",
          "PSV",
          "SAT",
          "SNES",
          "Wii",
          "WiiU",
          "X360",
          "XB",
          "XOne",
          "3DS",
          "DS",
          "GB",
          "GBA",
          "GC",
          "GEN",
          "N64",
          "PC",
          "PS",
          "PS2",
          "PS3",
          "PS4",
          "PSP",
          "PSV",
          "SAT",
          "SCD",
          "SNES",
          "WS",
          "Wii",
          "WiiU",
          "X360",
          "XB",
          "XOne",
          "",
          "",
          "",
          "",
          "",
          "",
          "",
          "",
          "",
          "",
          "",
          "",
          "",
          "",
          "",
          "",
          "",
          "",
          "",
          "",
          "",
          "",
          "",
          "",
          "",
          "",
          "",
          "",
          "",
          "",
          ""
         ],
         "type": "treemap",
         "values": [
          29.34,
          57.019999999999996,
          1.26,
          115.56,
          7.92,
          55.76,
          37.839999999999996,
          2.74,
          29.58,
          28.75,
          31.53,
          127.05,
          272.76,
          307.88,
          87.06,
          64.72,
          20.01,
          0.65,
          10.08,
          118.58,
          19.35,
          242.67,
          49.28,
          33.79,
          1.7000000000000002,
          0.06,
          4.8100000000000005,
          2.5,
          47.29,
          17.16,
          14.68,
          5.93,
          0.19,
          0.45,
          4.38,
          10.09,
          20.97,
          21.16,
          22.9,
          4.7,
          10.69,
          4.18,
          4.16,
          1.5,
          0.14,
          18.43,
          0.17,
          15.23,
          3.06,
          2.5100000000000002,
          1.24,
          10.46,
          1.83,
          7.2,
          4.21,
          18.43,
          5.9,
          22.08,
          6.54,
          1.4200000000000002,
          0.27,
          72.68,
          92.6,
          51.7,
          8.040000000000001,
          21.97,
          3.15,
          8.52,
          26.95,
          23.86,
          6.359999999999999,
          37.64,
          13.55,
          2.31,
          3.58,
          10.48,
          137.76,
          13.35,
          36.25,
          16.73,
          0.03,
          11.19,
          3.59,
          8.56,
          44.9,
          101.14,
          47.85,
          7.3999999999999995,
          13.96,
          5.18,
          1.2,
          0.1,
          5.02,
          221.06,
          12.23,
          91.96,
          9.58,
          6.86,
          13.27,
          32.23,
          2.54,
          77.45,
          54.910000000000004,
          78.3,
          28.66,
          15.45,
          0.04,
          36.13,
          95.78,
          0.49,
          64.21,
          72.51,
          30.33,
          7.01,
          17.28,
          3.03,
          0.76,
          1.5,
          65.65,
          90.74,
          21.240000000000002,
          11.39,
          9.66,
          0.81,
          14.68,
          0.02,
          5.57,
          84.29,
          47.47,
          12.92,
          4.7,
          3.41,
          21,
          0.92,
          12.08,
          5.9,
          0.6,
          0.02,
          5.5200000000000005,
          0.2,
          1,
          6.38,
          15.67,
          1.3299999999999998,
          0.85,
          0.42000000000000004,
          2.91,
          14.49,
          2.65,
          38.64,
          4.55,
          18.8,
          21.89,
          0.26,
          40.089999999999996,
          9.780000000000001,
          4.06,
          103.19,
          156.28,
          73.95,
          11.53,
          34.73,
          2.95,
          2.4,
          0.07,
          13.49,
          61.28,
          7.77,
          65.99,
          31.49,
          8.8,
          75.74,
          0.68,
          126.85,
          88.24000000000001,
          64.21,
          13.15,
          0.27,
          3.36,
          18.78,
          47.78,
          0.03,
          78.3,
          93.5,
          75.3,
          25.77,
          49.05,
          13.39,
          3.76,
          0.06,
          36.43,
          1.22,
          14.06,
          2.47,
          71.98,
          13.51,
          9.48,
          26.48,
          1.29,
          0.33,
          8.2,
          1.2,
          3.6,
          13.63,
          0.13,
          19.27,
          35.62,
          45.32,
          39.31,
          108.57,
          196.04,
          75.32,
          19.77,
          4.57,
          3.98,
          6.07,
          0.02,
          28.77,
          6.17,
          278.55,
          63.55,
          51.61,
          0.45,
          0.02,
          27.080000000000002,
          0.52,
          132.03,
          3.55,
          5.91,
          8.59,
          10.19,
          51.91,
          25.330000000000002,
          42.66,
          10.790000000000001,
          0.77,
          6.28,
          0.08,
          1.1300000000000001,
          5.63,
          36.97,
          0.21,
          14.45,
          7.11,
          0.54,
          3.43,
          6.2,
          3.66,
          31.83,
          9.05,
          16.41,
          25.49,
          3.1999999999999997,
          32.8,
          26.85,
          0.02,
          12.01,
          120.97,
          273.41,
          135.56,
          50.07,
          41.69,
          4.88,
          2.79,
          17.87,
          292.06,
          3.3200000000000003,
          139.12,
          54.27,
          23.97,
          2.09,
          15.39,
          8.05,
          7.45,
          4.32,
          0.19,
          10.33,
          45.88,
          21.67,
          15.15,
          4.94,
          0.41000000000000003,
          10.620000000000001,
          0.31,
          3.24,
          0.14,
          4.98,
          0.2,
          5.23,
          1.24,
          10.13,
          2.7800000000000002,
          0.38,
          97.08,
          0.1,
          247.46,
          15.97,
          822.49,
          255.45000000000002,
          318.5,
          199.36,
          28.36,
          0.04,
          218.88,
          251.07,
          1.44,
          258.82,
          0.03,
          730.66,
          1255.64,
          957.84,
          278.1,
          296.28000000000003,
          61.93,
          33.59,
          1.87,
          200.05,
          0.16,
          1.42,
          926.71,
          81.86,
          979.96,
          258.26,
          141.06
         ]
        }
       ],
       "layout": {
        "height": 600,
        "legend": {
         "tracegroupgap": 0
        },
        "template": {
         "data": {
          "bar": [
           {
            "error_x": {
             "color": "#2a3f5f"
            },
            "error_y": {
             "color": "#2a3f5f"
            },
            "marker": {
             "line": {
              "color": "#E5ECF6",
              "width": 0.5
             },
             "pattern": {
              "fillmode": "overlay",
              "size": 10,
              "solidity": 0.2
             }
            },
            "type": "bar"
           }
          ],
          "barpolar": [
           {
            "marker": {
             "line": {
              "color": "#E5ECF6",
              "width": 0.5
             },
             "pattern": {
              "fillmode": "overlay",
              "size": 10,
              "solidity": 0.2
             }
            },
            "type": "barpolar"
           }
          ],
          "carpet": [
           {
            "aaxis": {
             "endlinecolor": "#2a3f5f",
             "gridcolor": "white",
             "linecolor": "white",
             "minorgridcolor": "white",
             "startlinecolor": "#2a3f5f"
            },
            "baxis": {
             "endlinecolor": "#2a3f5f",
             "gridcolor": "white",
             "linecolor": "white",
             "minorgridcolor": "white",
             "startlinecolor": "#2a3f5f"
            },
            "type": "carpet"
           }
          ],
          "choropleth": [
           {
            "colorbar": {
             "outlinewidth": 0,
             "ticks": ""
            },
            "type": "choropleth"
           }
          ],
          "contour": [
           {
            "colorbar": {
             "outlinewidth": 0,
             "ticks": ""
            },
            "colorscale": [
             [
              0,
              "#0d0887"
             ],
             [
              0.1111111111111111,
              "#46039f"
             ],
             [
              0.2222222222222222,
              "#7201a8"
             ],
             [
              0.3333333333333333,
              "#9c179e"
             ],
             [
              0.4444444444444444,
              "#bd3786"
             ],
             [
              0.5555555555555556,
              "#d8576b"
             ],
             [
              0.6666666666666666,
              "#ed7953"
             ],
             [
              0.7777777777777778,
              "#fb9f3a"
             ],
             [
              0.8888888888888888,
              "#fdca26"
             ],
             [
              1,
              "#f0f921"
             ]
            ],
            "type": "contour"
           }
          ],
          "contourcarpet": [
           {
            "colorbar": {
             "outlinewidth": 0,
             "ticks": ""
            },
            "type": "contourcarpet"
           }
          ],
          "heatmap": [
           {
            "colorbar": {
             "outlinewidth": 0,
             "ticks": ""
            },
            "colorscale": [
             [
              0,
              "#0d0887"
             ],
             [
              0.1111111111111111,
              "#46039f"
             ],
             [
              0.2222222222222222,
              "#7201a8"
             ],
             [
              0.3333333333333333,
              "#9c179e"
             ],
             [
              0.4444444444444444,
              "#bd3786"
             ],
             [
              0.5555555555555556,
              "#d8576b"
             ],
             [
              0.6666666666666666,
              "#ed7953"
             ],
             [
              0.7777777777777778,
              "#fb9f3a"
             ],
             [
              0.8888888888888888,
              "#fdca26"
             ],
             [
              1,
              "#f0f921"
             ]
            ],
            "type": "heatmap"
           }
          ],
          "heatmapgl": [
           {
            "colorbar": {
             "outlinewidth": 0,
             "ticks": ""
            },
            "colorscale": [
             [
              0,
              "#0d0887"
             ],
             [
              0.1111111111111111,
              "#46039f"
             ],
             [
              0.2222222222222222,
              "#7201a8"
             ],
             [
              0.3333333333333333,
              "#9c179e"
             ],
             [
              0.4444444444444444,
              "#bd3786"
             ],
             [
              0.5555555555555556,
              "#d8576b"
             ],
             [
              0.6666666666666666,
              "#ed7953"
             ],
             [
              0.7777777777777778,
              "#fb9f3a"
             ],
             [
              0.8888888888888888,
              "#fdca26"
             ],
             [
              1,
              "#f0f921"
             ]
            ],
            "type": "heatmapgl"
           }
          ],
          "histogram": [
           {
            "marker": {
             "pattern": {
              "fillmode": "overlay",
              "size": 10,
              "solidity": 0.2
             }
            },
            "type": "histogram"
           }
          ],
          "histogram2d": [
           {
            "colorbar": {
             "outlinewidth": 0,
             "ticks": ""
            },
            "colorscale": [
             [
              0,
              "#0d0887"
             ],
             [
              0.1111111111111111,
              "#46039f"
             ],
             [
              0.2222222222222222,
              "#7201a8"
             ],
             [
              0.3333333333333333,
              "#9c179e"
             ],
             [
              0.4444444444444444,
              "#bd3786"
             ],
             [
              0.5555555555555556,
              "#d8576b"
             ],
             [
              0.6666666666666666,
              "#ed7953"
             ],
             [
              0.7777777777777778,
              "#fb9f3a"
             ],
             [
              0.8888888888888888,
              "#fdca26"
             ],
             [
              1,
              "#f0f921"
             ]
            ],
            "type": "histogram2d"
           }
          ],
          "histogram2dcontour": [
           {
            "colorbar": {
             "outlinewidth": 0,
             "ticks": ""
            },
            "colorscale": [
             [
              0,
              "#0d0887"
             ],
             [
              0.1111111111111111,
              "#46039f"
             ],
             [
              0.2222222222222222,
              "#7201a8"
             ],
             [
              0.3333333333333333,
              "#9c179e"
             ],
             [
              0.4444444444444444,
              "#bd3786"
             ],
             [
              0.5555555555555556,
              "#d8576b"
             ],
             [
              0.6666666666666666,
              "#ed7953"
             ],
             [
              0.7777777777777778,
              "#fb9f3a"
             ],
             [
              0.8888888888888888,
              "#fdca26"
             ],
             [
              1,
              "#f0f921"
             ]
            ],
            "type": "histogram2dcontour"
           }
          ],
          "mesh3d": [
           {
            "colorbar": {
             "outlinewidth": 0,
             "ticks": ""
            },
            "type": "mesh3d"
           }
          ],
          "parcoords": [
           {
            "line": {
             "colorbar": {
              "outlinewidth": 0,
              "ticks": ""
             }
            },
            "type": "parcoords"
           }
          ],
          "pie": [
           {
            "automargin": true,
            "type": "pie"
           }
          ],
          "scatter": [
           {
            "marker": {
             "colorbar": {
              "outlinewidth": 0,
              "ticks": ""
             }
            },
            "type": "scatter"
           }
          ],
          "scatter3d": [
           {
            "line": {
             "colorbar": {
              "outlinewidth": 0,
              "ticks": ""
             }
            },
            "marker": {
             "colorbar": {
              "outlinewidth": 0,
              "ticks": ""
             }
            },
            "type": "scatter3d"
           }
          ],
          "scattercarpet": [
           {
            "marker": {
             "colorbar": {
              "outlinewidth": 0,
              "ticks": ""
             }
            },
            "type": "scattercarpet"
           }
          ],
          "scattergeo": [
           {
            "marker": {
             "colorbar": {
              "outlinewidth": 0,
              "ticks": ""
             }
            },
            "type": "scattergeo"
           }
          ],
          "scattergl": [
           {
            "marker": {
             "colorbar": {
              "outlinewidth": 0,
              "ticks": ""
             }
            },
            "type": "scattergl"
           }
          ],
          "scattermapbox": [
           {
            "marker": {
             "colorbar": {
              "outlinewidth": 0,
              "ticks": ""
             }
            },
            "type": "scattermapbox"
           }
          ],
          "scatterpolar": [
           {
            "marker": {
             "colorbar": {
              "outlinewidth": 0,
              "ticks": ""
             }
            },
            "type": "scatterpolar"
           }
          ],
          "scatterpolargl": [
           {
            "marker": {
             "colorbar": {
              "outlinewidth": 0,
              "ticks": ""
             }
            },
            "type": "scatterpolargl"
           }
          ],
          "scatterternary": [
           {
            "marker": {
             "colorbar": {
              "outlinewidth": 0,
              "ticks": ""
             }
            },
            "type": "scatterternary"
           }
          ],
          "surface": [
           {
            "colorbar": {
             "outlinewidth": 0,
             "ticks": ""
            },
            "colorscale": [
             [
              0,
              "#0d0887"
             ],
             [
              0.1111111111111111,
              "#46039f"
             ],
             [
              0.2222222222222222,
              "#7201a8"
             ],
             [
              0.3333333333333333,
              "#9c179e"
             ],
             [
              0.4444444444444444,
              "#bd3786"
             ],
             [
              0.5555555555555556,
              "#d8576b"
             ],
             [
              0.6666666666666666,
              "#ed7953"
             ],
             [
              0.7777777777777778,
              "#fb9f3a"
             ],
             [
              0.8888888888888888,
              "#fdca26"
             ],
             [
              1,
              "#f0f921"
             ]
            ],
            "type": "surface"
           }
          ],
          "table": [
           {
            "cells": {
             "fill": {
              "color": "#EBF0F8"
             },
             "line": {
              "color": "white"
             }
            },
            "header": {
             "fill": {
              "color": "#C8D4E3"
             },
             "line": {
              "color": "white"
             }
            },
            "type": "table"
           }
          ]
         },
         "layout": {
          "annotationdefaults": {
           "arrowcolor": "#2a3f5f",
           "arrowhead": 0,
           "arrowwidth": 1
          },
          "autotypenumbers": "strict",
          "coloraxis": {
           "colorbar": {
            "outlinewidth": 0,
            "ticks": ""
           }
          },
          "colorscale": {
           "diverging": [
            [
             0,
             "#8e0152"
            ],
            [
             0.1,
             "#c51b7d"
            ],
            [
             0.2,
             "#de77ae"
            ],
            [
             0.3,
             "#f1b6da"
            ],
            [
             0.4,
             "#fde0ef"
            ],
            [
             0.5,
             "#f7f7f7"
            ],
            [
             0.6,
             "#e6f5d0"
            ],
            [
             0.7,
             "#b8e186"
            ],
            [
             0.8,
             "#7fbc41"
            ],
            [
             0.9,
             "#4d9221"
            ],
            [
             1,
             "#276419"
            ]
           ],
           "sequential": [
            [
             0,
             "#0d0887"
            ],
            [
             0.1111111111111111,
             "#46039f"
            ],
            [
             0.2222222222222222,
             "#7201a8"
            ],
            [
             0.3333333333333333,
             "#9c179e"
            ],
            [
             0.4444444444444444,
             "#bd3786"
            ],
            [
             0.5555555555555556,
             "#d8576b"
            ],
            [
             0.6666666666666666,
             "#ed7953"
            ],
            [
             0.7777777777777778,
             "#fb9f3a"
            ],
            [
             0.8888888888888888,
             "#fdca26"
            ],
            [
             1,
             "#f0f921"
            ]
           ],
           "sequentialminus": [
            [
             0,
             "#0d0887"
            ],
            [
             0.1111111111111111,
             "#46039f"
            ],
            [
             0.2222222222222222,
             "#7201a8"
            ],
            [
             0.3333333333333333,
             "#9c179e"
            ],
            [
             0.4444444444444444,
             "#bd3786"
            ],
            [
             0.5555555555555556,
             "#d8576b"
            ],
            [
             0.6666666666666666,
             "#ed7953"
            ],
            [
             0.7777777777777778,
             "#fb9f3a"
            ],
            [
             0.8888888888888888,
             "#fdca26"
            ],
            [
             1,
             "#f0f921"
            ]
           ]
          },
          "colorway": [
           "#636efa",
           "#EF553B",
           "#00cc96",
           "#ab63fa",
           "#FFA15A",
           "#19d3f3",
           "#FF6692",
           "#B6E880",
           "#FF97FF",
           "#FECB52"
          ],
          "font": {
           "color": "#2a3f5f"
          },
          "geo": {
           "bgcolor": "white",
           "lakecolor": "white",
           "landcolor": "#E5ECF6",
           "showlakes": true,
           "showland": true,
           "subunitcolor": "white"
          },
          "hoverlabel": {
           "align": "left"
          },
          "hovermode": "closest",
          "mapbox": {
           "style": "light"
          },
          "paper_bgcolor": "white",
          "plot_bgcolor": "#E5ECF6",
          "polar": {
           "angularaxis": {
            "gridcolor": "white",
            "linecolor": "white",
            "ticks": ""
           },
           "bgcolor": "#E5ECF6",
           "radialaxis": {
            "gridcolor": "white",
            "linecolor": "white",
            "ticks": ""
           }
          },
          "scene": {
           "xaxis": {
            "backgroundcolor": "#E5ECF6",
            "gridcolor": "white",
            "gridwidth": 2,
            "linecolor": "white",
            "showbackground": true,
            "ticks": "",
            "zerolinecolor": "white"
           },
           "yaxis": {
            "backgroundcolor": "#E5ECF6",
            "gridcolor": "white",
            "gridwidth": 2,
            "linecolor": "white",
            "showbackground": true,
            "ticks": "",
            "zerolinecolor": "white"
           },
           "zaxis": {
            "backgroundcolor": "#E5ECF6",
            "gridcolor": "white",
            "gridwidth": 2,
            "linecolor": "white",
            "showbackground": true,
            "ticks": "",
            "zerolinecolor": "white"
           }
          },
          "shapedefaults": {
           "line": {
            "color": "#2a3f5f"
           }
          },
          "ternary": {
           "aaxis": {
            "gridcolor": "white",
            "linecolor": "white",
            "ticks": ""
           },
           "baxis": {
            "gridcolor": "white",
            "linecolor": "white",
            "ticks": ""
           },
           "bgcolor": "#E5ECF6",
           "caxis": {
            "gridcolor": "white",
            "linecolor": "white",
            "ticks": ""
           }
          },
          "title": {
           "x": 0.05
          },
          "xaxis": {
           "automargin": true,
           "gridcolor": "white",
           "linecolor": "white",
           "ticks": "",
           "title": {
            "standoff": 15
           },
           "zerolinecolor": "white",
           "zerolinewidth": 2
          },
          "yaxis": {
           "automargin": true,
           "gridcolor": "white",
           "linecolor": "white",
           "ticks": "",
           "title": {
            "standoff": 15
           },
           "zerolinecolor": "white",
           "zerolinewidth": 2
          }
         }
        },
        "title": {
         "text": "Video Game Sales"
        },
        "width": 1000
       }
      },
      "text/html": [
       "<div>                            <div id=\"04092ece-9062-46e6-b8e7-92691962ce3e\" class=\"plotly-graph-div\" style=\"height:600px; width:1000px;\"></div>            <script type=\"text/javascript\">                require([\"plotly\"], function(Plotly) {                    window.PLOTLYENV=window.PLOTLYENV || {};                                    if (document.getElementById(\"04092ece-9062-46e6-b8e7-92691962ce3e\")) {                    Plotly.newPlot(                        \"04092ece-9062-46e6-b8e7-92691962ce3e\",                        [{\"branchvalues\":\"total\",\"domain\":{\"x\":[0.0,1.0],\"y\":[0.0,1.0]},\"hovertemplate\":\"labels=%{label}<br>Global_Sales=%{value}<br>parent=%{parent}<br>id=%{id}<extra></extra>\",\"ids\":[\"2600/Action\",\"3DS/Action\",\"DC/Action\",\"DS/Action\",\"GB/Action\",\"GBA/Action\",\"GC/Action\",\"GEN/Action\",\"N64/Action\",\"NES/Action\",\"PC/Action\",\"PS/Action\",\"PS2/Action\",\"PS3/Action\",\"PS4/Action\",\"PSP/Action\",\"PSV/Action\",\"SAT/Action\",\"SNES/Action\",\"Wii/Action\",\"WiiU/Action\",\"X360/Action\",\"XB/Action\",\"XOne/Action\",\"2600/Adventure\",\"3DO/Adventure\",\"3DS/Adventure\",\"DC/Adventure\",\"DS/Adventure\",\"GB/Adventure\",\"GBA/Adventure\",\"GC/Adventure\",\"GEN/Adventure\",\"N64/Adventure\",\"NES/Adventure\",\"PC/Adventure\",\"PS/Adventure\",\"PS2/Adventure\",\"PS3/Adventure\",\"PS4/Adventure\",\"PSP/Adventure\",\"PSV/Adventure\",\"SAT/Adventure\",\"SNES/Adventure\",\"TG16/Adventure\",\"Wii/Adventure\",\"WiiU/Adventure\",\"X360/Adventure\",\"XB/Adventure\",\"XOne/Adventure\",\"2600/Fighting\",\"3DS/Fighting\",\"DC/Fighting\",\"DS/Fighting\",\"GBA/Fighting\",\"GC/Fighting\",\"GEN/Fighting\",\"N64/Fighting\",\"NES/Fighting\",\"NG/Fighting\",\"PC/Fighting\",\"PS/Fighting\",\"PS2/Fighting\",\"PS3/Fighting\",\"PS4/Fighting\",\"PSP/Fighting\",\"PSV/Fighting\",\"SAT/Fighting\",\"SNES/Fighting\",\"Wii/Fighting\",\"WiiU/Fighting\",\"X360/Fighting\",\"XB/Fighting\",\"XOne/Fighting\",\"2600/Misc\",\"3DS/Misc\",\"DS/Misc\",\"GB/Misc\",\"GBA/Misc\",\"GC/Misc\",\"GEN/Misc\",\"N64/Misc\",\"NES/Misc\",\"PC/Misc\",\"PS/Misc\",\"PS2/Misc\",\"PS3/Misc\",\"PS4/Misc\",\"PSP/Misc\",\"PSV/Misc\",\"SAT/Misc\",\"SCD/Misc\",\"SNES/Misc\",\"Wii/Misc\",\"WiiU/Misc\",\"X360/Misc\",\"XB/Misc\",\"XOne/Misc\",\"2600/Platform\",\"3DS/Platform\",\"DC/Platform\",\"DS/Platform\",\"GB/Platform\",\"GBA/Platform\",\"GC/Platform\",\"GEN/Platform\",\"GG/Platform\",\"N64/Platform\",\"NES/Platform\",\"PC/Platform\",\"PS/Platform\",\"PS2/Platform\",\"PS3/Platform\",\"PS4/Platform\",\"PSP/Platform\",\"PSV/Platform\",\"SAT/Platform\",\"SCD/Platform\",\"SNES/Platform\",\"Wii/Platform\",\"WiiU/Platform\",\"X360/Platform\",\"XB/Platform\",\"XOne/Platform\",\"2600/Puzzle\",\"3DO/Puzzle\",\"3DS/Puzzle\",\"DS/Puzzle\",\"GB/Puzzle\",\"GBA/Puzzle\",\"GC/Puzzle\",\"N64/Puzzle\",\"NES/Puzzle\",\"PC/Puzzle\",\"PS/Puzzle\",\"PS2/Puzzle\",\"PS3/Puzzle\",\"PS4/Puzzle\",\"PSP/Puzzle\",\"PSV/Puzzle\",\"SAT/Puzzle\",\"SNES/Puzzle\",\"Wii/Puzzle\",\"WiiU/Puzzle\",\"X360/Puzzle\",\"XB/Puzzle\",\"2600/Racing\",\"3DS/Racing\",\"DC/Racing\",\"DS/Racing\",\"GB/Racing\",\"GBA/Racing\",\"GC/Racing\",\"GEN/Racing\",\"N64/Racing\",\"NES/Racing\",\"PC/Racing\",\"PS/Racing\",\"PS2/Racing\",\"PS3/Racing\",\"PS4/Racing\",\"PSP/Racing\",\"PSV/Racing\",\"SAT/Racing\",\"SCD/Racing\",\"SNES/Racing\",\"Wii/Racing\",\"WiiU/Racing\",\"X360/Racing\",\"XB/Racing\",\"XOne/Racing\",\"3DS/Role-Playing\",\"DC/Role-Playing\",\"DS/Role-Playing\",\"GB/Role-Playing\",\"GBA/Role-Playing\",\"GC/Role-Playing\",\"GEN/Role-Playing\",\"N64/Role-Playing\",\"NES/Role-Playing\",\"PC/Role-Playing\",\"PCFX/Role-Playing\",\"PS/Role-Playing\",\"PS2/Role-Playing\",\"PS3/Role-Playing\",\"PS4/Role-Playing\",\"PSP/Role-Playing\",\"PSV/Role-Playing\",\"SAT/Role-Playing\",\"SCD/Role-Playing\",\"SNES/Role-Playing\",\"WS/Role-Playing\",\"Wii/Role-Playing\",\"WiiU/Role-Playing\",\"X360/Role-Playing\",\"XB/Role-Playing\",\"XOne/Role-Playing\",\"2600/Shooter\",\"3DS/Shooter\",\"DC/Shooter\",\"DS/Shooter\",\"GB/Shooter\",\"GBA/Shooter\",\"GC/Shooter\",\"GEN/Shooter\",\"N64/Shooter\",\"NES/Shooter\",\"PC/Shooter\",\"PS/Shooter\",\"PS2/Shooter\",\"PS3/Shooter\",\"PS4/Shooter\",\"PSP/Shooter\",\"PSV/Shooter\",\"SAT/Shooter\",\"SNES/Shooter\",\"TG16/Shooter\",\"Wii/Shooter\",\"WiiU/Shooter\",\"X360/Shooter\",\"XB/Shooter\",\"XOne/Shooter\",\"2600/Simulation\",\"3DO/Simulation\",\"3DS/Simulation\",\"DC/Simulation\",\"DS/Simulation\",\"GB/Simulation\",\"GBA/Simulation\",\"GC/Simulation\",\"N64/Simulation\",\"PC/Simulation\",\"PS/Simulation\",\"PS2/Simulation\",\"PS3/Simulation\",\"PS4/Simulation\",\"PSP/Simulation\",\"PSV/Simulation\",\"SAT/Simulation\",\"SNES/Simulation\",\"Wii/Simulation\",\"WiiU/Simulation\",\"X360/Simulation\",\"XB/Simulation\",\"XOne/Simulation\",\"2600/Sports\",\"3DS/Sports\",\"DC/Sports\",\"DS/Sports\",\"GB/Sports\",\"GBA/Sports\",\"GC/Sports\",\"GEN/Sports\",\"N64/Sports\",\"NES/Sports\",\"NG/Sports\",\"PC/Sports\",\"PS/Sports\",\"PS2/Sports\",\"PS3/Sports\",\"PS4/Sports\",\"PSP/Sports\",\"PSV/Sports\",\"SAT/Sports\",\"SNES/Sports\",\"Wii/Sports\",\"WiiU/Sports\",\"X360/Sports\",\"XB/Sports\",\"XOne/Sports\",\"3DS/Strategy\",\"DS/Strategy\",\"GB/Strategy\",\"GBA/Strategy\",\"GC/Strategy\",\"GEN/Strategy\",\"N64/Strategy\",\"PC/Strategy\",\"PS/Strategy\",\"PS2/Strategy\",\"PS3/Strategy\",\"PS4/Strategy\",\"PSP/Strategy\",\"PSV/Strategy\",\"SAT/Strategy\",\"SCD/Strategy\",\"SNES/Strategy\",\"WS/Strategy\",\"Wii/Strategy\",\"WiiU/Strategy\",\"X360/Strategy\",\"XB/Strategy\",\"XOne/Strategy\",\"2600\",\"3DO\",\"3DS\",\"DC\",\"DS\",\"GB\",\"GBA\",\"GC\",\"GEN\",\"GG\",\"N64\",\"NES\",\"NG\",\"PC\",\"PCFX\",\"PS\",\"PS2\",\"PS3\",\"PS4\",\"PSP\",\"PSV\",\"SAT\",\"SCD\",\"SNES\",\"TG16\",\"WS\",\"Wii\",\"WiiU\",\"X360\",\"XB\",\"XOne\"],\"labels\":[\"Action\",\"Action\",\"Action\",\"Action\",\"Action\",\"Action\",\"Action\",\"Action\",\"Action\",\"Action\",\"Action\",\"Action\",\"Action\",\"Action\",\"Action\",\"Action\",\"Action\",\"Action\",\"Action\",\"Action\",\"Action\",\"Action\",\"Action\",\"Action\",\"Adventure\",\"Adventure\",\"Adventure\",\"Adventure\",\"Adventure\",\"Adventure\",\"Adventure\",\"Adventure\",\"Adventure\",\"Adventure\",\"Adventure\",\"Adventure\",\"Adventure\",\"Adventure\",\"Adventure\",\"Adventure\",\"Adventure\",\"Adventure\",\"Adventure\",\"Adventure\",\"Adventure\",\"Adventure\",\"Adventure\",\"Adventure\",\"Adventure\",\"Adventure\",\"Fighting\",\"Fighting\",\"Fighting\",\"Fighting\",\"Fighting\",\"Fighting\",\"Fighting\",\"Fighting\",\"Fighting\",\"Fighting\",\"Fighting\",\"Fighting\",\"Fighting\",\"Fighting\",\"Fighting\",\"Fighting\",\"Fighting\",\"Fighting\",\"Fighting\",\"Fighting\",\"Fighting\",\"Fighting\",\"Fighting\",\"Fighting\",\"Misc\",\"Misc\",\"Misc\",\"Misc\",\"Misc\",\"Misc\",\"Misc\",\"Misc\",\"Misc\",\"Misc\",\"Misc\",\"Misc\",\"Misc\",\"Misc\",\"Misc\",\"Misc\",\"Misc\",\"Misc\",\"Misc\",\"Misc\",\"Misc\",\"Misc\",\"Misc\",\"Misc\",\"Platform\",\"Platform\",\"Platform\",\"Platform\",\"Platform\",\"Platform\",\"Platform\",\"Platform\",\"Platform\",\"Platform\",\"Platform\",\"Platform\",\"Platform\",\"Platform\",\"Platform\",\"Platform\",\"Platform\",\"Platform\",\"Platform\",\"Platform\",\"Platform\",\"Platform\",\"Platform\",\"Platform\",\"Platform\",\"Platform\",\"Puzzle\",\"Puzzle\",\"Puzzle\",\"Puzzle\",\"Puzzle\",\"Puzzle\",\"Puzzle\",\"Puzzle\",\"Puzzle\",\"Puzzle\",\"Puzzle\",\"Puzzle\",\"Puzzle\",\"Puzzle\",\"Puzzle\",\"Puzzle\",\"Puzzle\",\"Puzzle\",\"Puzzle\",\"Puzzle\",\"Puzzle\",\"Puzzle\",\"Racing\",\"Racing\",\"Racing\",\"Racing\",\"Racing\",\"Racing\",\"Racing\",\"Racing\",\"Racing\",\"Racing\",\"Racing\",\"Racing\",\"Racing\",\"Racing\",\"Racing\",\"Racing\",\"Racing\",\"Racing\",\"Racing\",\"Racing\",\"Racing\",\"Racing\",\"Racing\",\"Racing\",\"Racing\",\"Role-Playing\",\"Role-Playing\",\"Role-Playing\",\"Role-Playing\",\"Role-Playing\",\"Role-Playing\",\"Role-Playing\",\"Role-Playing\",\"Role-Playing\",\"Role-Playing\",\"Role-Playing\",\"Role-Playing\",\"Role-Playing\",\"Role-Playing\",\"Role-Playing\",\"Role-Playing\",\"Role-Playing\",\"Role-Playing\",\"Role-Playing\",\"Role-Playing\",\"Role-Playing\",\"Role-Playing\",\"Role-Playing\",\"Role-Playing\",\"Role-Playing\",\"Role-Playing\",\"Shooter\",\"Shooter\",\"Shooter\",\"Shooter\",\"Shooter\",\"Shooter\",\"Shooter\",\"Shooter\",\"Shooter\",\"Shooter\",\"Shooter\",\"Shooter\",\"Shooter\",\"Shooter\",\"Shooter\",\"Shooter\",\"Shooter\",\"Shooter\",\"Shooter\",\"Shooter\",\"Shooter\",\"Shooter\",\"Shooter\",\"Shooter\",\"Shooter\",\"Simulation\",\"Simulation\",\"Simulation\",\"Simulation\",\"Simulation\",\"Simulation\",\"Simulation\",\"Simulation\",\"Simulation\",\"Simulation\",\"Simulation\",\"Simulation\",\"Simulation\",\"Simulation\",\"Simulation\",\"Simulation\",\"Simulation\",\"Simulation\",\"Simulation\",\"Simulation\",\"Simulation\",\"Simulation\",\"Simulation\",\"Sports\",\"Sports\",\"Sports\",\"Sports\",\"Sports\",\"Sports\",\"Sports\",\"Sports\",\"Sports\",\"Sports\",\"Sports\",\"Sports\",\"Sports\",\"Sports\",\"Sports\",\"Sports\",\"Sports\",\"Sports\",\"Sports\",\"Sports\",\"Sports\",\"Sports\",\"Sports\",\"Sports\",\"Sports\",\"Strategy\",\"Strategy\",\"Strategy\",\"Strategy\",\"Strategy\",\"Strategy\",\"Strategy\",\"Strategy\",\"Strategy\",\"Strategy\",\"Strategy\",\"Strategy\",\"Strategy\",\"Strategy\",\"Strategy\",\"Strategy\",\"Strategy\",\"Strategy\",\"Strategy\",\"Strategy\",\"Strategy\",\"Strategy\",\"Strategy\",\"2600\",\"3DO\",\"3DS\",\"DC\",\"DS\",\"GB\",\"GBA\",\"GC\",\"GEN\",\"GG\",\"N64\",\"NES\",\"NG\",\"PC\",\"PCFX\",\"PS\",\"PS2\",\"PS3\",\"PS4\",\"PSP\",\"PSV\",\"SAT\",\"SCD\",\"SNES\",\"TG16\",\"WS\",\"Wii\",\"WiiU\",\"X360\",\"XB\",\"XOne\"],\"name\":\"\",\"parents\":[\"2600\",\"3DS\",\"DC\",\"DS\",\"GB\",\"GBA\",\"GC\",\"GEN\",\"N64\",\"NES\",\"PC\",\"PS\",\"PS2\",\"PS3\",\"PS4\",\"PSP\",\"PSV\",\"SAT\",\"SNES\",\"Wii\",\"WiiU\",\"X360\",\"XB\",\"XOne\",\"2600\",\"3DO\",\"3DS\",\"DC\",\"DS\",\"GB\",\"GBA\",\"GC\",\"GEN\",\"N64\",\"NES\",\"PC\",\"PS\",\"PS2\",\"PS3\",\"PS4\",\"PSP\",\"PSV\",\"SAT\",\"SNES\",\"TG16\",\"Wii\",\"WiiU\",\"X360\",\"XB\",\"XOne\",\"2600\",\"3DS\",\"DC\",\"DS\",\"GBA\",\"GC\",\"GEN\",\"N64\",\"NES\",\"NG\",\"PC\",\"PS\",\"PS2\",\"PS3\",\"PS4\",\"PSP\",\"PSV\",\"SAT\",\"SNES\",\"Wii\",\"WiiU\",\"X360\",\"XB\",\"XOne\",\"2600\",\"3DS\",\"DS\",\"GB\",\"GBA\",\"GC\",\"GEN\",\"N64\",\"NES\",\"PC\",\"PS\",\"PS2\",\"PS3\",\"PS4\",\"PSP\",\"PSV\",\"SAT\",\"SCD\",\"SNES\",\"Wii\",\"WiiU\",\"X360\",\"XB\",\"XOne\",\"2600\",\"3DS\",\"DC\",\"DS\",\"GB\",\"GBA\",\"GC\",\"GEN\",\"GG\",\"N64\",\"NES\",\"PC\",\"PS\",\"PS2\",\"PS3\",\"PS4\",\"PSP\",\"PSV\",\"SAT\",\"SCD\",\"SNES\",\"Wii\",\"WiiU\",\"X360\",\"XB\",\"XOne\",\"2600\",\"3DO\",\"3DS\",\"DS\",\"GB\",\"GBA\",\"GC\",\"N64\",\"NES\",\"PC\",\"PS\",\"PS2\",\"PS3\",\"PS4\",\"PSP\",\"PSV\",\"SAT\",\"SNES\",\"Wii\",\"WiiU\",\"X360\",\"XB\",\"2600\",\"3DS\",\"DC\",\"DS\",\"GB\",\"GBA\",\"GC\",\"GEN\",\"N64\",\"NES\",\"PC\",\"PS\",\"PS2\",\"PS3\",\"PS4\",\"PSP\",\"PSV\",\"SAT\",\"SCD\",\"SNES\",\"Wii\",\"WiiU\",\"X360\",\"XB\",\"XOne\",\"3DS\",\"DC\",\"DS\",\"GB\",\"GBA\",\"GC\",\"GEN\",\"N64\",\"NES\",\"PC\",\"PCFX\",\"PS\",\"PS2\",\"PS3\",\"PS4\",\"PSP\",\"PSV\",\"SAT\",\"SCD\",\"SNES\",\"WS\",\"Wii\",\"WiiU\",\"X360\",\"XB\",\"XOne\",\"2600\",\"3DS\",\"DC\",\"DS\",\"GB\",\"GBA\",\"GC\",\"GEN\",\"N64\",\"NES\",\"PC\",\"PS\",\"PS2\",\"PS3\",\"PS4\",\"PSP\",\"PSV\",\"SAT\",\"SNES\",\"TG16\",\"Wii\",\"WiiU\",\"X360\",\"XB\",\"XOne\",\"2600\",\"3DO\",\"3DS\",\"DC\",\"DS\",\"GB\",\"GBA\",\"GC\",\"N64\",\"PC\",\"PS\",\"PS2\",\"PS3\",\"PS4\",\"PSP\",\"PSV\",\"SAT\",\"SNES\",\"Wii\",\"WiiU\",\"X360\",\"XB\",\"XOne\",\"2600\",\"3DS\",\"DC\",\"DS\",\"GB\",\"GBA\",\"GC\",\"GEN\",\"N64\",\"NES\",\"NG\",\"PC\",\"PS\",\"PS2\",\"PS3\",\"PS4\",\"PSP\",\"PSV\",\"SAT\",\"SNES\",\"Wii\",\"WiiU\",\"X360\",\"XB\",\"XOne\",\"3DS\",\"DS\",\"GB\",\"GBA\",\"GC\",\"GEN\",\"N64\",\"PC\",\"PS\",\"PS2\",\"PS3\",\"PS4\",\"PSP\",\"PSV\",\"SAT\",\"SCD\",\"SNES\",\"WS\",\"Wii\",\"WiiU\",\"X360\",\"XB\",\"XOne\",\"\",\"\",\"\",\"\",\"\",\"\",\"\",\"\",\"\",\"\",\"\",\"\",\"\",\"\",\"\",\"\",\"\",\"\",\"\",\"\",\"\",\"\",\"\",\"\",\"\",\"\",\"\",\"\",\"\",\"\",\"\"],\"values\":[29.34,57.019999999999996,1.26,115.56,7.92,55.76,37.839999999999996,2.74,29.58,28.75,31.53,127.05,272.76,307.88,87.06,64.72,20.01,0.65,10.08,118.58,19.35,242.67,49.28,33.79,1.7000000000000002,0.06,4.8100000000000005,2.5,47.29,17.16,14.68,5.93,0.19,0.45,4.38,10.09,20.97,21.16,22.9,4.7,10.69,4.18,4.16,1.5,0.14,18.43,0.17,15.23,3.06,2.5100000000000002,1.24,10.46,1.83,7.2,4.21,18.43,5.9,22.08,6.54,1.4200000000000002,0.27,72.68,92.6,51.7,8.040000000000001,21.97,3.15,8.52,26.95,23.86,6.359999999999999,37.64,13.55,2.31,3.58,10.48,137.76,13.35,36.25,16.73,0.03,11.19,3.59,8.56,44.9,101.14,47.85,7.3999999999999995,13.96,5.18,1.2,0.1,5.02,221.06,12.23,91.96,9.58,6.86,13.27,32.23,2.54,77.45,54.910000000000004,78.3,28.66,15.45,0.04,36.13,95.78,0.49,64.21,72.51,30.33,7.01,17.28,3.03,0.76,1.5,65.65,90.74,21.240000000000002,11.39,9.66,0.81,14.68,0.02,5.57,84.29,47.47,12.92,4.7,3.41,21.0,0.92,12.08,5.9,0.6,0.02,5.5200000000000005,0.2,1.0,6.38,15.67,1.3299999999999998,0.85,0.42000000000000004,2.91,14.49,2.65,38.64,4.55,18.8,21.89,0.26,40.089999999999996,9.780000000000001,4.06,103.19,156.28,73.95,11.53,34.73,2.95,2.4,0.07,13.49,61.28,7.77,65.99,31.49,8.8,75.74,0.68,126.85,88.24000000000001,64.21,13.15,0.27,3.36,18.78,47.78,0.03,78.3,93.5,75.3,25.77,49.05,13.39,3.76,0.06,36.43,1.22,14.06,2.47,71.98,13.51,9.48,26.48,1.29,0.33,8.2,1.2,3.6,13.63,0.13,19.27,35.62,45.32,39.31,108.57,196.04,75.32,19.77,4.57,3.98,6.07,0.02,28.77,6.17,278.55,63.55,51.61,0.45,0.02,27.080000000000002,0.52,132.03,3.55,5.91,8.59,10.19,51.91,25.330000000000002,42.66,10.790000000000001,0.77,6.28,0.08,1.1300000000000001,5.63,36.97,0.21,14.45,7.11,0.54,3.43,6.2,3.66,31.83,9.05,16.41,25.49,3.1999999999999997,32.8,26.85,0.02,12.01,120.97,273.41,135.56,50.07,41.69,4.88,2.79,17.87,292.06,3.3200000000000003,139.12,54.27,23.97,2.09,15.39,8.05,7.45,4.32,0.19,10.33,45.88,21.67,15.15,4.94,0.41000000000000003,10.620000000000001,0.31,3.24,0.14,4.98,0.2,5.23,1.24,10.13,2.7800000000000002,0.38,97.08,0.1,247.46,15.97,822.49,255.45000000000002,318.5,199.36,28.36,0.04,218.88,251.07,1.44,258.82,0.03,730.66,1255.64,957.84,278.1,296.28000000000003,61.93,33.59,1.87,200.05,0.16,1.42,926.71,81.86,979.96,258.26,141.06],\"type\":\"treemap\"}],                        {\"template\":{\"data\":{\"bar\":[{\"error_x\":{\"color\":\"#2a3f5f\"},\"error_y\":{\"color\":\"#2a3f5f\"},\"marker\":{\"line\":{\"color\":\"#E5ECF6\",\"width\":0.5},\"pattern\":{\"fillmode\":\"overlay\",\"size\":10,\"solidity\":0.2}},\"type\":\"bar\"}],\"barpolar\":[{\"marker\":{\"line\":{\"color\":\"#E5ECF6\",\"width\":0.5},\"pattern\":{\"fillmode\":\"overlay\",\"size\":10,\"solidity\":0.2}},\"type\":\"barpolar\"}],\"carpet\":[{\"aaxis\":{\"endlinecolor\":\"#2a3f5f\",\"gridcolor\":\"white\",\"linecolor\":\"white\",\"minorgridcolor\":\"white\",\"startlinecolor\":\"#2a3f5f\"},\"baxis\":{\"endlinecolor\":\"#2a3f5f\",\"gridcolor\":\"white\",\"linecolor\":\"white\",\"minorgridcolor\":\"white\",\"startlinecolor\":\"#2a3f5f\"},\"type\":\"carpet\"}],\"choropleth\":[{\"colorbar\":{\"outlinewidth\":0,\"ticks\":\"\"},\"type\":\"choropleth\"}],\"contour\":[{\"colorbar\":{\"outlinewidth\":0,\"ticks\":\"\"},\"colorscale\":[[0.0,\"#0d0887\"],[0.1111111111111111,\"#46039f\"],[0.2222222222222222,\"#7201a8\"],[0.3333333333333333,\"#9c179e\"],[0.4444444444444444,\"#bd3786\"],[0.5555555555555556,\"#d8576b\"],[0.6666666666666666,\"#ed7953\"],[0.7777777777777778,\"#fb9f3a\"],[0.8888888888888888,\"#fdca26\"],[1.0,\"#f0f921\"]],\"type\":\"contour\"}],\"contourcarpet\":[{\"colorbar\":{\"outlinewidth\":0,\"ticks\":\"\"},\"type\":\"contourcarpet\"}],\"heatmap\":[{\"colorbar\":{\"outlinewidth\":0,\"ticks\":\"\"},\"colorscale\":[[0.0,\"#0d0887\"],[0.1111111111111111,\"#46039f\"],[0.2222222222222222,\"#7201a8\"],[0.3333333333333333,\"#9c179e\"],[0.4444444444444444,\"#bd3786\"],[0.5555555555555556,\"#d8576b\"],[0.6666666666666666,\"#ed7953\"],[0.7777777777777778,\"#fb9f3a\"],[0.8888888888888888,\"#fdca26\"],[1.0,\"#f0f921\"]],\"type\":\"heatmap\"}],\"heatmapgl\":[{\"colorbar\":{\"outlinewidth\":0,\"ticks\":\"\"},\"colorscale\":[[0.0,\"#0d0887\"],[0.1111111111111111,\"#46039f\"],[0.2222222222222222,\"#7201a8\"],[0.3333333333333333,\"#9c179e\"],[0.4444444444444444,\"#bd3786\"],[0.5555555555555556,\"#d8576b\"],[0.6666666666666666,\"#ed7953\"],[0.7777777777777778,\"#fb9f3a\"],[0.8888888888888888,\"#fdca26\"],[1.0,\"#f0f921\"]],\"type\":\"heatmapgl\"}],\"histogram\":[{\"marker\":{\"pattern\":{\"fillmode\":\"overlay\",\"size\":10,\"solidity\":0.2}},\"type\":\"histogram\"}],\"histogram2d\":[{\"colorbar\":{\"outlinewidth\":0,\"ticks\":\"\"},\"colorscale\":[[0.0,\"#0d0887\"],[0.1111111111111111,\"#46039f\"],[0.2222222222222222,\"#7201a8\"],[0.3333333333333333,\"#9c179e\"],[0.4444444444444444,\"#bd3786\"],[0.5555555555555556,\"#d8576b\"],[0.6666666666666666,\"#ed7953\"],[0.7777777777777778,\"#fb9f3a\"],[0.8888888888888888,\"#fdca26\"],[1.0,\"#f0f921\"]],\"type\":\"histogram2d\"}],\"histogram2dcontour\":[{\"colorbar\":{\"outlinewidth\":0,\"ticks\":\"\"},\"colorscale\":[[0.0,\"#0d0887\"],[0.1111111111111111,\"#46039f\"],[0.2222222222222222,\"#7201a8\"],[0.3333333333333333,\"#9c179e\"],[0.4444444444444444,\"#bd3786\"],[0.5555555555555556,\"#d8576b\"],[0.6666666666666666,\"#ed7953\"],[0.7777777777777778,\"#fb9f3a\"],[0.8888888888888888,\"#fdca26\"],[1.0,\"#f0f921\"]],\"type\":\"histogram2dcontour\"}],\"mesh3d\":[{\"colorbar\":{\"outlinewidth\":0,\"ticks\":\"\"},\"type\":\"mesh3d\"}],\"parcoords\":[{\"line\":{\"colorbar\":{\"outlinewidth\":0,\"ticks\":\"\"}},\"type\":\"parcoords\"}],\"pie\":[{\"automargin\":true,\"type\":\"pie\"}],\"scatter\":[{\"marker\":{\"colorbar\":{\"outlinewidth\":0,\"ticks\":\"\"}},\"type\":\"scatter\"}],\"scatter3d\":[{\"line\":{\"colorbar\":{\"outlinewidth\":0,\"ticks\":\"\"}},\"marker\":{\"colorbar\":{\"outlinewidth\":0,\"ticks\":\"\"}},\"type\":\"scatter3d\"}],\"scattercarpet\":[{\"marker\":{\"colorbar\":{\"outlinewidth\":0,\"ticks\":\"\"}},\"type\":\"scattercarpet\"}],\"scattergeo\":[{\"marker\":{\"colorbar\":{\"outlinewidth\":0,\"ticks\":\"\"}},\"type\":\"scattergeo\"}],\"scattergl\":[{\"marker\":{\"colorbar\":{\"outlinewidth\":0,\"ticks\":\"\"}},\"type\":\"scattergl\"}],\"scattermapbox\":[{\"marker\":{\"colorbar\":{\"outlinewidth\":0,\"ticks\":\"\"}},\"type\":\"scattermapbox\"}],\"scatterpolar\":[{\"marker\":{\"colorbar\":{\"outlinewidth\":0,\"ticks\":\"\"}},\"type\":\"scatterpolar\"}],\"scatterpolargl\":[{\"marker\":{\"colorbar\":{\"outlinewidth\":0,\"ticks\":\"\"}},\"type\":\"scatterpolargl\"}],\"scatterternary\":[{\"marker\":{\"colorbar\":{\"outlinewidth\":0,\"ticks\":\"\"}},\"type\":\"scatterternary\"}],\"surface\":[{\"colorbar\":{\"outlinewidth\":0,\"ticks\":\"\"},\"colorscale\":[[0.0,\"#0d0887\"],[0.1111111111111111,\"#46039f\"],[0.2222222222222222,\"#7201a8\"],[0.3333333333333333,\"#9c179e\"],[0.4444444444444444,\"#bd3786\"],[0.5555555555555556,\"#d8576b\"],[0.6666666666666666,\"#ed7953\"],[0.7777777777777778,\"#fb9f3a\"],[0.8888888888888888,\"#fdca26\"],[1.0,\"#f0f921\"]],\"type\":\"surface\"}],\"table\":[{\"cells\":{\"fill\":{\"color\":\"#EBF0F8\"},\"line\":{\"color\":\"white\"}},\"header\":{\"fill\":{\"color\":\"#C8D4E3\"},\"line\":{\"color\":\"white\"}},\"type\":\"table\"}]},\"layout\":{\"annotationdefaults\":{\"arrowcolor\":\"#2a3f5f\",\"arrowhead\":0,\"arrowwidth\":1},\"autotypenumbers\":\"strict\",\"coloraxis\":{\"colorbar\":{\"outlinewidth\":0,\"ticks\":\"\"}},\"colorscale\":{\"diverging\":[[0,\"#8e0152\"],[0.1,\"#c51b7d\"],[0.2,\"#de77ae\"],[0.3,\"#f1b6da\"],[0.4,\"#fde0ef\"],[0.5,\"#f7f7f7\"],[0.6,\"#e6f5d0\"],[0.7,\"#b8e186\"],[0.8,\"#7fbc41\"],[0.9,\"#4d9221\"],[1,\"#276419\"]],\"sequential\":[[0.0,\"#0d0887\"],[0.1111111111111111,\"#46039f\"],[0.2222222222222222,\"#7201a8\"],[0.3333333333333333,\"#9c179e\"],[0.4444444444444444,\"#bd3786\"],[0.5555555555555556,\"#d8576b\"],[0.6666666666666666,\"#ed7953\"],[0.7777777777777778,\"#fb9f3a\"],[0.8888888888888888,\"#fdca26\"],[1.0,\"#f0f921\"]],\"sequentialminus\":[[0.0,\"#0d0887\"],[0.1111111111111111,\"#46039f\"],[0.2222222222222222,\"#7201a8\"],[0.3333333333333333,\"#9c179e\"],[0.4444444444444444,\"#bd3786\"],[0.5555555555555556,\"#d8576b\"],[0.6666666666666666,\"#ed7953\"],[0.7777777777777778,\"#fb9f3a\"],[0.8888888888888888,\"#fdca26\"],[1.0,\"#f0f921\"]]},\"colorway\":[\"#636efa\",\"#EF553B\",\"#00cc96\",\"#ab63fa\",\"#FFA15A\",\"#19d3f3\",\"#FF6692\",\"#B6E880\",\"#FF97FF\",\"#FECB52\"],\"font\":{\"color\":\"#2a3f5f\"},\"geo\":{\"bgcolor\":\"white\",\"lakecolor\":\"white\",\"landcolor\":\"#E5ECF6\",\"showlakes\":true,\"showland\":true,\"subunitcolor\":\"white\"},\"hoverlabel\":{\"align\":\"left\"},\"hovermode\":\"closest\",\"mapbox\":{\"style\":\"light\"},\"paper_bgcolor\":\"white\",\"plot_bgcolor\":\"#E5ECF6\",\"polar\":{\"angularaxis\":{\"gridcolor\":\"white\",\"linecolor\":\"white\",\"ticks\":\"\"},\"bgcolor\":\"#E5ECF6\",\"radialaxis\":{\"gridcolor\":\"white\",\"linecolor\":\"white\",\"ticks\":\"\"}},\"scene\":{\"xaxis\":{\"backgroundcolor\":\"#E5ECF6\",\"gridcolor\":\"white\",\"gridwidth\":2,\"linecolor\":\"white\",\"showbackground\":true,\"ticks\":\"\",\"zerolinecolor\":\"white\"},\"yaxis\":{\"backgroundcolor\":\"#E5ECF6\",\"gridcolor\":\"white\",\"gridwidth\":2,\"linecolor\":\"white\",\"showbackground\":true,\"ticks\":\"\",\"zerolinecolor\":\"white\"},\"zaxis\":{\"backgroundcolor\":\"#E5ECF6\",\"gridcolor\":\"white\",\"gridwidth\":2,\"linecolor\":\"white\",\"showbackground\":true,\"ticks\":\"\",\"zerolinecolor\":\"white\"}},\"shapedefaults\":{\"line\":{\"color\":\"#2a3f5f\"}},\"ternary\":{\"aaxis\":{\"gridcolor\":\"white\",\"linecolor\":\"white\",\"ticks\":\"\"},\"baxis\":{\"gridcolor\":\"white\",\"linecolor\":\"white\",\"ticks\":\"\"},\"bgcolor\":\"#E5ECF6\",\"caxis\":{\"gridcolor\":\"white\",\"linecolor\":\"white\",\"ticks\":\"\"}},\"title\":{\"x\":0.05},\"xaxis\":{\"automargin\":true,\"gridcolor\":\"white\",\"linecolor\":\"white\",\"ticks\":\"\",\"title\":{\"standoff\":15},\"zerolinecolor\":\"white\",\"zerolinewidth\":2},\"yaxis\":{\"automargin\":true,\"gridcolor\":\"white\",\"linecolor\":\"white\",\"ticks\":\"\",\"title\":{\"standoff\":15},\"zerolinecolor\":\"white\",\"zerolinewidth\":2}}},\"legend\":{\"tracegroupgap\":0},\"title\":{\"text\":\"Video Game Sales\"},\"height\":600,\"width\":1000},                        {\"responsive\": true}                    ).then(function(){\n",
       "                            \n",
       "var gd = document.getElementById('04092ece-9062-46e6-b8e7-92691962ce3e');\n",
       "var x = new MutationObserver(function (mutations, observer) {{\n",
       "        var display = window.getComputedStyle(gd).display;\n",
       "        if (!display || display === 'none') {{\n",
       "            console.log([gd, 'removed!']);\n",
       "            Plotly.purge(gd);\n",
       "            observer.disconnect();\n",
       "        }}\n",
       "}});\n",
       "\n",
       "// Listen for the removal of the full notebook cells\n",
       "var notebookContainer = gd.closest('#notebook-container');\n",
       "if (notebookContainer) {{\n",
       "    x.observe(notebookContainer, {childList: true});\n",
       "}}\n",
       "\n",
       "// Listen for the clearing of the current output cell\n",
       "var outputEl = gd.closest('.output');\n",
       "if (outputEl) {{\n",
       "    x.observe(outputEl, {childList: true});\n",
       "}}\n",
       "\n",
       "                        })                };                });            </script>        </div>"
      ]
     },
     "metadata": {},
     "output_type": "display_data"
    }
   ],
   "source": [
    "fig = px.treemap(vg_sales, path=['Platform', 'Genre'],  values= 'Global_Sales', width=1000, height=600, title='Video Game Sales')\n",
    "\n",
    "fig.show()"
   ]
  },
  {
   "cell_type": "code",
   "execution_count": null,
   "metadata": {},
   "outputs": [],
   "source": []
  }
 ],
 "metadata": {
  "kernelspec": {
   "display_name": "Python 3 (ipykernel)",
   "language": "python",
   "name": "python3"
  },
  "language_info": {
   "codemirror_mode": {
    "name": "ipython",
    "version": 3
   },
   "file_extension": ".py",
   "mimetype": "text/x-python",
   "name": "python",
   "nbconvert_exporter": "python",
   "pygments_lexer": "ipython3",
   "version": "3.9.12"
  }
 },
 "nbformat": 4,
 "nbformat_minor": 1
}