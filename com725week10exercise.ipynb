{
 "cells": [
  {
   "cell_type": "code",
   "execution_count": 21,
   "metadata": {},
   "outputs": [],
   "source": [
    "import pandas as pd\n",
    "import numpy as np\n",
    "import plotly.express as px"
   ]
  },
  {
   "cell_type": "code",
   "execution_count": 22,
   "metadata": {},
   "outputs": [
    {
     "data": {
      "text/html": [
       "<div>\n",
       "<style scoped>\n",
       "    .dataframe tbody tr th:only-of-type {\n",
       "        vertical-align: middle;\n",
       "    }\n",
       "\n",
       "    .dataframe tbody tr th {\n",
       "        vertical-align: top;\n",
       "    }\n",
       "\n",
       "    .dataframe thead th {\n",
       "        text-align: right;\n",
       "    }\n",
       "</style>\n",
       "<table border=\"1\" class=\"dataframe\">\n",
       "  <thead>\n",
       "    <tr style=\"text-align: right;\">\n",
       "      <th></th>\n",
       "      <th>Country</th>\n",
       "      <th>Region</th>\n",
       "      <th>Population</th>\n",
       "      <th>Area (sq. mi.)</th>\n",
       "      <th>Pop. Density (per sq. mi.)</th>\n",
       "      <th>Coastline (coast/area ratio)</th>\n",
       "      <th>Net migration</th>\n",
       "      <th>Infant mortality (per 1000 births)</th>\n",
       "      <th>GDP ($ per capita)</th>\n",
       "      <th>Literacy (%)</th>\n",
       "      <th>Phones (per 1000)</th>\n",
       "      <th>Arable (%)</th>\n",
       "      <th>Crops (%)</th>\n",
       "      <th>Other (%)</th>\n",
       "      <th>Climate</th>\n",
       "      <th>Birthrate</th>\n",
       "      <th>Deathrate</th>\n",
       "      <th>Agriculture</th>\n",
       "      <th>Industry</th>\n",
       "      <th>Service</th>\n",
       "    </tr>\n",
       "  </thead>\n",
       "  <tbody>\n",
       "    <tr>\n",
       "      <th>0</th>\n",
       "      <td>Afghanistan</td>\n",
       "      <td>ASIA (EX. NEAR EAST)</td>\n",
       "      <td>31056997</td>\n",
       "      <td>647500</td>\n",
       "      <td>48,0</td>\n",
       "      <td>0,00</td>\n",
       "      <td>23,06</td>\n",
       "      <td>163,07</td>\n",
       "      <td>700.0</td>\n",
       "      <td>36,0</td>\n",
       "      <td>3,2</td>\n",
       "      <td>12,13</td>\n",
       "      <td>0,22</td>\n",
       "      <td>87,65</td>\n",
       "      <td>1</td>\n",
       "      <td>46,6</td>\n",
       "      <td>20,34</td>\n",
       "      <td>0,38</td>\n",
       "      <td>0,24</td>\n",
       "      <td>0,38</td>\n",
       "    </tr>\n",
       "    <tr>\n",
       "      <th>1</th>\n",
       "      <td>Albania</td>\n",
       "      <td>EASTERN EUROPE</td>\n",
       "      <td>3581655</td>\n",
       "      <td>28748</td>\n",
       "      <td>124,6</td>\n",
       "      <td>1,26</td>\n",
       "      <td>-4,93</td>\n",
       "      <td>21,52</td>\n",
       "      <td>4500.0</td>\n",
       "      <td>86,5</td>\n",
       "      <td>71,2</td>\n",
       "      <td>21,09</td>\n",
       "      <td>4,42</td>\n",
       "      <td>74,49</td>\n",
       "      <td>3</td>\n",
       "      <td>15,11</td>\n",
       "      <td>5,22</td>\n",
       "      <td>0,232</td>\n",
       "      <td>0,188</td>\n",
       "      <td>0,579</td>\n",
       "    </tr>\n",
       "    <tr>\n",
       "      <th>2</th>\n",
       "      <td>Algeria</td>\n",
       "      <td>NORTHERN AFRICA</td>\n",
       "      <td>32930091</td>\n",
       "      <td>2381740</td>\n",
       "      <td>13,8</td>\n",
       "      <td>0,04</td>\n",
       "      <td>-0,39</td>\n",
       "      <td>31</td>\n",
       "      <td>6000.0</td>\n",
       "      <td>70,0</td>\n",
       "      <td>78,1</td>\n",
       "      <td>3,22</td>\n",
       "      <td>0,25</td>\n",
       "      <td>96,53</td>\n",
       "      <td>1</td>\n",
       "      <td>17,14</td>\n",
       "      <td>4,61</td>\n",
       "      <td>0,101</td>\n",
       "      <td>0,6</td>\n",
       "      <td>0,298</td>\n",
       "    </tr>\n",
       "    <tr>\n",
       "      <th>3</th>\n",
       "      <td>American Samoa</td>\n",
       "      <td>OCEANIA</td>\n",
       "      <td>57794</td>\n",
       "      <td>199</td>\n",
       "      <td>290,4</td>\n",
       "      <td>58,29</td>\n",
       "      <td>-20,71</td>\n",
       "      <td>9,27</td>\n",
       "      <td>8000.0</td>\n",
       "      <td>97,0</td>\n",
       "      <td>259,5</td>\n",
       "      <td>10</td>\n",
       "      <td>15</td>\n",
       "      <td>75</td>\n",
       "      <td>2</td>\n",
       "      <td>22,46</td>\n",
       "      <td>3,27</td>\n",
       "      <td>NaN</td>\n",
       "      <td>NaN</td>\n",
       "      <td>NaN</td>\n",
       "    </tr>\n",
       "    <tr>\n",
       "      <th>4</th>\n",
       "      <td>Andorra</td>\n",
       "      <td>WESTERN EUROPE</td>\n",
       "      <td>71201</td>\n",
       "      <td>468</td>\n",
       "      <td>152,1</td>\n",
       "      <td>0,00</td>\n",
       "      <td>6,6</td>\n",
       "      <td>4,05</td>\n",
       "      <td>19000.0</td>\n",
       "      <td>100,0</td>\n",
       "      <td>497,2</td>\n",
       "      <td>2,22</td>\n",
       "      <td>0</td>\n",
       "      <td>97,78</td>\n",
       "      <td>3</td>\n",
       "      <td>8,71</td>\n",
       "      <td>6,25</td>\n",
       "      <td>NaN</td>\n",
       "      <td>NaN</td>\n",
       "      <td>NaN</td>\n",
       "    </tr>\n",
       "  </tbody>\n",
       "</table>\n",
       "</div>"
      ],
      "text/plain": [
       "           Country                               Region  Population  \\\n",
       "0     Afghanistan         ASIA (EX. NEAR EAST)             31056997   \n",
       "1         Albania   EASTERN EUROPE                          3581655   \n",
       "2         Algeria   NORTHERN AFRICA                        32930091   \n",
       "3  American Samoa   OCEANIA                                   57794   \n",
       "4         Andorra   WESTERN EUROPE                            71201   \n",
       "\n",
       "   Area (sq. mi.) Pop. Density (per sq. mi.) Coastline (coast/area ratio)  \\\n",
       "0          647500                       48,0                         0,00   \n",
       "1           28748                      124,6                         1,26   \n",
       "2         2381740                       13,8                         0,04   \n",
       "3             199                      290,4                        58,29   \n",
       "4             468                      152,1                         0,00   \n",
       "\n",
       "  Net migration Infant mortality (per 1000 births)  GDP ($ per capita)  \\\n",
       "0         23,06                             163,07               700.0   \n",
       "1         -4,93                              21,52              4500.0   \n",
       "2         -0,39                                 31              6000.0   \n",
       "3        -20,71                               9,27              8000.0   \n",
       "4           6,6                               4,05             19000.0   \n",
       "\n",
       "  Literacy (%) Phones (per 1000) Arable (%) Crops (%) Other (%) Climate  \\\n",
       "0         36,0               3,2      12,13      0,22     87,65       1   \n",
       "1         86,5              71,2      21,09      4,42     74,49       3   \n",
       "2         70,0              78,1       3,22      0,25     96,53       1   \n",
       "3         97,0             259,5         10        15        75       2   \n",
       "4        100,0             497,2       2,22         0     97,78       3   \n",
       "\n",
       "  Birthrate Deathrate Agriculture Industry Service  \n",
       "0      46,6     20,34        0,38     0,24    0,38  \n",
       "1     15,11      5,22       0,232    0,188   0,579  \n",
       "2     17,14      4,61       0,101      0,6   0,298  \n",
       "3     22,46      3,27         NaN      NaN     NaN  \n",
       "4      8,71      6,25         NaN      NaN     NaN  "
      ]
     },
     "execution_count": 22,
     "metadata": {},
     "output_type": "execute_result"
    }
   ],
   "source": [
    "world_data = pd.read_csv('countries of the world.csv')\n",
    "world_data.head()"
   ]
  },
  {
   "cell_type": "code",
   "execution_count": 32,
   "metadata": {},
   "outputs": [
    {
     "data": {
      "application/vnd.plotly.v1+json": {
       "data": [
        {
         "branchvalues": "total",
         "customdata": [
          [
           700.0
          ],
          [
           4500.0
          ],
          [
           6000.0
          ],
          [
           8000.0
          ],
          [
           19000.0
          ],
          [
           1900.0
          ],
          [
           8600.0
          ],
          [
           11000.0
          ],
          [
           11200.0
          ],
          [
           3500.0
          ],
          [
           28000.0
          ],
          [
           29000.0
          ],
          [
           30000.0
          ],
          [
           3400.0
          ],
          [
           16700.0
          ],
          [
           16900.0
          ],
          [
           1900.0
          ],
          [
           15700.0
          ],
          [
           6100.0
          ],
          [
           29100.0
          ],
          [
           4900.0
          ],
          [
           1100.0
          ],
          [
           36000.0
          ],
          [
           1300.0
          ],
          [
           2400.0
          ],
          [
           6100.0
          ],
          [
           9000.0
          ],
          [
           7600.0
          ],
          [
           16000.0
          ],
          [
           18600.0
          ],
          [
           7600.0
          ],
          [
           1100.0
          ],
          [
           1800.0
          ],
          [
           600.0
          ],
          [
           1900.0
          ],
          [
           1800.0
          ],
          [
           29800.0
          ],
          [
           1400.0
          ],
          [
           35000.0
          ],
          [
           1100.0
          ],
          [
           1200.0
          ],
          [
           9900.0
          ],
          [
           5000.0
          ],
          [
           6300.0
          ],
          [
           700.0
          ],
          [
           700.0
          ],
          [
           700.0
          ],
          [
           5000.0
          ],
          [
           9100.0
          ],
          [
           1400.0
          ],
          [
           10600.0
          ],
          [
           2900.0
          ],
          [
           19200.0
          ],
          [
           15700.0
          ],
          [
           31100.0
          ],
          [
           1300.0
          ],
          [
           5400.0
          ],
          [
           6000.0
          ],
          [
           500.0
          ],
          [
           3300.0
          ],
          [
           4000.0
          ],
          [
           4800.0
          ],
          [
           2700.0
          ],
          [
           700.0
          ],
          [
           12300.0
          ],
          [
           700.0
          ],
          [
           22000.0
          ],
          [
           5800.0
          ],
          [
           27400.0
          ],
          [
           27600.0
          ],
          [
           8300.0
          ],
          [
           17500.0
          ],
          [
           5500.0
          ],
          [
           1700.0
          ],
          [
           600.0
          ],
          [
           2500.0
          ],
          [
           27600.0
          ],
          [
           2200.0
          ],
          [
           17500.0
          ],
          [
           20000.0
          ],
          [
           20000.0
          ],
          [
           5000.0
          ],
          [
           8000.0
          ],
          [
           21000.0
          ],
          [
           4100.0
          ],
          [
           20000.0
          ],
          [
           2100.0
          ],
          [
           800.0
          ],
          [
           4000.0
          ],
          [
           1600.0
          ],
          [
           2600.0
          ],
          [
           28800.0
          ],
          [
           13900.0
          ],
          [
           30900.0
          ],
          [
           2900.0
          ],
          [
           3200.0
          ],
          [
           7000.0
          ],
          [
           1500.0
          ],
          [
           29600.0
          ],
          [
           21000.0
          ],
          [
           19800.0
          ],
          [
           26700.0
          ],
          [
           3900.0
          ],
          [
           28200.0
          ],
          [
           24800.0
          ],
          [
           4300.0
          ],
          [
           6300.0
          ],
          [
           1000.0
          ],
          [
           800.0
          ],
          [
           1300.0
          ],
          [
           17800.0
          ],
          [
           19000.0
          ],
          [
           1600.0
          ],
          [
           1700.0
          ],
          [
           10200.0
          ],
          [
           4800.0
          ],
          [
           3000.0
          ],
          [
           1000.0
          ],
          [
           6400.0
          ],
          [
           25000.0
          ],
          [
           11400.0
          ],
          [
           55100.0
          ],
          [
           19400.0
          ],
          [
           6700.0
          ],
          [
           800.0
          ],
          [
           600.0
          ],
          [
           9000.0
          ],
          [
           3900.0
          ],
          [
           900.0
          ],
          [
           17700.0
          ],
          [
           1600.0
          ],
          [
           14400.0
          ],
          [
           1800.0
          ],
          [
           11400.0
          ],
          [
           2600.0
          ],
          [
           9000.0
          ],
          [
           2000.0
          ],
          [
           1800.0
          ],
          [
           27000.0
          ],
          [
           1800.0
          ],
          [
           3400.0
          ],
          [
           4000.0
          ],
          [
           1200.0
          ],
          [
           12500.0
          ],
          [
           7200.0
          ],
          [
           5000.0
          ],
          [
           1400.0
          ],
          [
           28600.0
          ],
          [
           11400.0
          ],
          [
           15000.0
          ],
          [
           21600.0
          ],
          [
           2300.0
          ],
          [
           800.0
          ],
          [
           900.0
          ],
          [
           37800.0
          ],
          [
           13100.0
          ],
          [
           2100.0
          ],
          [
           9000.0
          ],
          [
           6300.0
          ],
          [
           2200.0
          ],
          [
           4700.0
          ],
          [
           5100.0
          ],
          [
           4600.0
          ],
          [
           11100.0
          ],
          [
           18000.0
          ],
          [
           16800.0
          ],
          [
           21500.0
          ],
          [
           5800.0
          ],
          [
           7000.0
          ],
          [
           8900.0
          ],
          [
           1300.0
          ],
          [
           2500.0
          ],
          [
           8800.0
          ],
          [
           5400.0
          ],
          [
           2900.0
          ],
          [
           5600.0
          ],
          [
           34600.0
          ],
          [
           1200.0
          ],
          [
           11800.0
          ],
          [
           1600.0
          ],
          [
           2200.0
          ],
          [
           7800.0
          ],
          [
           500.0
          ],
          [
           23700.0
          ],
          [
           13300.0
          ],
          [
           19000.0
          ],
          [
           1700.0
          ],
          [
           500.0
          ],
          [
           10700.0
          ],
          [
           22000.0
          ],
          [
           3700.0
          ],
          [
           6900.0
          ],
          [
           1900.0
          ],
          [
           4000.0
          ],
          [
           4900.0
          ],
          [
           26800.0
          ],
          [
           32700.0
          ],
          [
           3300.0
          ],
          [
           23400.0
          ],
          [
           1000.0
          ],
          [
           600.0
          ],
          [
           7400.0
          ],
          [
           1500.0
          ],
          [
           2200.0
          ],
          [
           9500.0
          ],
          [
           6900.0
          ],
          [
           6700.0
          ],
          [
           5800.0
          ],
          [
           9600.0
          ],
          [
           1100.0
          ],
          [
           1400.0
          ],
          [
           5400.0
          ],
          [
           23200.0
          ],
          [
           27700.0
          ],
          [
           37800.0
          ],
          [
           12800.0
          ],
          [
           1700.0
          ],
          [
           2900.0
          ],
          [
           4800.0
          ],
          [
           2500.0
          ],
          [
           17200.0
          ],
          [
           3700.0
          ],
          [
           800.0
          ],
          [
           null
          ],
          [
           800.0
          ],
          [
           800.0
          ],
          [
           1900.0
          ],
          [
           5039.349432565976
          ],
          [
           11185.972461417397
          ],
          [
           6538.318590698449
          ],
          [
           9803.698182434104
          ],
          [
           7273.077976067759
          ],
          [
           6539.852565134122
          ],
          [
           null
          ],
          [
           36997.61110293721
          ],
          [
           21436.496608591504
          ],
          [
           1725.5092750958386
          ],
          [
           26864.002957127734
          ]
         ],
         "domain": {
          "x": [
           0.0,
           1.0
          ],
          "y": [
           0.0,
           1.0
          ]
         },
         "hovertemplate": "labels=%{label}<br>Population=%{value}<br>parent=%{parent}<br>id=%{id}<br>GDP ($ per capita)=%{color}<extra></extra>",
         "ids": [
          "ASIA (EX. NEAR EAST)         /Afghanistan ",
          "EASTERN EUROPE                     /Albania ",
          "NORTHERN AFRICA                    /Algeria ",
          "OCEANIA                            /American Samoa ",
          "WESTERN EUROPE                     /Andorra ",
          "SUB-SAHARAN AFRICA                 /Angola ",
          "LATIN AMER. & CARIB    /Anguilla ",
          "LATIN AMER. & CARIB    /Antigua & Barbuda ",
          "LATIN AMER. & CARIB    /Argentina ",
          "C.W. OF IND. STATES /Armenia ",
          "LATIN AMER. & CARIB    /Aruba ",
          "OCEANIA                            /Australia ",
          "WESTERN EUROPE                     /Austria ",
          "C.W. OF IND. STATES /Azerbaijan ",
          "LATIN AMER. & CARIB    /Bahamas, The ",
          "NEAR EAST                          /Bahrain ",
          "ASIA (EX. NEAR EAST)         /Bangladesh ",
          "LATIN AMER. & CARIB    /Barbados ",
          "C.W. OF IND. STATES /Belarus ",
          "WESTERN EUROPE                     /Belgium ",
          "LATIN AMER. & CARIB    /Belize ",
          "SUB-SAHARAN AFRICA                 /Benin ",
          "NORTHERN AMERICA                   /Bermuda ",
          "ASIA (EX. NEAR EAST)         /Bhutan ",
          "LATIN AMER. & CARIB    /Bolivia ",
          "EASTERN EUROPE                     /Bosnia & Herzegovina ",
          "SUB-SAHARAN AFRICA                 /Botswana ",
          "LATIN AMER. & CARIB    /Brazil ",
          "LATIN AMER. & CARIB    /British Virgin Is. ",
          "ASIA (EX. NEAR EAST)         /Brunei ",
          "EASTERN EUROPE                     /Bulgaria ",
          "SUB-SAHARAN AFRICA                 /Burkina Faso ",
          "ASIA (EX. NEAR EAST)         /Burma ",
          "SUB-SAHARAN AFRICA                 /Burundi ",
          "ASIA (EX. NEAR EAST)         /Cambodia ",
          "SUB-SAHARAN AFRICA                 /Cameroon ",
          "NORTHERN AMERICA                   /Canada ",
          "SUB-SAHARAN AFRICA                 /Cape Verde ",
          "LATIN AMER. & CARIB    /Cayman Islands ",
          "SUB-SAHARAN AFRICA                 /Central African Rep. ",
          "SUB-SAHARAN AFRICA                 /Chad ",
          "LATIN AMER. & CARIB    /Chile ",
          "ASIA (EX. NEAR EAST)         /China ",
          "LATIN AMER. & CARIB    /Colombia ",
          "SUB-SAHARAN AFRICA                 /Comoros ",
          "SUB-SAHARAN AFRICA                 /Congo, Dem. Rep. ",
          "SUB-SAHARAN AFRICA                 /Congo, Repub. of the ",
          "OCEANIA                            /Cook Islands ",
          "LATIN AMER. & CARIB    /Costa Rica ",
          "SUB-SAHARAN AFRICA                 /Cote d'Ivoire ",
          "EASTERN EUROPE                     /Croatia ",
          "LATIN AMER. & CARIB    /Cuba ",
          "NEAR EAST                          /Cyprus ",
          "EASTERN EUROPE                     /Czech Republic ",
          "WESTERN EUROPE                     /Denmark ",
          "SUB-SAHARAN AFRICA                 /Djibouti ",
          "LATIN AMER. & CARIB    /Dominica ",
          "LATIN AMER. & CARIB    /Dominican Republic ",
          "ASIA (EX. NEAR EAST)         /East Timor ",
          "LATIN AMER. & CARIB    /Ecuador ",
          "NORTHERN AFRICA                    /Egypt ",
          "LATIN AMER. & CARIB    /El Salvador ",
          "SUB-SAHARAN AFRICA                 /Equatorial Guinea ",
          "SUB-SAHARAN AFRICA                 /Eritrea ",
          "BALTICS                            /Estonia ",
          "SUB-SAHARAN AFRICA                 /Ethiopia ",
          "WESTERN EUROPE                     /Faroe Islands ",
          "OCEANIA                            /Fiji ",
          "WESTERN EUROPE                     /Finland ",
          "WESTERN EUROPE                     /France ",
          "LATIN AMER. & CARIB    /French Guiana ",
          "OCEANIA                            /French Polynesia ",
          "SUB-SAHARAN AFRICA                 /Gabon ",
          "SUB-SAHARAN AFRICA                 /Gambia, The ",
          "NEAR EAST                          /Gaza Strip ",
          "C.W. OF IND. STATES /Georgia ",
          "WESTERN EUROPE                     /Germany ",
          "SUB-SAHARAN AFRICA                 /Ghana ",
          "WESTERN EUROPE                     /Gibraltar ",
          "WESTERN EUROPE                     /Greece ",
          "NORTHERN AMERICA                   /Greenland ",
          "LATIN AMER. & CARIB    /Grenada ",
          "LATIN AMER. & CARIB    /Guadeloupe ",
          "OCEANIA                            /Guam ",
          "LATIN AMER. & CARIB    /Guatemala ",
          "WESTERN EUROPE                     /Guernsey ",
          "SUB-SAHARAN AFRICA                 /Guinea ",
          "SUB-SAHARAN AFRICA                 /Guinea-Bissau ",
          "LATIN AMER. & CARIB    /Guyana ",
          "LATIN AMER. & CARIB    /Haiti ",
          "LATIN AMER. & CARIB    /Honduras ",
          "ASIA (EX. NEAR EAST)         /Hong Kong ",
          "EASTERN EUROPE                     /Hungary ",
          "WESTERN EUROPE                     /Iceland ",
          "ASIA (EX. NEAR EAST)         /India ",
          "ASIA (EX. NEAR EAST)         /Indonesia ",
          "ASIA (EX. NEAR EAST)         /Iran ",
          "NEAR EAST                          /Iraq ",
          "WESTERN EUROPE                     /Ireland ",
          "WESTERN EUROPE                     /Isle of Man ",
          "NEAR EAST                          /Israel ",
          "WESTERN EUROPE                     /Italy ",
          "LATIN AMER. & CARIB    /Jamaica ",
          "ASIA (EX. NEAR EAST)         /Japan ",
          "WESTERN EUROPE                     /Jersey ",
          "NEAR EAST                          /Jordan ",
          "C.W. OF IND. STATES /Kazakhstan ",
          "SUB-SAHARAN AFRICA                 /Kenya ",
          "OCEANIA                            /Kiribati ",
          "ASIA (EX. NEAR EAST)         /Korea, North ",
          "ASIA (EX. NEAR EAST)         /Korea, South ",
          "NEAR EAST                          /Kuwait ",
          "C.W. OF IND. STATES /Kyrgyzstan ",
          "ASIA (EX. NEAR EAST)         /Laos ",
          "BALTICS                            /Latvia ",
          "NEAR EAST                          /Lebanon ",
          "SUB-SAHARAN AFRICA                 /Lesotho ",
          "SUB-SAHARAN AFRICA                 /Liberia ",
          "NORTHERN AFRICA                    /Libya ",
          "WESTERN EUROPE                     /Liechtenstein ",
          "BALTICS                            /Lithuania ",
          "WESTERN EUROPE                     /Luxembourg ",
          "ASIA (EX. NEAR EAST)         /Macau ",
          "EASTERN EUROPE                     /Macedonia ",
          "SUB-SAHARAN AFRICA                 /Madagascar ",
          "SUB-SAHARAN AFRICA                 /Malawi ",
          "ASIA (EX. NEAR EAST)         /Malaysia ",
          "ASIA (EX. NEAR EAST)         /Maldives ",
          "SUB-SAHARAN AFRICA                 /Mali ",
          "WESTERN EUROPE                     /Malta ",
          "OCEANIA                            /Marshall Islands ",
          "LATIN AMER. & CARIB    /Martinique ",
          "SUB-SAHARAN AFRICA                 /Mauritania ",
          "SUB-SAHARAN AFRICA                 /Mauritius ",
          "SUB-SAHARAN AFRICA                 /Mayotte ",
          "LATIN AMER. & CARIB    /Mexico ",
          "OCEANIA                            /Micronesia, Fed. St. ",
          "C.W. OF IND. STATES /Moldova ",
          "WESTERN EUROPE                     /Monaco ",
          "ASIA (EX. NEAR EAST)         /Mongolia ",
          "LATIN AMER. & CARIB    /Montserrat ",
          "NORTHERN AFRICA                    /Morocco ",
          "SUB-SAHARAN AFRICA                 /Mozambique ",
          "OCEANIA                            /N. Mariana Islands ",
          "SUB-SAHARAN AFRICA                 /Namibia ",
          "OCEANIA                            /Nauru ",
          "ASIA (EX. NEAR EAST)         /Nepal ",
          "WESTERN EUROPE                     /Netherlands ",
          "LATIN AMER. & CARIB    /Netherlands Antilles ",
          "OCEANIA                            /New Caledonia ",
          "OCEANIA                            /New Zealand ",
          "LATIN AMER. & CARIB    /Nicaragua ",
          "SUB-SAHARAN AFRICA                 /Niger ",
          "SUB-SAHARAN AFRICA                 /Nigeria ",
          "WESTERN EUROPE                     /Norway ",
          "NEAR EAST                          /Oman ",
          "ASIA (EX. NEAR EAST)         /Pakistan ",
          "OCEANIA                            /Palau ",
          "LATIN AMER. & CARIB    /Panama ",
          "OCEANIA                            /Papua New Guinea ",
          "LATIN AMER. & CARIB    /Paraguay ",
          "LATIN AMER. & CARIB    /Peru ",
          "ASIA (EX. NEAR EAST)         /Philippines ",
          "EASTERN EUROPE                     /Poland ",
          "WESTERN EUROPE                     /Portugal ",
          "LATIN AMER. & CARIB    /Puerto Rico ",
          "NEAR EAST                          /Qatar ",
          "SUB-SAHARAN AFRICA                 /Reunion ",
          "EASTERN EUROPE                     /Romania ",
          "C.W. OF IND. STATES /Russia ",
          "SUB-SAHARAN AFRICA                 /Rwanda ",
          "SUB-SAHARAN AFRICA                 /Saint Helena ",
          "LATIN AMER. & CARIB    /Saint Kitts & Nevis ",
          "LATIN AMER. & CARIB    /Saint Lucia ",
          "LATIN AMER. & CARIB    /Saint Vincent and the Grenadines ",
          "OCEANIA                            /Samoa ",
          "WESTERN EUROPE                     /San Marino ",
          "SUB-SAHARAN AFRICA                 /Sao Tome & Principe ",
          "NEAR EAST                          /Saudi Arabia ",
          "SUB-SAHARAN AFRICA                 /Senegal ",
          "EASTERN EUROPE                     /Serbia ",
          "SUB-SAHARAN AFRICA                 /Seychelles ",
          "SUB-SAHARAN AFRICA                 /Sierra Leone ",
          "ASIA (EX. NEAR EAST)         /Singapore ",
          "EASTERN EUROPE                     /Slovakia ",
          "EASTERN EUROPE                     /Slovenia ",
          "OCEANIA                            /Solomon Islands ",
          "SUB-SAHARAN AFRICA                 /Somalia ",
          "SUB-SAHARAN AFRICA                 /South Africa ",
          "WESTERN EUROPE                     /Spain ",
          "ASIA (EX. NEAR EAST)         /Sri Lanka ",
          "NORTHERN AMERICA                   /St Pierre & Miquelon ",
          "SUB-SAHARAN AFRICA                 /Sudan ",
          "LATIN AMER. & CARIB    /Suriname ",
          "SUB-SAHARAN AFRICA                 /Swaziland ",
          "WESTERN EUROPE                     /Sweden ",
          "WESTERN EUROPE                     /Switzerland ",
          "NEAR EAST                          /Syria ",
          "ASIA (EX. NEAR EAST)         /Taiwan ",
          "C.W. OF IND. STATES /Tajikistan ",
          "SUB-SAHARAN AFRICA                 /Tanzania ",
          "ASIA (EX. NEAR EAST)         /Thailand ",
          "SUB-SAHARAN AFRICA                 /Togo ",
          "OCEANIA                            /Tonga ",
          "LATIN AMER. & CARIB    /Trinidad & Tobago ",
          "NORTHERN AFRICA                    /Tunisia ",
          "NEAR EAST                          /Turkey ",
          "C.W. OF IND. STATES /Turkmenistan ",
          "LATIN AMER. & CARIB    /Turks & Caicos Is ",
          "OCEANIA                            /Tuvalu ",
          "SUB-SAHARAN AFRICA                 /Uganda ",
          "C.W. OF IND. STATES /Ukraine ",
          "NEAR EAST                          /United Arab Emirates ",
          "WESTERN EUROPE                     /United Kingdom ",
          "NORTHERN AMERICA                   /United States ",
          "LATIN AMER. & CARIB    /Uruguay ",
          "C.W. OF IND. STATES /Uzbekistan ",
          "OCEANIA                            /Vanuatu ",
          "LATIN AMER. & CARIB    /Venezuela ",
          "ASIA (EX. NEAR EAST)         /Vietnam ",
          "LATIN AMER. & CARIB    /Virgin Islands ",
          "OCEANIA                            /Wallis and Futuna ",
          "NEAR EAST                          /West Bank ",
          "NORTHERN AFRICA                    /Western Sahara ",
          "NEAR EAST                          /Yemen ",
          "SUB-SAHARAN AFRICA                 /Zambia ",
          "SUB-SAHARAN AFRICA                 /Zimbabwe ",
          "ASIA (EX. NEAR EAST)         ",
          "BALTICS                            ",
          "C.W. OF IND. STATES ",
          "EASTERN EUROPE                     ",
          "LATIN AMER. & CARIB    ",
          "NEAR EAST                          ",
          "NORTHERN AFRICA                    ",
          "NORTHERN AMERICA                   ",
          "OCEANIA                            ",
          "SUB-SAHARAN AFRICA                 ",
          "WESTERN EUROPE                     "
         ],
         "labels": [
          "Afghanistan ",
          "Albania ",
          "Algeria ",
          "American Samoa ",
          "Andorra ",
          "Angola ",
          "Anguilla ",
          "Antigua & Barbuda ",
          "Argentina ",
          "Armenia ",
          "Aruba ",
          "Australia ",
          "Austria ",
          "Azerbaijan ",
          "Bahamas, The ",
          "Bahrain ",
          "Bangladesh ",
          "Barbados ",
          "Belarus ",
          "Belgium ",
          "Belize ",
          "Benin ",
          "Bermuda ",
          "Bhutan ",
          "Bolivia ",
          "Bosnia & Herzegovina ",
          "Botswana ",
          "Brazil ",
          "British Virgin Is. ",
          "Brunei ",
          "Bulgaria ",
          "Burkina Faso ",
          "Burma ",
          "Burundi ",
          "Cambodia ",
          "Cameroon ",
          "Canada ",
          "Cape Verde ",
          "Cayman Islands ",
          "Central African Rep. ",
          "Chad ",
          "Chile ",
          "China ",
          "Colombia ",
          "Comoros ",
          "Congo, Dem. Rep. ",
          "Congo, Repub. of the ",
          "Cook Islands ",
          "Costa Rica ",
          "Cote d'Ivoire ",
          "Croatia ",
          "Cuba ",
          "Cyprus ",
          "Czech Republic ",
          "Denmark ",
          "Djibouti ",
          "Dominica ",
          "Dominican Republic ",
          "East Timor ",
          "Ecuador ",
          "Egypt ",
          "El Salvador ",
          "Equatorial Guinea ",
          "Eritrea ",
          "Estonia ",
          "Ethiopia ",
          "Faroe Islands ",
          "Fiji ",
          "Finland ",
          "France ",
          "French Guiana ",
          "French Polynesia ",
          "Gabon ",
          "Gambia, The ",
          "Gaza Strip ",
          "Georgia ",
          "Germany ",
          "Ghana ",
          "Gibraltar ",
          "Greece ",
          "Greenland ",
          "Grenada ",
          "Guadeloupe ",
          "Guam ",
          "Guatemala ",
          "Guernsey ",
          "Guinea ",
          "Guinea-Bissau ",
          "Guyana ",
          "Haiti ",
          "Honduras ",
          "Hong Kong ",
          "Hungary ",
          "Iceland ",
          "India ",
          "Indonesia ",
          "Iran ",
          "Iraq ",
          "Ireland ",
          "Isle of Man ",
          "Israel ",
          "Italy ",
          "Jamaica ",
          "Japan ",
          "Jersey ",
          "Jordan ",
          "Kazakhstan ",
          "Kenya ",
          "Kiribati ",
          "Korea, North ",
          "Korea, South ",
          "Kuwait ",
          "Kyrgyzstan ",
          "Laos ",
          "Latvia ",
          "Lebanon ",
          "Lesotho ",
          "Liberia ",
          "Libya ",
          "Liechtenstein ",
          "Lithuania ",
          "Luxembourg ",
          "Macau ",
          "Macedonia ",
          "Madagascar ",
          "Malawi ",
          "Malaysia ",
          "Maldives ",
          "Mali ",
          "Malta ",
          "Marshall Islands ",
          "Martinique ",
          "Mauritania ",
          "Mauritius ",
          "Mayotte ",
          "Mexico ",
          "Micronesia, Fed. St. ",
          "Moldova ",
          "Monaco ",
          "Mongolia ",
          "Montserrat ",
          "Morocco ",
          "Mozambique ",
          "N. Mariana Islands ",
          "Namibia ",
          "Nauru ",
          "Nepal ",
          "Netherlands ",
          "Netherlands Antilles ",
          "New Caledonia ",
          "New Zealand ",
          "Nicaragua ",
          "Niger ",
          "Nigeria ",
          "Norway ",
          "Oman ",
          "Pakistan ",
          "Palau ",
          "Panama ",
          "Papua New Guinea ",
          "Paraguay ",
          "Peru ",
          "Philippines ",
          "Poland ",
          "Portugal ",
          "Puerto Rico ",
          "Qatar ",
          "Reunion ",
          "Romania ",
          "Russia ",
          "Rwanda ",
          "Saint Helena ",
          "Saint Kitts & Nevis ",
          "Saint Lucia ",
          "Saint Vincent and the Grenadines ",
          "Samoa ",
          "San Marino ",
          "Sao Tome & Principe ",
          "Saudi Arabia ",
          "Senegal ",
          "Serbia ",
          "Seychelles ",
          "Sierra Leone ",
          "Singapore ",
          "Slovakia ",
          "Slovenia ",
          "Solomon Islands ",
          "Somalia ",
          "South Africa ",
          "Spain ",
          "Sri Lanka ",
          "St Pierre & Miquelon ",
          "Sudan ",
          "Suriname ",
          "Swaziland ",
          "Sweden ",
          "Switzerland ",
          "Syria ",
          "Taiwan ",
          "Tajikistan ",
          "Tanzania ",
          "Thailand ",
          "Togo ",
          "Tonga ",
          "Trinidad & Tobago ",
          "Tunisia ",
          "Turkey ",
          "Turkmenistan ",
          "Turks & Caicos Is ",
          "Tuvalu ",
          "Uganda ",
          "Ukraine ",
          "United Arab Emirates ",
          "United Kingdom ",
          "United States ",
          "Uruguay ",
          "Uzbekistan ",
          "Vanuatu ",
          "Venezuela ",
          "Vietnam ",
          "Virgin Islands ",
          "Wallis and Futuna ",
          "West Bank ",
          "Western Sahara ",
          "Yemen ",
          "Zambia ",
          "Zimbabwe ",
          "ASIA (EX. NEAR EAST)         ",
          "BALTICS                            ",
          "C.W. OF IND. STATES ",
          "EASTERN EUROPE                     ",
          "LATIN AMER. & CARIB    ",
          "NEAR EAST                          ",
          "NORTHERN AFRICA                    ",
          "NORTHERN AMERICA                   ",
          "OCEANIA                            ",
          "SUB-SAHARAN AFRICA                 ",
          "WESTERN EUROPE                     "
         ],
         "marker": {
          "coloraxis": "coloraxis",
          "colors": [
           700.0,
           4500.0,
           6000.0,
           8000.0,
           19000.0,
           1900.0,
           8600.0,
           11000.0,
           11200.0,
           3500.0,
           28000.0,
           29000.0,
           30000.0,
           3400.0,
           16700.0,
           16900.0,
           1900.0,
           15700.0,
           6100.0,
           29100.0,
           4900.0,
           1100.0,
           36000.0,
           1300.0,
           2400.0,
           6100.0,
           9000.0,
           7600.0,
           16000.0,
           18600.0,
           7600.0,
           1100.0,
           1800.0,
           600.0,
           1900.0,
           1800.0,
           29800.0,
           1400.0,
           35000.0,
           1100.0,
           1200.0,
           9900.0,
           5000.0,
           6300.0,
           700.0,
           700.0,
           700.0,
           5000.0,
           9100.0,
           1400.0,
           10600.0,
           2900.0,
           19200.0,
           15700.0,
           31100.0,
           1300.0,
           5400.0,
           6000.0,
           500.0,
           3300.0,
           4000.0,
           4800.0,
           2700.0,
           700.0,
           12300.0,
           700.0,
           22000.0,
           5800.0,
           27400.0,
           27600.0,
           8300.0,
           17500.0,
           5500.0,
           1700.0,
           600.0,
           2500.0,
           27600.0,
           2200.0,
           17500.0,
           20000.0,
           20000.0,
           5000.0,
           8000.0,
           21000.0,
           4100.0,
           20000.0,
           2100.0,
           800.0,
           4000.0,
           1600.0,
           2600.0,
           28800.0,
           13900.0,
           30900.0,
           2900.0,
           3200.0,
           7000.0,
           1500.0,
           29600.0,
           21000.0,
           19800.0,
           26700.0,
           3900.0,
           28200.0,
           24800.0,
           4300.0,
           6300.0,
           1000.0,
           800.0,
           1300.0,
           17800.0,
           19000.0,
           1600.0,
           1700.0,
           10200.0,
           4800.0,
           3000.0,
           1000.0,
           6400.0,
           25000.0,
           11400.0,
           55100.0,
           19400.0,
           6700.0,
           800.0,
           600.0,
           9000.0,
           3900.0,
           900.0,
           17700.0,
           1600.0,
           14400.0,
           1800.0,
           11400.0,
           2600.0,
           9000.0,
           2000.0,
           1800.0,
           27000.0,
           1800.0,
           3400.0,
           4000.0,
           1200.0,
           12500.0,
           7200.0,
           5000.0,
           1400.0,
           28600.0,
           11400.0,
           15000.0,
           21600.0,
           2300.0,
           800.0,
           900.0,
           37800.0,
           13100.0,
           2100.0,
           9000.0,
           6300.0,
           2200.0,
           4700.0,
           5100.0,
           4600.0,
           11100.0,
           18000.0,
           16800.0,
           21500.0,
           5800.0,
           7000.0,
           8900.0,
           1300.0,
           2500.0,
           8800.0,
           5400.0,
           2900.0,
           5600.0,
           34600.0,
           1200.0,
           11800.0,
           1600.0,
           2200.0,
           7800.0,
           500.0,
           23700.0,
           13300.0,
           19000.0,
           1700.0,
           500.0,
           10700.0,
           22000.0,
           3700.0,
           6900.0,
           1900.0,
           4000.0,
           4900.0,
           26800.0,
           32700.0,
           3300.0,
           23400.0,
           1000.0,
           600.0,
           7400.0,
           1500.0,
           2200.0,
           9500.0,
           6900.0,
           6700.0,
           5800.0,
           9600.0,
           1100.0,
           1400.0,
           5400.0,
           23200.0,
           27700.0,
           37800.0,
           12800.0,
           1700.0,
           2900.0,
           4800.0,
           2500.0,
           17200.0,
           3700.0,
           800.0,
           null,
           800.0,
           800.0,
           1900.0,
           5039.349432565976,
           11185.972461417397,
           6538.318590698449,
           9803.698182434104,
           7273.077976067759,
           6539.852565134122,
           null,
           36997.61110293721,
           21436.496608591504,
           1725.5092750958386,
           26864.002957127734
          ]
         },
         "name": "",
         "parents": [
          "ASIA (EX. NEAR EAST)         ",
          "EASTERN EUROPE                     ",
          "NORTHERN AFRICA                    ",
          "OCEANIA                            ",
          "WESTERN EUROPE                     ",
          "SUB-SAHARAN AFRICA                 ",
          "LATIN AMER. & CARIB    ",
          "LATIN AMER. & CARIB    ",
          "LATIN AMER. & CARIB    ",
          "C.W. OF IND. STATES ",
          "LATIN AMER. & CARIB    ",
          "OCEANIA                            ",
          "WESTERN EUROPE                     ",
          "C.W. OF IND. STATES ",
          "LATIN AMER. & CARIB    ",
          "NEAR EAST                          ",
          "ASIA (EX. NEAR EAST)         ",
          "LATIN AMER. & CARIB    ",
          "C.W. OF IND. STATES ",
          "WESTERN EUROPE                     ",
          "LATIN AMER. & CARIB    ",
          "SUB-SAHARAN AFRICA                 ",
          "NORTHERN AMERICA                   ",
          "ASIA (EX. NEAR EAST)         ",
          "LATIN AMER. & CARIB    ",
          "EASTERN EUROPE                     ",
          "SUB-SAHARAN AFRICA                 ",
          "LATIN AMER. & CARIB    ",
          "LATIN AMER. & CARIB    ",
          "ASIA (EX. NEAR EAST)         ",
          "EASTERN EUROPE                     ",
          "SUB-SAHARAN AFRICA                 ",
          "ASIA (EX. NEAR EAST)         ",
          "SUB-SAHARAN AFRICA                 ",
          "ASIA (EX. NEAR EAST)         ",
          "SUB-SAHARAN AFRICA                 ",
          "NORTHERN AMERICA                   ",
          "SUB-SAHARAN AFRICA                 ",
          "LATIN AMER. & CARIB    ",
          "SUB-SAHARAN AFRICA                 ",
          "SUB-SAHARAN AFRICA                 ",
          "LATIN AMER. & CARIB    ",
          "ASIA (EX. NEAR EAST)         ",
          "LATIN AMER. & CARIB    ",
          "SUB-SAHARAN AFRICA                 ",
          "SUB-SAHARAN AFRICA                 ",
          "SUB-SAHARAN AFRICA                 ",
          "OCEANIA                            ",
          "LATIN AMER. & CARIB    ",
          "SUB-SAHARAN AFRICA                 ",
          "EASTERN EUROPE                     ",
          "LATIN AMER. & CARIB    ",
          "NEAR EAST                          ",
          "EASTERN EUROPE                     ",
          "WESTERN EUROPE                     ",
          "SUB-SAHARAN AFRICA                 ",
          "LATIN AMER. & CARIB    ",
          "LATIN AMER. & CARIB    ",
          "ASIA (EX. NEAR EAST)         ",
          "LATIN AMER. & CARIB    ",
          "NORTHERN AFRICA                    ",
          "LATIN AMER. & CARIB    ",
          "SUB-SAHARAN AFRICA                 ",
          "SUB-SAHARAN AFRICA                 ",
          "BALTICS                            ",
          "SUB-SAHARAN AFRICA                 ",
          "WESTERN EUROPE                     ",
          "OCEANIA                            ",
          "WESTERN EUROPE                     ",
          "WESTERN EUROPE                     ",
          "LATIN AMER. & CARIB    ",
          "OCEANIA                            ",
          "SUB-SAHARAN AFRICA                 ",
          "SUB-SAHARAN AFRICA                 ",
          "NEAR EAST                          ",
          "C.W. OF IND. STATES ",
          "WESTERN EUROPE                     ",
          "SUB-SAHARAN AFRICA                 ",
          "WESTERN EUROPE                     ",
          "WESTERN EUROPE                     ",
          "NORTHERN AMERICA                   ",
          "LATIN AMER. & CARIB    ",
          "LATIN AMER. & CARIB    ",
          "OCEANIA                            ",
          "LATIN AMER. & CARIB    ",
          "WESTERN EUROPE                     ",
          "SUB-SAHARAN AFRICA                 ",
          "SUB-SAHARAN AFRICA                 ",
          "LATIN AMER. & CARIB    ",
          "LATIN AMER. & CARIB    ",
          "LATIN AMER. & CARIB    ",
          "ASIA (EX. NEAR EAST)         ",
          "EASTERN EUROPE                     ",
          "WESTERN EUROPE                     ",
          "ASIA (EX. NEAR EAST)         ",
          "ASIA (EX. NEAR EAST)         ",
          "ASIA (EX. NEAR EAST)         ",
          "NEAR EAST                          ",
          "WESTERN EUROPE                     ",
          "WESTERN EUROPE                     ",
          "NEAR EAST                          ",
          "WESTERN EUROPE                     ",
          "LATIN AMER. & CARIB    ",
          "ASIA (EX. NEAR EAST)         ",
          "WESTERN EUROPE                     ",
          "NEAR EAST                          ",
          "C.W. OF IND. STATES ",
          "SUB-SAHARAN AFRICA                 ",
          "OCEANIA                            ",
          "ASIA (EX. NEAR EAST)         ",
          "ASIA (EX. NEAR EAST)         ",
          "NEAR EAST                          ",
          "C.W. OF IND. STATES ",
          "ASIA (EX. NEAR EAST)         ",
          "BALTICS                            ",
          "NEAR EAST                          ",
          "SUB-SAHARAN AFRICA                 ",
          "SUB-SAHARAN AFRICA                 ",
          "NORTHERN AFRICA                    ",
          "WESTERN EUROPE                     ",
          "BALTICS                            ",
          "WESTERN EUROPE                     ",
          "ASIA (EX. NEAR EAST)         ",
          "EASTERN EUROPE                     ",
          "SUB-SAHARAN AFRICA                 ",
          "SUB-SAHARAN AFRICA                 ",
          "ASIA (EX. NEAR EAST)         ",
          "ASIA (EX. NEAR EAST)         ",
          "SUB-SAHARAN AFRICA                 ",
          "WESTERN EUROPE                     ",
          "OCEANIA                            ",
          "LATIN AMER. & CARIB    ",
          "SUB-SAHARAN AFRICA                 ",
          "SUB-SAHARAN AFRICA                 ",
          "SUB-SAHARAN AFRICA                 ",
          "LATIN AMER. & CARIB    ",
          "OCEANIA                            ",
          "C.W. OF IND. STATES ",
          "WESTERN EUROPE                     ",
          "ASIA (EX. NEAR EAST)         ",
          "LATIN AMER. & CARIB    ",
          "NORTHERN AFRICA                    ",
          "SUB-SAHARAN AFRICA                 ",
          "OCEANIA                            ",
          "SUB-SAHARAN AFRICA                 ",
          "OCEANIA                            ",
          "ASIA (EX. NEAR EAST)         ",
          "WESTERN EUROPE                     ",
          "LATIN AMER. & CARIB    ",
          "OCEANIA                            ",
          "OCEANIA                            ",
          "LATIN AMER. & CARIB    ",
          "SUB-SAHARAN AFRICA                 ",
          "SUB-SAHARAN AFRICA                 ",
          "WESTERN EUROPE                     ",
          "NEAR EAST                          ",
          "ASIA (EX. NEAR EAST)         ",
          "OCEANIA                            ",
          "LATIN AMER. & CARIB    ",
          "OCEANIA                            ",
          "LATIN AMER. & CARIB    ",
          "LATIN AMER. & CARIB    ",
          "ASIA (EX. NEAR EAST)         ",
          "EASTERN EUROPE                     ",
          "WESTERN EUROPE                     ",
          "LATIN AMER. & CARIB    ",
          "NEAR EAST                          ",
          "SUB-SAHARAN AFRICA                 ",
          "EASTERN EUROPE                     ",
          "C.W. OF IND. STATES ",
          "SUB-SAHARAN AFRICA                 ",
          "SUB-SAHARAN AFRICA                 ",
          "LATIN AMER. & CARIB    ",
          "LATIN AMER. & CARIB    ",
          "LATIN AMER. & CARIB    ",
          "OCEANIA                            ",
          "WESTERN EUROPE                     ",
          "SUB-SAHARAN AFRICA                 ",
          "NEAR EAST                          ",
          "SUB-SAHARAN AFRICA                 ",
          "EASTERN EUROPE                     ",
          "SUB-SAHARAN AFRICA                 ",
          "SUB-SAHARAN AFRICA                 ",
          "ASIA (EX. NEAR EAST)         ",
          "EASTERN EUROPE                     ",
          "EASTERN EUROPE                     ",
          "OCEANIA                            ",
          "SUB-SAHARAN AFRICA                 ",
          "SUB-SAHARAN AFRICA                 ",
          "WESTERN EUROPE                     ",
          "ASIA (EX. NEAR EAST)         ",
          "NORTHERN AMERICA                   ",
          "SUB-SAHARAN AFRICA                 ",
          "LATIN AMER. & CARIB    ",
          "SUB-SAHARAN AFRICA                 ",
          "WESTERN EUROPE                     ",
          "WESTERN EUROPE                     ",
          "NEAR EAST                          ",
          "ASIA (EX. NEAR EAST)         ",
          "C.W. OF IND. STATES ",
          "SUB-SAHARAN AFRICA                 ",
          "ASIA (EX. NEAR EAST)         ",
          "SUB-SAHARAN AFRICA                 ",
          "OCEANIA                            ",
          "LATIN AMER. & CARIB    ",
          "NORTHERN AFRICA                    ",
          "NEAR EAST                          ",
          "C.W. OF IND. STATES ",
          "LATIN AMER. & CARIB    ",
          "OCEANIA                            ",
          "SUB-SAHARAN AFRICA                 ",
          "C.W. OF IND. STATES ",
          "NEAR EAST                          ",
          "WESTERN EUROPE                     ",
          "NORTHERN AMERICA                   ",
          "LATIN AMER. & CARIB    ",
          "C.W. OF IND. STATES ",
          "OCEANIA                            ",
          "LATIN AMER. & CARIB    ",
          "ASIA (EX. NEAR EAST)         ",
          "LATIN AMER. & CARIB    ",
          "OCEANIA                            ",
          "NEAR EAST                          ",
          "NORTHERN AFRICA                    ",
          "NEAR EAST                          ",
          "SUB-SAHARAN AFRICA                 ",
          "SUB-SAHARAN AFRICA                 ",
          "",
          "",
          "",
          "",
          "",
          "",
          "",
          "",
          "",
          "",
          ""
         ],
         "values": [
          31056997,
          3581655,
          32930091,
          57794,
          71201,
          12127071,
          13477,
          69108,
          39921833,
          2976372,
          71891,
          20264082,
          8192880,
          7961619,
          303770,
          698585,
          147365352,
          279912,
          10293011,
          10379067,
          287730,
          7862944,
          65773,
          2279723,
          8989046,
          4498976,
          1639833,
          188078227,
          23098,
          379444,
          7385367,
          13902972,
          47382633,
          8090068,
          13881427,
          17340702,
          33098932,
          420979,
          45436,
          4303356,
          9944201,
          16134219,
          1313973713,
          43593035,
          690948,
          62660551,
          3702314,
          21388,
          4075261,
          17654843,
          4494749,
          11382820,
          784301,
          10235455,
          5450661,
          486530,
          68910,
          9183984,
          1062777,
          13547510,
          78887007,
          6822378,
          540109,
          4786994,
          1324333,
          74777981,
          47246,
          905949,
          5231372,
          60876136,
          199509,
          274578,
          1424906,
          1641564,
          1428757,
          4661473,
          82422299,
          22409572,
          27928,
          10688058,
          56361,
          89703,
          452776,
          171019,
          12293545,
          65409,
          9690222,
          1442029,
          767245,
          8308504,
          7326496,
          6940432,
          9981334,
          299388,
          1095351995,
          245452739,
          68688433,
          26783383,
          4062235,
          75441,
          6352117,
          58133509,
          2758124,
          127463611,
          91084,
          5906760,
          15233244,
          34707817,
          105432,
          23113019,
          48846823,
          2418393,
          5213898,
          6368481,
          2274735,
          3874050,
          2022331,
          3042004,
          5900754,
          33987,
          3585906,
          474413,
          453125,
          2050554,
          18595469,
          13013926,
          24385858,
          359008,
          11716829,
          400214,
          60422,
          436131,
          3177388,
          1240827,
          201234,
          107449525,
          108004,
          4466706,
          32543,
          2832224,
          9439,
          33241259,
          19686505,
          82459,
          2044147,
          13287,
          28287147,
          16491461,
          221736,
          219246,
          4076140,
          5570129,
          12525094,
          131859731,
          4610820,
          3102229,
          165803560,
          20579,
          3191319,
          5670544,
          6506464,
          28302603,
          89468677,
          38536869,
          10605870,
          3927188,
          885359,
          787584,
          22303552,
          142893540,
          8648248,
          7502,
          39129,
          168458,
          117848,
          176908,
          29251,
          193413,
          27019731,
          11987121,
          9396411,
          81541,
          6005250,
          4492150,
          5439448,
          2010347,
          552438,
          8863338,
          44187637,
          40397842,
          20222240,
          7026,
          41236378,
          439117,
          1136334,
          9016596,
          7523934,
          18881361,
          23036087,
          7320815,
          37445392,
          64631595,
          5548702,
          114689,
          1065842,
          10175014,
          70413958,
          5042920,
          21152,
          11810,
          28195754,
          46710816,
          2602713,
          60609153,
          298444215,
          3431932,
          27307134,
          208869,
          25730435,
          84402966,
          108605,
          16025,
          2460492,
          273008,
          21456188,
          11502010,
          12236805,
          3687982236,
          7184974,
          280081548,
          119914717,
          561824599,
          195068377,
          161407133,
          331672307,
          33131662,
          749437000,
          396339998
         ],
         "type": "treemap"
        }
       ],
       "layout": {
        "template": {
         "data": {
          "histogram2dcontour": [
           {
            "type": "histogram2dcontour",
            "colorbar": {
             "outlinewidth": 0,
             "ticks": ""
            },
            "colorscale": [
             [
              0.0,
              "#0d0887"
             ],
             [
              0.1111111111111111,
              "#46039f"
             ],
             [
              0.2222222222222222,
              "#7201a8"
             ],
             [
              0.3333333333333333,
              "#9c179e"
             ],
             [
              0.4444444444444444,
              "#bd3786"
             ],
             [
              0.5555555555555556,
              "#d8576b"
             ],
             [
              0.6666666666666666,
              "#ed7953"
             ],
             [
              0.7777777777777778,
              "#fb9f3a"
             ],
             [
              0.8888888888888888,
              "#fdca26"
             ],
             [
              1.0,
              "#f0f921"
             ]
            ]
           }
          ],
          "choropleth": [
           {
            "type": "choropleth",
            "colorbar": {
             "outlinewidth": 0,
             "ticks": ""
            }
           }
          ],
          "histogram2d": [
           {
            "type": "histogram2d",
            "colorbar": {
             "outlinewidth": 0,
             "ticks": ""
            },
            "colorscale": [
             [
              0.0,
              "#0d0887"
             ],
             [
              0.1111111111111111,
              "#46039f"
             ],
             [
              0.2222222222222222,
              "#7201a8"
             ],
             [
              0.3333333333333333,
              "#9c179e"
             ],
             [
              0.4444444444444444,
              "#bd3786"
             ],
             [
              0.5555555555555556,
              "#d8576b"
             ],
             [
              0.6666666666666666,
              "#ed7953"
             ],
             [
              0.7777777777777778,
              "#fb9f3a"
             ],
             [
              0.8888888888888888,
              "#fdca26"
             ],
             [
              1.0,
              "#f0f921"
             ]
            ]
           }
          ],
          "heatmap": [
           {
            "type": "heatmap",
            "colorbar": {
             "outlinewidth": 0,
             "ticks": ""
            },
            "colorscale": [
             [
              0.0,
              "#0d0887"
             ],
             [
              0.1111111111111111,
              "#46039f"
             ],
             [
              0.2222222222222222,
              "#7201a8"
             ],
             [
              0.3333333333333333,
              "#9c179e"
             ],
             [
              0.4444444444444444,
              "#bd3786"
             ],
             [
              0.5555555555555556,
              "#d8576b"
             ],
             [
              0.6666666666666666,
              "#ed7953"
             ],
             [
              0.7777777777777778,
              "#fb9f3a"
             ],
             [
              0.8888888888888888,
              "#fdca26"
             ],
             [
              1.0,
              "#f0f921"
             ]
            ]
           }
          ],
          "heatmapgl": [
           {
            "type": "heatmapgl",
            "colorbar": {
             "outlinewidth": 0,
             "ticks": ""
            },
            "colorscale": [
             [
              0.0,
              "#0d0887"
             ],
             [
              0.1111111111111111,
              "#46039f"
             ],
             [
              0.2222222222222222,
              "#7201a8"
             ],
             [
              0.3333333333333333,
              "#9c179e"
             ],
             [
              0.4444444444444444,
              "#bd3786"
             ],
             [
              0.5555555555555556,
              "#d8576b"
             ],
             [
              0.6666666666666666,
              "#ed7953"
             ],
             [
              0.7777777777777778,
              "#fb9f3a"
             ],
             [
              0.8888888888888888,
              "#fdca26"
             ],
             [
              1.0,
              "#f0f921"
             ]
            ]
           }
          ],
          "contourcarpet": [
           {
            "type": "contourcarpet",
            "colorbar": {
             "outlinewidth": 0,
             "ticks": ""
            }
           }
          ],
          "contour": [
           {
            "type": "contour",
            "colorbar": {
             "outlinewidth": 0,
             "ticks": ""
            },
            "colorscale": [
             [
              0.0,
              "#0d0887"
             ],
             [
              0.1111111111111111,
              "#46039f"
             ],
             [
              0.2222222222222222,
              "#7201a8"
             ],
             [
              0.3333333333333333,
              "#9c179e"
             ],
             [
              0.4444444444444444,
              "#bd3786"
             ],
             [
              0.5555555555555556,
              "#d8576b"
             ],
             [
              0.6666666666666666,
              "#ed7953"
             ],
             [
              0.7777777777777778,
              "#fb9f3a"
             ],
             [
              0.8888888888888888,
              "#fdca26"
             ],
             [
              1.0,
              "#f0f921"
             ]
            ]
           }
          ],
          "surface": [
           {
            "type": "surface",
            "colorbar": {
             "outlinewidth": 0,
             "ticks": ""
            },
            "colorscale": [
             [
              0.0,
              "#0d0887"
             ],
             [
              0.1111111111111111,
              "#46039f"
             ],
             [
              0.2222222222222222,
              "#7201a8"
             ],
             [
              0.3333333333333333,
              "#9c179e"
             ],
             [
              0.4444444444444444,
              "#bd3786"
             ],
             [
              0.5555555555555556,
              "#d8576b"
             ],
             [
              0.6666666666666666,
              "#ed7953"
             ],
             [
              0.7777777777777778,
              "#fb9f3a"
             ],
             [
              0.8888888888888888,
              "#fdca26"
             ],
             [
              1.0,
              "#f0f921"
             ]
            ]
           }
          ],
          "mesh3d": [
           {
            "type": "mesh3d",
            "colorbar": {
             "outlinewidth": 0,
             "ticks": ""
            }
           }
          ],
          "scatter": [
           {
            "fillpattern": {
             "fillmode": "overlay",
             "size": 10,
             "solidity": 0.2
            },
            "type": "scatter"
           }
          ],
          "parcoords": [
           {
            "type": "parcoords",
            "line": {
             "colorbar": {
              "outlinewidth": 0,
              "ticks": ""
             }
            }
           }
          ],
          "scatterpolargl": [
           {
            "type": "scatterpolargl",
            "marker": {
             "colorbar": {
              "outlinewidth": 0,
              "ticks": ""
             }
            }
           }
          ],
          "bar": [
           {
            "error_x": {
             "color": "#2a3f5f"
            },
            "error_y": {
             "color": "#2a3f5f"
            },
            "marker": {
             "line": {
              "color": "#E5ECF6",
              "width": 0.5
             },
             "pattern": {
              "fillmode": "overlay",
              "size": 10,
              "solidity": 0.2
             }
            },
            "type": "bar"
           }
          ],
          "scattergeo": [
           {
            "type": "scattergeo",
            "marker": {
             "colorbar": {
              "outlinewidth": 0,
              "ticks": ""
             }
            }
           }
          ],
          "scatterpolar": [
           {
            "type": "scatterpolar",
            "marker": {
             "colorbar": {
              "outlinewidth": 0,
              "ticks": ""
             }
            }
           }
          ],
          "histogram": [
           {
            "marker": {
             "pattern": {
              "fillmode": "overlay",
              "size": 10,
              "solidity": 0.2
             }
            },
            "type": "histogram"
           }
          ],
          "scattergl": [
           {
            "type": "scattergl",
            "marker": {
             "colorbar": {
              "outlinewidth": 0,
              "ticks": ""
             }
            }
           }
          ],
          "scatter3d": [
           {
            "type": "scatter3d",
            "line": {
             "colorbar": {
              "outlinewidth": 0,
              "ticks": ""
             }
            },
            "marker": {
             "colorbar": {
              "outlinewidth": 0,
              "ticks": ""
             }
            }
           }
          ],
          "scattermapbox": [
           {
            "type": "scattermapbox",
            "marker": {
             "colorbar": {
              "outlinewidth": 0,
              "ticks": ""
             }
            }
           }
          ],
          "scatterternary": [
           {
            "type": "scatterternary",
            "marker": {
             "colorbar": {
              "outlinewidth": 0,
              "ticks": ""
             }
            }
           }
          ],
          "scattercarpet": [
           {
            "type": "scattercarpet",
            "marker": {
             "colorbar": {
              "outlinewidth": 0,
              "ticks": ""
             }
            }
           }
          ],
          "carpet": [
           {
            "aaxis": {
             "endlinecolor": "#2a3f5f",
             "gridcolor": "white",
             "linecolor": "white",
             "minorgridcolor": "white",
             "startlinecolor": "#2a3f5f"
            },
            "baxis": {
             "endlinecolor": "#2a3f5f",
             "gridcolor": "white",
             "linecolor": "white",
             "minorgridcolor": "white",
             "startlinecolor": "#2a3f5f"
            },
            "type": "carpet"
           }
          ],
          "table": [
           {
            "cells": {
             "fill": {
              "color": "#EBF0F8"
             },
             "line": {
              "color": "white"
             }
            },
            "header": {
             "fill": {
              "color": "#C8D4E3"
             },
             "line": {
              "color": "white"
             }
            },
            "type": "table"
           }
          ],
          "barpolar": [
           {
            "marker": {
             "line": {
              "color": "#E5ECF6",
              "width": 0.5
             },
             "pattern": {
              "fillmode": "overlay",
              "size": 10,
              "solidity": 0.2
             }
            },
            "type": "barpolar"
           }
          ],
          "pie": [
           {
            "automargin": true,
            "type": "pie"
           }
          ]
         },
         "layout": {
          "autotypenumbers": "strict",
          "colorway": [
           "#636efa",
           "#EF553B",
           "#00cc96",
           "#ab63fa",
           "#FFA15A",
           "#19d3f3",
           "#FF6692",
           "#B6E880",
           "#FF97FF",
           "#FECB52"
          ],
          "font": {
           "color": "#2a3f5f"
          },
          "hovermode": "closest",
          "hoverlabel": {
           "align": "left"
          },
          "paper_bgcolor": "white",
          "plot_bgcolor": "#E5ECF6",
          "polar": {
           "bgcolor": "#E5ECF6",
           "angularaxis": {
            "gridcolor": "white",
            "linecolor": "white",
            "ticks": ""
           },
           "radialaxis": {
            "gridcolor": "white",
            "linecolor": "white",
            "ticks": ""
           }
          },
          "ternary": {
           "bgcolor": "#E5ECF6",
           "aaxis": {
            "gridcolor": "white",
            "linecolor": "white",
            "ticks": ""
           },
           "baxis": {
            "gridcolor": "white",
            "linecolor": "white",
            "ticks": ""
           },
           "caxis": {
            "gridcolor": "white",
            "linecolor": "white",
            "ticks": ""
           }
          },
          "coloraxis": {
           "colorbar": {
            "outlinewidth": 0,
            "ticks": ""
           }
          },
          "colorscale": {
           "sequential": [
            [
             0.0,
             "#0d0887"
            ],
            [
             0.1111111111111111,
             "#46039f"
            ],
            [
             0.2222222222222222,
             "#7201a8"
            ],
            [
             0.3333333333333333,
             "#9c179e"
            ],
            [
             0.4444444444444444,
             "#bd3786"
            ],
            [
             0.5555555555555556,
             "#d8576b"
            ],
            [
             0.6666666666666666,
             "#ed7953"
            ],
            [
             0.7777777777777778,
             "#fb9f3a"
            ],
            [
             0.8888888888888888,
             "#fdca26"
            ],
            [
             1.0,
             "#f0f921"
            ]
           ],
           "sequentialminus": [
            [
             0.0,
             "#0d0887"
            ],
            [
             0.1111111111111111,
             "#46039f"
            ],
            [
             0.2222222222222222,
             "#7201a8"
            ],
            [
             0.3333333333333333,
             "#9c179e"
            ],
            [
             0.4444444444444444,
             "#bd3786"
            ],
            [
             0.5555555555555556,
             "#d8576b"
            ],
            [
             0.6666666666666666,
             "#ed7953"
            ],
            [
             0.7777777777777778,
             "#fb9f3a"
            ],
            [
             0.8888888888888888,
             "#fdca26"
            ],
            [
             1.0,
             "#f0f921"
            ]
           ],
           "diverging": [
            [
             0,
             "#8e0152"
            ],
            [
             0.1,
             "#c51b7d"
            ],
            [
             0.2,
             "#de77ae"
            ],
            [
             0.3,
             "#f1b6da"
            ],
            [
             0.4,
             "#fde0ef"
            ],
            [
             0.5,
             "#f7f7f7"
            ],
            [
             0.6,
             "#e6f5d0"
            ],
            [
             0.7,
             "#b8e186"
            ],
            [
             0.8,
             "#7fbc41"
            ],
            [
             0.9,
             "#4d9221"
            ],
            [
             1,
             "#276419"
            ]
           ]
          },
          "xaxis": {
           "gridcolor": "white",
           "linecolor": "white",
           "ticks": "",
           "title": {
            "standoff": 15
           },
           "zerolinecolor": "white",
           "automargin": true,
           "zerolinewidth": 2
          },
          "yaxis": {
           "gridcolor": "white",
           "linecolor": "white",
           "ticks": "",
           "title": {
            "standoff": 15
           },
           "zerolinecolor": "white",
           "automargin": true,
           "zerolinewidth": 2
          },
          "scene": {
           "xaxis": {
            "backgroundcolor": "#E5ECF6",
            "gridcolor": "white",
            "linecolor": "white",
            "showbackground": true,
            "ticks": "",
            "zerolinecolor": "white",
            "gridwidth": 2
           },
           "yaxis": {
            "backgroundcolor": "#E5ECF6",
            "gridcolor": "white",
            "linecolor": "white",
            "showbackground": true,
            "ticks": "",
            "zerolinecolor": "white",
            "gridwidth": 2
           },
           "zaxis": {
            "backgroundcolor": "#E5ECF6",
            "gridcolor": "white",
            "linecolor": "white",
            "showbackground": true,
            "ticks": "",
            "zerolinecolor": "white",
            "gridwidth": 2
           }
          },
          "shapedefaults": {
           "line": {
            "color": "#2a3f5f"
           }
          },
          "annotationdefaults": {
           "arrowcolor": "#2a3f5f",
           "arrowhead": 0,
           "arrowwidth": 1
          },
          "geo": {
           "bgcolor": "white",
           "landcolor": "#E5ECF6",
           "subunitcolor": "white",
           "showland": true,
           "showlakes": true,
           "lakecolor": "white"
          },
          "title": {
           "x": 0.05
          },
          "mapbox": {
           "style": "light"
          }
         }
        },
        "coloraxis": {
         "colorbar": {
          "title": {
           "text": "GDP ($ per capita)"
          }
         },
         "colorscale": [
          [
           0.0,
           "rgb(103,0,31)"
          ],
          [
           0.1,
           "rgb(178,24,43)"
          ],
          [
           0.2,
           "rgb(214,96,77)"
          ],
          [
           0.3,
           "rgb(244,165,130)"
          ],
          [
           0.4,
           "rgb(253,219,199)"
          ],
          [
           0.5,
           "rgb(247,247,247)"
          ],
          [
           0.6,
           "rgb(209,229,240)"
          ],
          [
           0.7,
           "rgb(146,197,222)"
          ],
          [
           0.8,
           "rgb(67,147,195)"
          ],
          [
           0.9,
           "rgb(33,102,172)"
          ],
          [
           1.0,
           "rgb(5,48,97)"
          ]
         ]
        },
        "legend": {
         "tracegroupgap": 0
        },
        "title": {
         "text": "World Population Distribution - colour encoded by G"
        },
        "height": 600,
        "width": 1000
       },
       "config": {
        "plotlyServerURL": "https://plot.ly"
       }
      },
      "text/html": "<div>                            <div id=\"19000943-be83-4715-96d5-cc54c52f0146\" class=\"plotly-graph-div\" style=\"height:600px; width:1000px;\"></div>            <script type=\"text/javascript\">                require([\"plotly\"], function(Plotly) {                    window.PLOTLYENV=window.PLOTLYENV || {};                                    if (document.getElementById(\"19000943-be83-4715-96d5-cc54c52f0146\")) {                    Plotly.newPlot(                        \"19000943-be83-4715-96d5-cc54c52f0146\",                        [{\"branchvalues\":\"total\",\"customdata\":[[700.0],[4500.0],[6000.0],[8000.0],[19000.0],[1900.0],[8600.0],[11000.0],[11200.0],[3500.0],[28000.0],[29000.0],[30000.0],[3400.0],[16700.0],[16900.0],[1900.0],[15700.0],[6100.0],[29100.0],[4900.0],[1100.0],[36000.0],[1300.0],[2400.0],[6100.0],[9000.0],[7600.0],[16000.0],[18600.0],[7600.0],[1100.0],[1800.0],[600.0],[1900.0],[1800.0],[29800.0],[1400.0],[35000.0],[1100.0],[1200.0],[9900.0],[5000.0],[6300.0],[700.0],[700.0],[700.0],[5000.0],[9100.0],[1400.0],[10600.0],[2900.0],[19200.0],[15700.0],[31100.0],[1300.0],[5400.0],[6000.0],[500.0],[3300.0],[4000.0],[4800.0],[2700.0],[700.0],[12300.0],[700.0],[22000.0],[5800.0],[27400.0],[27600.0],[8300.0],[17500.0],[5500.0],[1700.0],[600.0],[2500.0],[27600.0],[2200.0],[17500.0],[20000.0],[20000.0],[5000.0],[8000.0],[21000.0],[4100.0],[20000.0],[2100.0],[800.0],[4000.0],[1600.0],[2600.0],[28800.0],[13900.0],[30900.0],[2900.0],[3200.0],[7000.0],[1500.0],[29600.0],[21000.0],[19800.0],[26700.0],[3900.0],[28200.0],[24800.0],[4300.0],[6300.0],[1000.0],[800.0],[1300.0],[17800.0],[19000.0],[1600.0],[1700.0],[10200.0],[4800.0],[3000.0],[1000.0],[6400.0],[25000.0],[11400.0],[55100.0],[19400.0],[6700.0],[800.0],[600.0],[9000.0],[3900.0],[900.0],[17700.0],[1600.0],[14400.0],[1800.0],[11400.0],[2600.0],[9000.0],[2000.0],[1800.0],[27000.0],[1800.0],[3400.0],[4000.0],[1200.0],[12500.0],[7200.0],[5000.0],[1400.0],[28600.0],[11400.0],[15000.0],[21600.0],[2300.0],[800.0],[900.0],[37800.0],[13100.0],[2100.0],[9000.0],[6300.0],[2200.0],[4700.0],[5100.0],[4600.0],[11100.0],[18000.0],[16800.0],[21500.0],[5800.0],[7000.0],[8900.0],[1300.0],[2500.0],[8800.0],[5400.0],[2900.0],[5600.0],[34600.0],[1200.0],[11800.0],[1600.0],[2200.0],[7800.0],[500.0],[23700.0],[13300.0],[19000.0],[1700.0],[500.0],[10700.0],[22000.0],[3700.0],[6900.0],[1900.0],[4000.0],[4900.0],[26800.0],[32700.0],[3300.0],[23400.0],[1000.0],[600.0],[7400.0],[1500.0],[2200.0],[9500.0],[6900.0],[6700.0],[5800.0],[9600.0],[1100.0],[1400.0],[5400.0],[23200.0],[27700.0],[37800.0],[12800.0],[1700.0],[2900.0],[4800.0],[2500.0],[17200.0],[3700.0],[800.0],[null],[800.0],[800.0],[1900.0],[5039.349432565976],[11185.972461417397],[6538.318590698449],[9803.698182434104],[7273.077976067759],[6539.852565134122],[null],[36997.61110293721],[21436.496608591504],[1725.5092750958386],[26864.002957127734]],\"domain\":{\"x\":[0.0,1.0],\"y\":[0.0,1.0]},\"hovertemplate\":\"labels=%{label}<br>Population=%{value}<br>parent=%{parent}<br>id=%{id}<br>GDP ($ per capita)=%{color}<extra></extra>\",\"ids\":[\"ASIA (EX. NEAR EAST)         /Afghanistan \",\"EASTERN EUROPE                     /Albania \",\"NORTHERN AFRICA                    /Algeria \",\"OCEANIA                            /American Samoa \",\"WESTERN EUROPE                     /Andorra \",\"SUB-SAHARAN AFRICA                 /Angola \",\"LATIN AMER. & CARIB    /Anguilla \",\"LATIN AMER. & CARIB    /Antigua & Barbuda \",\"LATIN AMER. & CARIB    /Argentina \",\"C.W. OF IND. STATES /Armenia \",\"LATIN AMER. & CARIB    /Aruba \",\"OCEANIA                            /Australia \",\"WESTERN EUROPE                     /Austria \",\"C.W. OF IND. STATES /Azerbaijan \",\"LATIN AMER. & CARIB    /Bahamas, The \",\"NEAR EAST                          /Bahrain \",\"ASIA (EX. NEAR EAST)         /Bangladesh \",\"LATIN AMER. & CARIB    /Barbados \",\"C.W. OF IND. STATES /Belarus \",\"WESTERN EUROPE                     /Belgium \",\"LATIN AMER. & CARIB    /Belize \",\"SUB-SAHARAN AFRICA                 /Benin \",\"NORTHERN AMERICA                   /Bermuda \",\"ASIA (EX. NEAR EAST)         /Bhutan \",\"LATIN AMER. & CARIB    /Bolivia \",\"EASTERN EUROPE                     /Bosnia & Herzegovina \",\"SUB-SAHARAN AFRICA                 /Botswana \",\"LATIN AMER. & CARIB    /Brazil \",\"LATIN AMER. & CARIB    /British Virgin Is. \",\"ASIA (EX. NEAR EAST)         /Brunei \",\"EASTERN EUROPE                     /Bulgaria \",\"SUB-SAHARAN AFRICA                 /Burkina Faso \",\"ASIA (EX. NEAR EAST)         /Burma \",\"SUB-SAHARAN AFRICA                 /Burundi \",\"ASIA (EX. NEAR EAST)         /Cambodia \",\"SUB-SAHARAN AFRICA                 /Cameroon \",\"NORTHERN AMERICA                   /Canada \",\"SUB-SAHARAN AFRICA                 /Cape Verde \",\"LATIN AMER. & CARIB    /Cayman Islands \",\"SUB-SAHARAN AFRICA                 /Central African Rep. \",\"SUB-SAHARAN AFRICA                 /Chad \",\"LATIN AMER. & CARIB    /Chile \",\"ASIA (EX. NEAR EAST)         /China \",\"LATIN AMER. & CARIB    /Colombia \",\"SUB-SAHARAN AFRICA                 /Comoros \",\"SUB-SAHARAN AFRICA                 /Congo, Dem. Rep. \",\"SUB-SAHARAN AFRICA                 /Congo, Repub. of the \",\"OCEANIA                            /Cook Islands \",\"LATIN AMER. & CARIB    /Costa Rica \",\"SUB-SAHARAN AFRICA                 /Cote d'Ivoire \",\"EASTERN EUROPE                     /Croatia \",\"LATIN AMER. & CARIB    /Cuba \",\"NEAR EAST                          /Cyprus \",\"EASTERN EUROPE                     /Czech Republic \",\"WESTERN EUROPE                     /Denmark \",\"SUB-SAHARAN AFRICA                 /Djibouti \",\"LATIN AMER. & CARIB    /Dominica \",\"LATIN AMER. & CARIB    /Dominican Republic \",\"ASIA (EX. NEAR EAST)         /East Timor \",\"LATIN AMER. & CARIB    /Ecuador \",\"NORTHERN AFRICA                    /Egypt \",\"LATIN AMER. & CARIB    /El Salvador \",\"SUB-SAHARAN AFRICA                 /Equatorial Guinea \",\"SUB-SAHARAN AFRICA                 /Eritrea \",\"BALTICS                            /Estonia \",\"SUB-SAHARAN AFRICA                 /Ethiopia \",\"WESTERN EUROPE                     /Faroe Islands \",\"OCEANIA                            /Fiji \",\"WESTERN EUROPE                     /Finland \",\"WESTERN EUROPE                     /France \",\"LATIN AMER. & CARIB    /French Guiana \",\"OCEANIA                            /French Polynesia \",\"SUB-SAHARAN AFRICA                 /Gabon \",\"SUB-SAHARAN AFRICA                 /Gambia, The \",\"NEAR EAST                          /Gaza Strip \",\"C.W. OF IND. STATES /Georgia \",\"WESTERN EUROPE                     /Germany \",\"SUB-SAHARAN AFRICA                 /Ghana \",\"WESTERN EUROPE                     /Gibraltar \",\"WESTERN EUROPE                     /Greece \",\"NORTHERN AMERICA                   /Greenland \",\"LATIN AMER. & CARIB    /Grenada \",\"LATIN AMER. & CARIB    /Guadeloupe \",\"OCEANIA                            /Guam \",\"LATIN AMER. & CARIB    /Guatemala \",\"WESTERN EUROPE                     /Guernsey \",\"SUB-SAHARAN AFRICA                 /Guinea \",\"SUB-SAHARAN AFRICA                 /Guinea-Bissau \",\"LATIN AMER. & CARIB    /Guyana \",\"LATIN AMER. & CARIB    /Haiti \",\"LATIN AMER. & CARIB    /Honduras \",\"ASIA (EX. NEAR EAST)         /Hong Kong \",\"EASTERN EUROPE                     /Hungary \",\"WESTERN EUROPE                     /Iceland \",\"ASIA (EX. NEAR EAST)         /India \",\"ASIA (EX. NEAR EAST)         /Indonesia \",\"ASIA (EX. NEAR EAST)         /Iran \",\"NEAR EAST                          /Iraq \",\"WESTERN EUROPE                     /Ireland \",\"WESTERN EUROPE                     /Isle of Man \",\"NEAR EAST                          /Israel \",\"WESTERN EUROPE                     /Italy \",\"LATIN AMER. & CARIB    /Jamaica \",\"ASIA (EX. NEAR EAST)         /Japan \",\"WESTERN EUROPE                     /Jersey \",\"NEAR EAST                          /Jordan \",\"C.W. OF IND. STATES /Kazakhstan \",\"SUB-SAHARAN AFRICA                 /Kenya \",\"OCEANIA                            /Kiribati \",\"ASIA (EX. NEAR EAST)         /Korea, North \",\"ASIA (EX. NEAR EAST)         /Korea, South \",\"NEAR EAST                          /Kuwait \",\"C.W. OF IND. STATES /Kyrgyzstan \",\"ASIA (EX. NEAR EAST)         /Laos \",\"BALTICS                            /Latvia \",\"NEAR EAST                          /Lebanon \",\"SUB-SAHARAN AFRICA                 /Lesotho \",\"SUB-SAHARAN AFRICA                 /Liberia \",\"NORTHERN AFRICA                    /Libya \",\"WESTERN EUROPE                     /Liechtenstein \",\"BALTICS                            /Lithuania \",\"WESTERN EUROPE                     /Luxembourg \",\"ASIA (EX. NEAR EAST)         /Macau \",\"EASTERN EUROPE                     /Macedonia \",\"SUB-SAHARAN AFRICA                 /Madagascar \",\"SUB-SAHARAN AFRICA                 /Malawi \",\"ASIA (EX. NEAR EAST)         /Malaysia \",\"ASIA (EX. NEAR EAST)         /Maldives \",\"SUB-SAHARAN AFRICA                 /Mali \",\"WESTERN EUROPE                     /Malta \",\"OCEANIA                            /Marshall Islands \",\"LATIN AMER. & CARIB    /Martinique \",\"SUB-SAHARAN AFRICA                 /Mauritania \",\"SUB-SAHARAN AFRICA                 /Mauritius \",\"SUB-SAHARAN AFRICA                 /Mayotte \",\"LATIN AMER. & CARIB    /Mexico \",\"OCEANIA                            /Micronesia, Fed. St. \",\"C.W. OF IND. STATES /Moldova \",\"WESTERN EUROPE                     /Monaco \",\"ASIA (EX. NEAR EAST)         /Mongolia \",\"LATIN AMER. & CARIB    /Montserrat \",\"NORTHERN AFRICA                    /Morocco \",\"SUB-SAHARAN AFRICA                 /Mozambique \",\"OCEANIA                            /N. Mariana Islands \",\"SUB-SAHARAN AFRICA                 /Namibia \",\"OCEANIA                            /Nauru \",\"ASIA (EX. NEAR EAST)         /Nepal \",\"WESTERN EUROPE                     /Netherlands \",\"LATIN AMER. & CARIB    /Netherlands Antilles \",\"OCEANIA                            /New Caledonia \",\"OCEANIA                            /New Zealand \",\"LATIN AMER. & CARIB    /Nicaragua \",\"SUB-SAHARAN AFRICA                 /Niger \",\"SUB-SAHARAN AFRICA                 /Nigeria \",\"WESTERN EUROPE                     /Norway \",\"NEAR EAST                          /Oman \",\"ASIA (EX. NEAR EAST)         /Pakistan \",\"OCEANIA                            /Palau \",\"LATIN AMER. & CARIB    /Panama \",\"OCEANIA                            /Papua New Guinea \",\"LATIN AMER. & CARIB    /Paraguay \",\"LATIN AMER. & CARIB    /Peru \",\"ASIA (EX. NEAR EAST)         /Philippines \",\"EASTERN EUROPE                     /Poland \",\"WESTERN EUROPE                     /Portugal \",\"LATIN AMER. & CARIB    /Puerto Rico \",\"NEAR EAST                          /Qatar \",\"SUB-SAHARAN AFRICA                 /Reunion \",\"EASTERN EUROPE                     /Romania \",\"C.W. OF IND. STATES /Russia \",\"SUB-SAHARAN AFRICA                 /Rwanda \",\"SUB-SAHARAN AFRICA                 /Saint Helena \",\"LATIN AMER. & CARIB    /Saint Kitts & Nevis \",\"LATIN AMER. & CARIB    /Saint Lucia \",\"LATIN AMER. & CARIB    /Saint Vincent and the Grenadines \",\"OCEANIA                            /Samoa \",\"WESTERN EUROPE                     /San Marino \",\"SUB-SAHARAN AFRICA                 /Sao Tome & Principe \",\"NEAR EAST                          /Saudi Arabia \",\"SUB-SAHARAN AFRICA                 /Senegal \",\"EASTERN EUROPE                     /Serbia \",\"SUB-SAHARAN AFRICA                 /Seychelles \",\"SUB-SAHARAN AFRICA                 /Sierra Leone \",\"ASIA (EX. NEAR EAST)         /Singapore \",\"EASTERN EUROPE                     /Slovakia \",\"EASTERN EUROPE                     /Slovenia \",\"OCEANIA                            /Solomon Islands \",\"SUB-SAHARAN AFRICA                 /Somalia \",\"SUB-SAHARAN AFRICA                 /South Africa \",\"WESTERN EUROPE                     /Spain \",\"ASIA (EX. NEAR EAST)         /Sri Lanka \",\"NORTHERN AMERICA                   /St Pierre & Miquelon \",\"SUB-SAHARAN AFRICA                 /Sudan \",\"LATIN AMER. & CARIB    /Suriname \",\"SUB-SAHARAN AFRICA                 /Swaziland \",\"WESTERN EUROPE                     /Sweden \",\"WESTERN EUROPE                     /Switzerland \",\"NEAR EAST                          /Syria \",\"ASIA (EX. NEAR EAST)         /Taiwan \",\"C.W. OF IND. STATES /Tajikistan \",\"SUB-SAHARAN AFRICA                 /Tanzania \",\"ASIA (EX. NEAR EAST)         /Thailand \",\"SUB-SAHARAN AFRICA                 /Togo \",\"OCEANIA                            /Tonga \",\"LATIN AMER. & CARIB    /Trinidad & Tobago \",\"NORTHERN AFRICA                    /Tunisia \",\"NEAR EAST                          /Turkey \",\"C.W. OF IND. STATES /Turkmenistan \",\"LATIN AMER. & CARIB    /Turks & Caicos Is \",\"OCEANIA                            /Tuvalu \",\"SUB-SAHARAN AFRICA                 /Uganda \",\"C.W. OF IND. STATES /Ukraine \",\"NEAR EAST                          /United Arab Emirates \",\"WESTERN EUROPE                     /United Kingdom \",\"NORTHERN AMERICA                   /United States \",\"LATIN AMER. & CARIB    /Uruguay \",\"C.W. OF IND. STATES /Uzbekistan \",\"OCEANIA                            /Vanuatu \",\"LATIN AMER. & CARIB    /Venezuela \",\"ASIA (EX. NEAR EAST)         /Vietnam \",\"LATIN AMER. & CARIB    /Virgin Islands \",\"OCEANIA                            /Wallis and Futuna \",\"NEAR EAST                          /West Bank \",\"NORTHERN AFRICA                    /Western Sahara \",\"NEAR EAST                          /Yemen \",\"SUB-SAHARAN AFRICA                 /Zambia \",\"SUB-SAHARAN AFRICA                 /Zimbabwe \",\"ASIA (EX. NEAR EAST)         \",\"BALTICS                            \",\"C.W. OF IND. STATES \",\"EASTERN EUROPE                     \",\"LATIN AMER. & CARIB    \",\"NEAR EAST                          \",\"NORTHERN AFRICA                    \",\"NORTHERN AMERICA                   \",\"OCEANIA                            \",\"SUB-SAHARAN AFRICA                 \",\"WESTERN EUROPE                     \"],\"labels\":[\"Afghanistan \",\"Albania \",\"Algeria \",\"American Samoa \",\"Andorra \",\"Angola \",\"Anguilla \",\"Antigua & Barbuda \",\"Argentina \",\"Armenia \",\"Aruba \",\"Australia \",\"Austria \",\"Azerbaijan \",\"Bahamas, The \",\"Bahrain \",\"Bangladesh \",\"Barbados \",\"Belarus \",\"Belgium \",\"Belize \",\"Benin \",\"Bermuda \",\"Bhutan \",\"Bolivia \",\"Bosnia & Herzegovina \",\"Botswana \",\"Brazil \",\"British Virgin Is. \",\"Brunei \",\"Bulgaria \",\"Burkina Faso \",\"Burma \",\"Burundi \",\"Cambodia \",\"Cameroon \",\"Canada \",\"Cape Verde \",\"Cayman Islands \",\"Central African Rep. \",\"Chad \",\"Chile \",\"China \",\"Colombia \",\"Comoros \",\"Congo, Dem. Rep. \",\"Congo, Repub. of the \",\"Cook Islands \",\"Costa Rica \",\"Cote d'Ivoire \",\"Croatia \",\"Cuba \",\"Cyprus \",\"Czech Republic \",\"Denmark \",\"Djibouti \",\"Dominica \",\"Dominican Republic \",\"East Timor \",\"Ecuador \",\"Egypt \",\"El Salvador \",\"Equatorial Guinea \",\"Eritrea \",\"Estonia \",\"Ethiopia \",\"Faroe Islands \",\"Fiji \",\"Finland \",\"France \",\"French Guiana \",\"French Polynesia \",\"Gabon \",\"Gambia, The \",\"Gaza Strip \",\"Georgia \",\"Germany \",\"Ghana \",\"Gibraltar \",\"Greece \",\"Greenland \",\"Grenada \",\"Guadeloupe \",\"Guam \",\"Guatemala \",\"Guernsey \",\"Guinea \",\"Guinea-Bissau \",\"Guyana \",\"Haiti \",\"Honduras \",\"Hong Kong \",\"Hungary \",\"Iceland \",\"India \",\"Indonesia \",\"Iran \",\"Iraq \",\"Ireland \",\"Isle of Man \",\"Israel \",\"Italy \",\"Jamaica \",\"Japan \",\"Jersey \",\"Jordan \",\"Kazakhstan \",\"Kenya \",\"Kiribati \",\"Korea, North \",\"Korea, South \",\"Kuwait \",\"Kyrgyzstan \",\"Laos \",\"Latvia \",\"Lebanon \",\"Lesotho \",\"Liberia \",\"Libya \",\"Liechtenstein \",\"Lithuania \",\"Luxembourg \",\"Macau \",\"Macedonia \",\"Madagascar \",\"Malawi \",\"Malaysia \",\"Maldives \",\"Mali \",\"Malta \",\"Marshall Islands \",\"Martinique \",\"Mauritania \",\"Mauritius \",\"Mayotte \",\"Mexico \",\"Micronesia, Fed. St. \",\"Moldova \",\"Monaco \",\"Mongolia \",\"Montserrat \",\"Morocco \",\"Mozambique \",\"N. Mariana Islands \",\"Namibia \",\"Nauru \",\"Nepal \",\"Netherlands \",\"Netherlands Antilles \",\"New Caledonia \",\"New Zealand \",\"Nicaragua \",\"Niger \",\"Nigeria \",\"Norway \",\"Oman \",\"Pakistan \",\"Palau \",\"Panama \",\"Papua New Guinea \",\"Paraguay \",\"Peru \",\"Philippines \",\"Poland \",\"Portugal \",\"Puerto Rico \",\"Qatar \",\"Reunion \",\"Romania \",\"Russia \",\"Rwanda \",\"Saint Helena \",\"Saint Kitts & Nevis \",\"Saint Lucia \",\"Saint Vincent and the Grenadines \",\"Samoa \",\"San Marino \",\"Sao Tome & Principe \",\"Saudi Arabia \",\"Senegal \",\"Serbia \",\"Seychelles \",\"Sierra Leone \",\"Singapore \",\"Slovakia \",\"Slovenia \",\"Solomon Islands \",\"Somalia \",\"South Africa \",\"Spain \",\"Sri Lanka \",\"St Pierre & Miquelon \",\"Sudan \",\"Suriname \",\"Swaziland \",\"Sweden \",\"Switzerland \",\"Syria \",\"Taiwan \",\"Tajikistan \",\"Tanzania \",\"Thailand \",\"Togo \",\"Tonga \",\"Trinidad & Tobago \",\"Tunisia \",\"Turkey \",\"Turkmenistan \",\"Turks & Caicos Is \",\"Tuvalu \",\"Uganda \",\"Ukraine \",\"United Arab Emirates \",\"United Kingdom \",\"United States \",\"Uruguay \",\"Uzbekistan \",\"Vanuatu \",\"Venezuela \",\"Vietnam \",\"Virgin Islands \",\"Wallis and Futuna \",\"West Bank \",\"Western Sahara \",\"Yemen \",\"Zambia \",\"Zimbabwe \",\"ASIA (EX. NEAR EAST)         \",\"BALTICS                            \",\"C.W. OF IND. STATES \",\"EASTERN EUROPE                     \",\"LATIN AMER. & CARIB    \",\"NEAR EAST                          \",\"NORTHERN AFRICA                    \",\"NORTHERN AMERICA                   \",\"OCEANIA                            \",\"SUB-SAHARAN AFRICA                 \",\"WESTERN EUROPE                     \"],\"marker\":{\"coloraxis\":\"coloraxis\",\"colors\":[700.0,4500.0,6000.0,8000.0,19000.0,1900.0,8600.0,11000.0,11200.0,3500.0,28000.0,29000.0,30000.0,3400.0,16700.0,16900.0,1900.0,15700.0,6100.0,29100.0,4900.0,1100.0,36000.0,1300.0,2400.0,6100.0,9000.0,7600.0,16000.0,18600.0,7600.0,1100.0,1800.0,600.0,1900.0,1800.0,29800.0,1400.0,35000.0,1100.0,1200.0,9900.0,5000.0,6300.0,700.0,700.0,700.0,5000.0,9100.0,1400.0,10600.0,2900.0,19200.0,15700.0,31100.0,1300.0,5400.0,6000.0,500.0,3300.0,4000.0,4800.0,2700.0,700.0,12300.0,700.0,22000.0,5800.0,27400.0,27600.0,8300.0,17500.0,5500.0,1700.0,600.0,2500.0,27600.0,2200.0,17500.0,20000.0,20000.0,5000.0,8000.0,21000.0,4100.0,20000.0,2100.0,800.0,4000.0,1600.0,2600.0,28800.0,13900.0,30900.0,2900.0,3200.0,7000.0,1500.0,29600.0,21000.0,19800.0,26700.0,3900.0,28200.0,24800.0,4300.0,6300.0,1000.0,800.0,1300.0,17800.0,19000.0,1600.0,1700.0,10200.0,4800.0,3000.0,1000.0,6400.0,25000.0,11400.0,55100.0,19400.0,6700.0,800.0,600.0,9000.0,3900.0,900.0,17700.0,1600.0,14400.0,1800.0,11400.0,2600.0,9000.0,2000.0,1800.0,27000.0,1800.0,3400.0,4000.0,1200.0,12500.0,7200.0,5000.0,1400.0,28600.0,11400.0,15000.0,21600.0,2300.0,800.0,900.0,37800.0,13100.0,2100.0,9000.0,6300.0,2200.0,4700.0,5100.0,4600.0,11100.0,18000.0,16800.0,21500.0,5800.0,7000.0,8900.0,1300.0,2500.0,8800.0,5400.0,2900.0,5600.0,34600.0,1200.0,11800.0,1600.0,2200.0,7800.0,500.0,23700.0,13300.0,19000.0,1700.0,500.0,10700.0,22000.0,3700.0,6900.0,1900.0,4000.0,4900.0,26800.0,32700.0,3300.0,23400.0,1000.0,600.0,7400.0,1500.0,2200.0,9500.0,6900.0,6700.0,5800.0,9600.0,1100.0,1400.0,5400.0,23200.0,27700.0,37800.0,12800.0,1700.0,2900.0,4800.0,2500.0,17200.0,3700.0,800.0,null,800.0,800.0,1900.0,5039.349432565976,11185.972461417397,6538.318590698449,9803.698182434104,7273.077976067759,6539.852565134122,null,36997.61110293721,21436.496608591504,1725.5092750958386,26864.002957127734]},\"name\":\"\",\"parents\":[\"ASIA (EX. NEAR EAST)         \",\"EASTERN EUROPE                     \",\"NORTHERN AFRICA                    \",\"OCEANIA                            \",\"WESTERN EUROPE                     \",\"SUB-SAHARAN AFRICA                 \",\"LATIN AMER. & CARIB    \",\"LATIN AMER. & CARIB    \",\"LATIN AMER. & CARIB    \",\"C.W. OF IND. STATES \",\"LATIN AMER. & CARIB    \",\"OCEANIA                            \",\"WESTERN EUROPE                     \",\"C.W. OF IND. STATES \",\"LATIN AMER. & CARIB    \",\"NEAR EAST                          \",\"ASIA (EX. NEAR EAST)         \",\"LATIN AMER. & CARIB    \",\"C.W. OF IND. STATES \",\"WESTERN EUROPE                     \",\"LATIN AMER. & CARIB    \",\"SUB-SAHARAN AFRICA                 \",\"NORTHERN AMERICA                   \",\"ASIA (EX. NEAR EAST)         \",\"LATIN AMER. & CARIB    \",\"EASTERN EUROPE                     \",\"SUB-SAHARAN AFRICA                 \",\"LATIN AMER. & CARIB    \",\"LATIN AMER. & CARIB    \",\"ASIA (EX. NEAR EAST)         \",\"EASTERN EUROPE                     \",\"SUB-SAHARAN AFRICA                 \",\"ASIA (EX. NEAR EAST)         \",\"SUB-SAHARAN AFRICA                 \",\"ASIA (EX. NEAR EAST)         \",\"SUB-SAHARAN AFRICA                 \",\"NORTHERN AMERICA                   \",\"SUB-SAHARAN AFRICA                 \",\"LATIN AMER. & CARIB    \",\"SUB-SAHARAN AFRICA                 \",\"SUB-SAHARAN AFRICA                 \",\"LATIN AMER. & CARIB    \",\"ASIA (EX. NEAR EAST)         \",\"LATIN AMER. & CARIB    \",\"SUB-SAHARAN AFRICA                 \",\"SUB-SAHARAN AFRICA                 \",\"SUB-SAHARAN AFRICA                 \",\"OCEANIA                            \",\"LATIN AMER. & CARIB    \",\"SUB-SAHARAN AFRICA                 \",\"EASTERN EUROPE                     \",\"LATIN AMER. & CARIB    \",\"NEAR EAST                          \",\"EASTERN EUROPE                     \",\"WESTERN EUROPE                     \",\"SUB-SAHARAN AFRICA                 \",\"LATIN AMER. & CARIB    \",\"LATIN AMER. & CARIB    \",\"ASIA (EX. NEAR EAST)         \",\"LATIN AMER. & CARIB    \",\"NORTHERN AFRICA                    \",\"LATIN AMER. & CARIB    \",\"SUB-SAHARAN AFRICA                 \",\"SUB-SAHARAN AFRICA                 \",\"BALTICS                            \",\"SUB-SAHARAN AFRICA                 \",\"WESTERN EUROPE                     \",\"OCEANIA                            \",\"WESTERN EUROPE                     \",\"WESTERN EUROPE                     \",\"LATIN AMER. & CARIB    \",\"OCEANIA                            \",\"SUB-SAHARAN AFRICA                 \",\"SUB-SAHARAN AFRICA                 \",\"NEAR EAST                          \",\"C.W. OF IND. STATES \",\"WESTERN EUROPE                     \",\"SUB-SAHARAN AFRICA                 \",\"WESTERN EUROPE                     \",\"WESTERN EUROPE                     \",\"NORTHERN AMERICA                   \",\"LATIN AMER. & CARIB    \",\"LATIN AMER. & CARIB    \",\"OCEANIA                            \",\"LATIN AMER. & CARIB    \",\"WESTERN EUROPE                     \",\"SUB-SAHARAN AFRICA                 \",\"SUB-SAHARAN AFRICA                 \",\"LATIN AMER. & CARIB    \",\"LATIN AMER. & CARIB    \",\"LATIN AMER. & CARIB    \",\"ASIA (EX. NEAR EAST)         \",\"EASTERN EUROPE                     \",\"WESTERN EUROPE                     \",\"ASIA (EX. NEAR EAST)         \",\"ASIA (EX. NEAR EAST)         \",\"ASIA (EX. NEAR EAST)         \",\"NEAR EAST                          \",\"WESTERN EUROPE                     \",\"WESTERN EUROPE                     \",\"NEAR EAST                          \",\"WESTERN EUROPE                     \",\"LATIN AMER. & CARIB    \",\"ASIA (EX. NEAR EAST)         \",\"WESTERN EUROPE                     \",\"NEAR EAST                          \",\"C.W. OF IND. STATES \",\"SUB-SAHARAN AFRICA                 \",\"OCEANIA                            \",\"ASIA (EX. NEAR EAST)         \",\"ASIA (EX. NEAR EAST)         \",\"NEAR EAST                          \",\"C.W. OF IND. STATES \",\"ASIA (EX. NEAR EAST)         \",\"BALTICS                            \",\"NEAR EAST                          \",\"SUB-SAHARAN AFRICA                 \",\"SUB-SAHARAN AFRICA                 \",\"NORTHERN AFRICA                    \",\"WESTERN EUROPE                     \",\"BALTICS                            \",\"WESTERN EUROPE                     \",\"ASIA (EX. NEAR EAST)         \",\"EASTERN EUROPE                     \",\"SUB-SAHARAN AFRICA                 \",\"SUB-SAHARAN AFRICA                 \",\"ASIA (EX. NEAR EAST)         \",\"ASIA (EX. NEAR EAST)         \",\"SUB-SAHARAN AFRICA                 \",\"WESTERN EUROPE                     \",\"OCEANIA                            \",\"LATIN AMER. & CARIB    \",\"SUB-SAHARAN AFRICA                 \",\"SUB-SAHARAN AFRICA                 \",\"SUB-SAHARAN AFRICA                 \",\"LATIN AMER. & CARIB    \",\"OCEANIA                            \",\"C.W. OF IND. STATES \",\"WESTERN EUROPE                     \",\"ASIA (EX. NEAR EAST)         \",\"LATIN AMER. & CARIB    \",\"NORTHERN AFRICA                    \",\"SUB-SAHARAN AFRICA                 \",\"OCEANIA                            \",\"SUB-SAHARAN AFRICA                 \",\"OCEANIA                            \",\"ASIA (EX. NEAR EAST)         \",\"WESTERN EUROPE                     \",\"LATIN AMER. & CARIB    \",\"OCEANIA                            \",\"OCEANIA                            \",\"LATIN AMER. & CARIB    \",\"SUB-SAHARAN AFRICA                 \",\"SUB-SAHARAN AFRICA                 \",\"WESTERN EUROPE                     \",\"NEAR EAST                          \",\"ASIA (EX. NEAR EAST)         \",\"OCEANIA                            \",\"LATIN AMER. & CARIB    \",\"OCEANIA                            \",\"LATIN AMER. & CARIB    \",\"LATIN AMER. & CARIB    \",\"ASIA (EX. NEAR EAST)         \",\"EASTERN EUROPE                     \",\"WESTERN EUROPE                     \",\"LATIN AMER. & CARIB    \",\"NEAR EAST                          \",\"SUB-SAHARAN AFRICA                 \",\"EASTERN EUROPE                     \",\"C.W. OF IND. STATES \",\"SUB-SAHARAN AFRICA                 \",\"SUB-SAHARAN AFRICA                 \",\"LATIN AMER. & CARIB    \",\"LATIN AMER. & CARIB    \",\"LATIN AMER. & CARIB    \",\"OCEANIA                            \",\"WESTERN EUROPE                     \",\"SUB-SAHARAN AFRICA                 \",\"NEAR EAST                          \",\"SUB-SAHARAN AFRICA                 \",\"EASTERN EUROPE                     \",\"SUB-SAHARAN AFRICA                 \",\"SUB-SAHARAN AFRICA                 \",\"ASIA (EX. NEAR EAST)         \",\"EASTERN EUROPE                     \",\"EASTERN EUROPE                     \",\"OCEANIA                            \",\"SUB-SAHARAN AFRICA                 \",\"SUB-SAHARAN AFRICA                 \",\"WESTERN EUROPE                     \",\"ASIA (EX. NEAR EAST)         \",\"NORTHERN AMERICA                   \",\"SUB-SAHARAN AFRICA                 \",\"LATIN AMER. & CARIB    \",\"SUB-SAHARAN AFRICA                 \",\"WESTERN EUROPE                     \",\"WESTERN EUROPE                     \",\"NEAR EAST                          \",\"ASIA (EX. NEAR EAST)         \",\"C.W. OF IND. STATES \",\"SUB-SAHARAN AFRICA                 \",\"ASIA (EX. NEAR EAST)         \",\"SUB-SAHARAN AFRICA                 \",\"OCEANIA                            \",\"LATIN AMER. & CARIB    \",\"NORTHERN AFRICA                    \",\"NEAR EAST                          \",\"C.W. OF IND. STATES \",\"LATIN AMER. & CARIB    \",\"OCEANIA                            \",\"SUB-SAHARAN AFRICA                 \",\"C.W. OF IND. STATES \",\"NEAR EAST                          \",\"WESTERN EUROPE                     \",\"NORTHERN AMERICA                   \",\"LATIN AMER. & CARIB    \",\"C.W. OF IND. STATES \",\"OCEANIA                            \",\"LATIN AMER. & CARIB    \",\"ASIA (EX. NEAR EAST)         \",\"LATIN AMER. & CARIB    \",\"OCEANIA                            \",\"NEAR EAST                          \",\"NORTHERN AFRICA                    \",\"NEAR EAST                          \",\"SUB-SAHARAN AFRICA                 \",\"SUB-SAHARAN AFRICA                 \",\"\",\"\",\"\",\"\",\"\",\"\",\"\",\"\",\"\",\"\",\"\"],\"values\":[31056997,3581655,32930091,57794,71201,12127071,13477,69108,39921833,2976372,71891,20264082,8192880,7961619,303770,698585,147365352,279912,10293011,10379067,287730,7862944,65773,2279723,8989046,4498976,1639833,188078227,23098,379444,7385367,13902972,47382633,8090068,13881427,17340702,33098932,420979,45436,4303356,9944201,16134219,1313973713,43593035,690948,62660551,3702314,21388,4075261,17654843,4494749,11382820,784301,10235455,5450661,486530,68910,9183984,1062777,13547510,78887007,6822378,540109,4786994,1324333,74777981,47246,905949,5231372,60876136,199509,274578,1424906,1641564,1428757,4661473,82422299,22409572,27928,10688058,56361,89703,452776,171019,12293545,65409,9690222,1442029,767245,8308504,7326496,6940432,9981334,299388,1095351995,245452739,68688433,26783383,4062235,75441,6352117,58133509,2758124,127463611,91084,5906760,15233244,34707817,105432,23113019,48846823,2418393,5213898,6368481,2274735,3874050,2022331,3042004,5900754,33987,3585906,474413,453125,2050554,18595469,13013926,24385858,359008,11716829,400214,60422,436131,3177388,1240827,201234,107449525,108004,4466706,32543,2832224,9439,33241259,19686505,82459,2044147,13287,28287147,16491461,221736,219246,4076140,5570129,12525094,131859731,4610820,3102229,165803560,20579,3191319,5670544,6506464,28302603,89468677,38536869,10605870,3927188,885359,787584,22303552,142893540,8648248,7502,39129,168458,117848,176908,29251,193413,27019731,11987121,9396411,81541,6005250,4492150,5439448,2010347,552438,8863338,44187637,40397842,20222240,7026,41236378,439117,1136334,9016596,7523934,18881361,23036087,7320815,37445392,64631595,5548702,114689,1065842,10175014,70413958,5042920,21152,11810,28195754,46710816,2602713,60609153,298444215,3431932,27307134,208869,25730435,84402966,108605,16025,2460492,273008,21456188,11502010,12236805,3687982236,7184974,280081548,119914717,561824599,195068377,161407133,331672307,33131662,749437000,396339998],\"type\":\"treemap\"}],                        {\"template\":{\"data\":{\"histogram2dcontour\":[{\"type\":\"histogram2dcontour\",\"colorbar\":{\"outlinewidth\":0,\"ticks\":\"\"},\"colorscale\":[[0.0,\"#0d0887\"],[0.1111111111111111,\"#46039f\"],[0.2222222222222222,\"#7201a8\"],[0.3333333333333333,\"#9c179e\"],[0.4444444444444444,\"#bd3786\"],[0.5555555555555556,\"#d8576b\"],[0.6666666666666666,\"#ed7953\"],[0.7777777777777778,\"#fb9f3a\"],[0.8888888888888888,\"#fdca26\"],[1.0,\"#f0f921\"]]}],\"choropleth\":[{\"type\":\"choropleth\",\"colorbar\":{\"outlinewidth\":0,\"ticks\":\"\"}}],\"histogram2d\":[{\"type\":\"histogram2d\",\"colorbar\":{\"outlinewidth\":0,\"ticks\":\"\"},\"colorscale\":[[0.0,\"#0d0887\"],[0.1111111111111111,\"#46039f\"],[0.2222222222222222,\"#7201a8\"],[0.3333333333333333,\"#9c179e\"],[0.4444444444444444,\"#bd3786\"],[0.5555555555555556,\"#d8576b\"],[0.6666666666666666,\"#ed7953\"],[0.7777777777777778,\"#fb9f3a\"],[0.8888888888888888,\"#fdca26\"],[1.0,\"#f0f921\"]]}],\"heatmap\":[{\"type\":\"heatmap\",\"colorbar\":{\"outlinewidth\":0,\"ticks\":\"\"},\"colorscale\":[[0.0,\"#0d0887\"],[0.1111111111111111,\"#46039f\"],[0.2222222222222222,\"#7201a8\"],[0.3333333333333333,\"#9c179e\"],[0.4444444444444444,\"#bd3786\"],[0.5555555555555556,\"#d8576b\"],[0.6666666666666666,\"#ed7953\"],[0.7777777777777778,\"#fb9f3a\"],[0.8888888888888888,\"#fdca26\"],[1.0,\"#f0f921\"]]}],\"heatmapgl\":[{\"type\":\"heatmapgl\",\"colorbar\":{\"outlinewidth\":0,\"ticks\":\"\"},\"colorscale\":[[0.0,\"#0d0887\"],[0.1111111111111111,\"#46039f\"],[0.2222222222222222,\"#7201a8\"],[0.3333333333333333,\"#9c179e\"],[0.4444444444444444,\"#bd3786\"],[0.5555555555555556,\"#d8576b\"],[0.6666666666666666,\"#ed7953\"],[0.7777777777777778,\"#fb9f3a\"],[0.8888888888888888,\"#fdca26\"],[1.0,\"#f0f921\"]]}],\"contourcarpet\":[{\"type\":\"contourcarpet\",\"colorbar\":{\"outlinewidth\":0,\"ticks\":\"\"}}],\"contour\":[{\"type\":\"contour\",\"colorbar\":{\"outlinewidth\":0,\"ticks\":\"\"},\"colorscale\":[[0.0,\"#0d0887\"],[0.1111111111111111,\"#46039f\"],[0.2222222222222222,\"#7201a8\"],[0.3333333333333333,\"#9c179e\"],[0.4444444444444444,\"#bd3786\"],[0.5555555555555556,\"#d8576b\"],[0.6666666666666666,\"#ed7953\"],[0.7777777777777778,\"#fb9f3a\"],[0.8888888888888888,\"#fdca26\"],[1.0,\"#f0f921\"]]}],\"surface\":[{\"type\":\"surface\",\"colorbar\":{\"outlinewidth\":0,\"ticks\":\"\"},\"colorscale\":[[0.0,\"#0d0887\"],[0.1111111111111111,\"#46039f\"],[0.2222222222222222,\"#7201a8\"],[0.3333333333333333,\"#9c179e\"],[0.4444444444444444,\"#bd3786\"],[0.5555555555555556,\"#d8576b\"],[0.6666666666666666,\"#ed7953\"],[0.7777777777777778,\"#fb9f3a\"],[0.8888888888888888,\"#fdca26\"],[1.0,\"#f0f921\"]]}],\"mesh3d\":[{\"type\":\"mesh3d\",\"colorbar\":{\"outlinewidth\":0,\"ticks\":\"\"}}],\"scatter\":[{\"fillpattern\":{\"fillmode\":\"overlay\",\"size\":10,\"solidity\":0.2},\"type\":\"scatter\"}],\"parcoords\":[{\"type\":\"parcoords\",\"line\":{\"colorbar\":{\"outlinewidth\":0,\"ticks\":\"\"}}}],\"scatterpolargl\":[{\"type\":\"scatterpolargl\",\"marker\":{\"colorbar\":{\"outlinewidth\":0,\"ticks\":\"\"}}}],\"bar\":[{\"error_x\":{\"color\":\"#2a3f5f\"},\"error_y\":{\"color\":\"#2a3f5f\"},\"marker\":{\"line\":{\"color\":\"#E5ECF6\",\"width\":0.5},\"pattern\":{\"fillmode\":\"overlay\",\"size\":10,\"solidity\":0.2}},\"type\":\"bar\"}],\"scattergeo\":[{\"type\":\"scattergeo\",\"marker\":{\"colorbar\":{\"outlinewidth\":0,\"ticks\":\"\"}}}],\"scatterpolar\":[{\"type\":\"scatterpolar\",\"marker\":{\"colorbar\":{\"outlinewidth\":0,\"ticks\":\"\"}}}],\"histogram\":[{\"marker\":{\"pattern\":{\"fillmode\":\"overlay\",\"size\":10,\"solidity\":0.2}},\"type\":\"histogram\"}],\"scattergl\":[{\"type\":\"scattergl\",\"marker\":{\"colorbar\":{\"outlinewidth\":0,\"ticks\":\"\"}}}],\"scatter3d\":[{\"type\":\"scatter3d\",\"line\":{\"colorbar\":{\"outlinewidth\":0,\"ticks\":\"\"}},\"marker\":{\"colorbar\":{\"outlinewidth\":0,\"ticks\":\"\"}}}],\"scattermapbox\":[{\"type\":\"scattermapbox\",\"marker\":{\"colorbar\":{\"outlinewidth\":0,\"ticks\":\"\"}}}],\"scatterternary\":[{\"type\":\"scatterternary\",\"marker\":{\"colorbar\":{\"outlinewidth\":0,\"ticks\":\"\"}}}],\"scattercarpet\":[{\"type\":\"scattercarpet\",\"marker\":{\"colorbar\":{\"outlinewidth\":0,\"ticks\":\"\"}}}],\"carpet\":[{\"aaxis\":{\"endlinecolor\":\"#2a3f5f\",\"gridcolor\":\"white\",\"linecolor\":\"white\",\"minorgridcolor\":\"white\",\"startlinecolor\":\"#2a3f5f\"},\"baxis\":{\"endlinecolor\":\"#2a3f5f\",\"gridcolor\":\"white\",\"linecolor\":\"white\",\"minorgridcolor\":\"white\",\"startlinecolor\":\"#2a3f5f\"},\"type\":\"carpet\"}],\"table\":[{\"cells\":{\"fill\":{\"color\":\"#EBF0F8\"},\"line\":{\"color\":\"white\"}},\"header\":{\"fill\":{\"color\":\"#C8D4E3\"},\"line\":{\"color\":\"white\"}},\"type\":\"table\"}],\"barpolar\":[{\"marker\":{\"line\":{\"color\":\"#E5ECF6\",\"width\":0.5},\"pattern\":{\"fillmode\":\"overlay\",\"size\":10,\"solidity\":0.2}},\"type\":\"barpolar\"}],\"pie\":[{\"automargin\":true,\"type\":\"pie\"}]},\"layout\":{\"autotypenumbers\":\"strict\",\"colorway\":[\"#636efa\",\"#EF553B\",\"#00cc96\",\"#ab63fa\",\"#FFA15A\",\"#19d3f3\",\"#FF6692\",\"#B6E880\",\"#FF97FF\",\"#FECB52\"],\"font\":{\"color\":\"#2a3f5f\"},\"hovermode\":\"closest\",\"hoverlabel\":{\"align\":\"left\"},\"paper_bgcolor\":\"white\",\"plot_bgcolor\":\"#E5ECF6\",\"polar\":{\"bgcolor\":\"#E5ECF6\",\"angularaxis\":{\"gridcolor\":\"white\",\"linecolor\":\"white\",\"ticks\":\"\"},\"radialaxis\":{\"gridcolor\":\"white\",\"linecolor\":\"white\",\"ticks\":\"\"}},\"ternary\":{\"bgcolor\":\"#E5ECF6\",\"aaxis\":{\"gridcolor\":\"white\",\"linecolor\":\"white\",\"ticks\":\"\"},\"baxis\":{\"gridcolor\":\"white\",\"linecolor\":\"white\",\"ticks\":\"\"},\"caxis\":{\"gridcolor\":\"white\",\"linecolor\":\"white\",\"ticks\":\"\"}},\"coloraxis\":{\"colorbar\":{\"outlinewidth\":0,\"ticks\":\"\"}},\"colorscale\":{\"sequential\":[[0.0,\"#0d0887\"],[0.1111111111111111,\"#46039f\"],[0.2222222222222222,\"#7201a8\"],[0.3333333333333333,\"#9c179e\"],[0.4444444444444444,\"#bd3786\"],[0.5555555555555556,\"#d8576b\"],[0.6666666666666666,\"#ed7953\"],[0.7777777777777778,\"#fb9f3a\"],[0.8888888888888888,\"#fdca26\"],[1.0,\"#f0f921\"]],\"sequentialminus\":[[0.0,\"#0d0887\"],[0.1111111111111111,\"#46039f\"],[0.2222222222222222,\"#7201a8\"],[0.3333333333333333,\"#9c179e\"],[0.4444444444444444,\"#bd3786\"],[0.5555555555555556,\"#d8576b\"],[0.6666666666666666,\"#ed7953\"],[0.7777777777777778,\"#fb9f3a\"],[0.8888888888888888,\"#fdca26\"],[1.0,\"#f0f921\"]],\"diverging\":[[0,\"#8e0152\"],[0.1,\"#c51b7d\"],[0.2,\"#de77ae\"],[0.3,\"#f1b6da\"],[0.4,\"#fde0ef\"],[0.5,\"#f7f7f7\"],[0.6,\"#e6f5d0\"],[0.7,\"#b8e186\"],[0.8,\"#7fbc41\"],[0.9,\"#4d9221\"],[1,\"#276419\"]]},\"xaxis\":{\"gridcolor\":\"white\",\"linecolor\":\"white\",\"ticks\":\"\",\"title\":{\"standoff\":15},\"zerolinecolor\":\"white\",\"automargin\":true,\"zerolinewidth\":2},\"yaxis\":{\"gridcolor\":\"white\",\"linecolor\":\"white\",\"ticks\":\"\",\"title\":{\"standoff\":15},\"zerolinecolor\":\"white\",\"automargin\":true,\"zerolinewidth\":2},\"scene\":{\"xaxis\":{\"backgroundcolor\":\"#E5ECF6\",\"gridcolor\":\"white\",\"linecolor\":\"white\",\"showbackground\":true,\"ticks\":\"\",\"zerolinecolor\":\"white\",\"gridwidth\":2},\"yaxis\":{\"backgroundcolor\":\"#E5ECF6\",\"gridcolor\":\"white\",\"linecolor\":\"white\",\"showbackground\":true,\"ticks\":\"\",\"zerolinecolor\":\"white\",\"gridwidth\":2},\"zaxis\":{\"backgroundcolor\":\"#E5ECF6\",\"gridcolor\":\"white\",\"linecolor\":\"white\",\"showbackground\":true,\"ticks\":\"\",\"zerolinecolor\":\"white\",\"gridwidth\":2}},\"shapedefaults\":{\"line\":{\"color\":\"#2a3f5f\"}},\"annotationdefaults\":{\"arrowcolor\":\"#2a3f5f\",\"arrowhead\":0,\"arrowwidth\":1},\"geo\":{\"bgcolor\":\"white\",\"landcolor\":\"#E5ECF6\",\"subunitcolor\":\"white\",\"showland\":true,\"showlakes\":true,\"lakecolor\":\"white\"},\"title\":{\"x\":0.05},\"mapbox\":{\"style\":\"light\"}}},\"coloraxis\":{\"colorbar\":{\"title\":{\"text\":\"GDP ($ per capita)\"}},\"colorscale\":[[0.0,\"rgb(103,0,31)\"],[0.1,\"rgb(178,24,43)\"],[0.2,\"rgb(214,96,77)\"],[0.3,\"rgb(244,165,130)\"],[0.4,\"rgb(253,219,199)\"],[0.5,\"rgb(247,247,247)\"],[0.6,\"rgb(209,229,240)\"],[0.7,\"rgb(146,197,222)\"],[0.8,\"rgb(67,147,195)\"],[0.9,\"rgb(33,102,172)\"],[1.0,\"rgb(5,48,97)\"]]},\"legend\":{\"tracegroupgap\":0},\"title\":{\"text\":\"World Population Distribution - colour encoded by G\"},\"height\":600,\"width\":1000},                        {\"responsive\": true}                    ).then(function(){\n                            \nvar gd = document.getElementById('19000943-be83-4715-96d5-cc54c52f0146');\nvar x = new MutationObserver(function (mutations, observer) {{\n        var display = window.getComputedStyle(gd).display;\n        if (!display || display === 'none') {{\n            console.log([gd, 'removed!']);\n            Plotly.purge(gd);\n            observer.disconnect();\n        }}\n}});\n\n// Listen for the removal of the full notebook cells\nvar notebookContainer = gd.closest('#notebook-container');\nif (notebookContainer) {{\n    x.observe(notebookContainer, {childList: true});\n}}\n\n// Listen for the clearing of the current output cell\nvar outputEl = gd.closest('.output');\nif (outputEl) {{\n    x.observe(outputEl, {childList: true});\n}}\n\n                        })                };                });            </script>        </div>"
     },
     "metadata": {},
     "output_type": "display_data"
    }
   ],
   "source": [
    "fig = px.treemap(world_data, path=['Region', 'Country'], values='Population', color='GDP ($ per capita)', color_continuous_scale='RdBu', width=1000, height=600, title='World Population Distribution - colour encoded by G')\n",
    "                              \n",
    "fig.show()"
   ]
  },
  {
   "cell_type": "code",
   "execution_count": null,
   "metadata": {},
   "outputs": [],
   "source": []
  }
 ],
 "metadata": {
  "kernelspec": {
   "display_name": "Python 3 (ipykernel)",
   "language": "python",
   "name": "python3"
  },
  "language_info": {
   "codemirror_mode": {
    "name": "ipython",
    "version": 3
   },
   "file_extension": ".py",
   "mimetype": "text/x-python",
   "name": "python",
   "nbconvert_exporter": "python",
   "pygments_lexer": "ipython3",
   "version": "3.10.2"
  }
 },
 "nbformat": 4,
 "nbformat_minor": 1
}